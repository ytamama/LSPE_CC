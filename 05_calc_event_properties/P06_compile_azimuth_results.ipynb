{
 "cells": [
  {
   "cell_type": "markdown",
   "id": "e90f5f68-a739-47a8-8e10-42ada083c1c5",
   "metadata": {},
   "source": [
    "## Compile the results of azimuth determination into one catalog\n",
    "\n",
    "### Import libraries"
   ]
  },
  {
   "cell_type": "code",
   "execution_count": 1,
   "id": "5fa49de8-f6a4-48f7-b107-5db96e245144",
   "metadata": {},
   "outputs": [],
   "source": [
    "import pandas as pd\n",
    "from datetime import datetime, timedelta\n",
    "import numpy as np\n",
    "import os\n",
    "import glob\n",
    "import sys"
   ]
  },
  {
   "cell_type": "markdown",
   "id": "2ce60305-71c9-424c-8af7-cd3b9361962b",
   "metadata": {},
   "source": [
    "### Load high-quality moonquake catalog"
   ]
  },
  {
   "cell_type": "code",
   "execution_count": 9,
   "id": "a436bf00-c82b-44a5-967d-f64e42422fe1",
   "metadata": {
    "tags": []
   },
   "outputs": [],
   "source": [
    "# Load\n",
    "mqdir1 = '../catalogs/final_catalogs/'\n",
    "cat = pd.read_csv(mqdir1 + 'A17_moonquakes_catalog_HQ_final.csv')\n",
    "cat.drop(list(cat.filter(regex='Unnamed|index|mean_cc')), axis=1, inplace=True)\n",
    "\n",
    "# Identify Grade AA and BB events\n",
    "cat_AA_BB = cat.loc[(cat.grade_new == 'AA') | (cat.grade_new == 'BB')]\n",
    "evids_hq = np.unique(cat_AA_BB.evid.tolist())"
   ]
  },
  {
   "cell_type": "markdown",
   "id": "0d19e0dc-df04-45cd-aab9-f1e54ef851b6",
   "metadata": {},
   "source": [
    "### Iteratively compile azimuth results\n",
    "\n",
    "#### Lag"
   ]
  },
  {
   "cell_type": "code",
   "execution_count": 10,
   "id": "999a8103-705d-433c-889e-e82438d6672a",
   "metadata": {
    "tags": []
   },
   "outputs": [],
   "source": [
    "azdir = '/data/ytamama/Apollo17/catalogs/cc_azimuths/'\n",
    "evids = []\n",
    "thetas = []\n",
    "xs_fin = []\n",
    "ys_fin = []\n",
    "misfits_fin = []\n",
    "\n",
    "for evid in evids_hq:\n",
    "    fname = glob.glob(f'{azdir}*{evid}_azimuth_results_lag.csv')[0]\n",
    "    cat = pd.read_csv(fname)\n",
    "    evids = np.concatenate([evids,cat.evid.tolist()])\n",
    "    thetas = np.concatenate([thetas,cat.theta.tolist()])\n",
    "    xs_fin = np.concatenate([xs_fin,cat.xs_fin.tolist()])\n",
    "    ys_fin = np.concatenate([ys_fin,cat.ys_fin.tolist()])\n",
    "    misfits_fin = np.concatenate([misfits_fin,cat.misfit_fin.tolist()])\n",
    "    "
   ]
  },
  {
   "cell_type": "code",
   "execution_count": 12,
   "id": "1e58681e-230d-401c-abd7-50d22ebe4606",
   "metadata": {},
   "outputs": [],
   "source": [
    "d = {'evid':evids, 'theta_deg':thetas, 'xs_fin':xs_fin, 'ys_fin':ys_fin,\n",
    "    'misfits_fin':misfits_fin}\n",
    "lag_df = pd.DataFrame(data = d)\n",
    "mqdir = '../catalogs/azimuths/'\n",
    "lag_df.to_csv(mqdir + 'A17_moonquakes_AA_BB_azimuths_lag.csv',index=False)"
   ]
  },
  {
   "cell_type": "markdown",
   "id": "97bbd5b6-2b6b-46bd-8f92-dbd956624f59",
   "metadata": {},
   "source": [
    "#### SNR"
   ]
  },
  {
   "cell_type": "code",
   "execution_count": 13,
   "id": "b19d97c0-144f-4e52-89e6-fb2323d346c7",
   "metadata": {},
   "outputs": [],
   "source": [
    "evids = []\n",
    "thetas = []\n",
    "xs_fin = []\n",
    "ys_fin = []\n",
    "misfits_fin = []\n",
    "\n",
    "for evid in evids_hq:\n",
    "    fname = glob.glob(f'{azdir}*{evid}_azimuth_results_SNR.csv')[0]\n",
    "    cat = pd.read_csv(fname)\n",
    "    evids = np.concatenate([evids,cat.evid.tolist()])\n",
    "    thetas = np.concatenate([thetas,cat.theta.tolist()])\n",
    "    xs_fin = np.concatenate([xs_fin,cat.xs_fin.tolist()])\n",
    "    ys_fin = np.concatenate([ys_fin,cat.ys_fin.tolist()])\n",
    "    misfits_fin = np.concatenate([misfits_fin,cat.misfit_fin.tolist()])\n",
    "    "
   ]
  },
  {
   "cell_type": "code",
   "execution_count": 14,
   "id": "e76232af-d2cf-45b1-ae75-7a810e6d38f7",
   "metadata": {},
   "outputs": [],
   "source": [
    "d = {'evid':evids, 'theta_deg':thetas, 'xs_fin':xs_fin, 'ys_fin':ys_fin,\n",
    "    'misfits_fin':misfits_fin}\n",
    "snr_df = pd.DataFrame(data = d)\n",
    "snr_df.to_csv(mqdir + 'A17_moonquakes_AA_BB_azimuths_SNR.csv',index=False)"
   ]
  },
  {
   "cell_type": "code",
   "execution_count": null,
   "id": "f1f4f87a-d93c-4356-90fd-d8b6783f2f19",
   "metadata": {},
   "outputs": [],
   "source": []
  }
 ],
 "metadata": {
  "kernelspec": {
   "display_name": "Python 3 (ipykernel)",
   "language": "python",
   "name": "python3"
  },
  "language_info": {
   "codemirror_mode": {
    "name": "ipython",
    "version": 3
   },
   "file_extension": ".py",
   "mimetype": "text/x-python",
   "name": "python",
   "nbconvert_exporter": "python",
   "pygments_lexer": "ipython3",
   "version": "3.7.16"
  }
 },
 "nbformat": 4,
 "nbformat_minor": 5
}
