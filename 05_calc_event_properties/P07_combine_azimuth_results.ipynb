{
 "cells": [
  {
   "cell_type": "markdown",
   "id": "ac50d5e7-3bbc-468e-9db6-c8b51a449204",
   "metadata": {},
   "source": [
    "## Calculate mean and standard deviation of azimuth results for each Grade AA and BB event\n",
    "\n",
    "### Import libraries"
   ]
  },
  {
   "cell_type": "code",
   "execution_count": 1,
   "id": "70c495df-2a60-49f8-a2e9-d213ab0a2115",
   "metadata": {},
   "outputs": [],
   "source": [
    "import pandas as pd\n",
    "from datetime import datetime, timedelta\n",
    "import numpy as np\n",
    "import os\n",
    "import glob\n",
    "import sys\n",
    "from scipy import stats"
   ]
  },
  {
   "cell_type": "markdown",
   "id": "8f65141c-cc22-4ada-93c1-4e3bc94db5b8",
   "metadata": {},
   "source": [
    "### Load catalog of high quality events"
   ]
  },
  {
   "cell_type": "code",
   "execution_count": 2,
   "id": "a49e971c-ace1-4f9b-9e3a-8f3389e73284",
   "metadata": {},
   "outputs": [],
   "source": [
    "mqdir1 = '../catalogs/final_catalogs/'\n",
    "cat = pd.read_csv(mqdir1 + 'A17_moonquakes_catalog_HQ_final.csv')\n",
    "cat.drop(list(cat.filter(regex='Unnamed|index|mean_cc')), axis=1, inplace=True)"
   ]
  },
  {
   "cell_type": "markdown",
   "id": "8fb1c955-d589-403a-a364-975149ba1101",
   "metadata": {},
   "source": [
    "### Load catalogs of azimuth results"
   ]
  },
  {
   "cell_type": "code",
   "execution_count": 3,
   "id": "f2275f80-3301-4f8d-b174-5e2c5dcd755c",
   "metadata": {},
   "outputs": [],
   "source": [
    "# Lag\n",
    "mqdir2 = '../catalogs/azimuths/'\n",
    "lag_df = pd.read_csv(mqdir2 + 'A17_moonquakes_AA_BB_azimuths_lag.csv')\n",
    "\n",
    "# SNR function\n",
    "snr_df = pd.read_csv(mqdir2 + 'A17_moonquakes_AA_BB_azimuths_SNR.csv')"
   ]
  },
  {
   "cell_type": "markdown",
   "id": "2cd75cc2-821c-4ea2-854b-0917e960f4b8",
   "metadata": {},
   "source": [
    "### Iterate through each event and calculate mean and SD of azimuth results"
   ]
  },
  {
   "cell_type": "code",
   "execution_count": 13,
   "id": "74c7dc67-4a96-4d7f-8173-d86e9371218a",
   "metadata": {},
   "outputs": [],
   "source": [
    "mean_azimuths_lag = []\n",
    "sd_azimuths_lag = []\n",
    "mean_azimuths_snr = []\n",
    "sd_azimuths_snr = []\n",
    "\n",
    "# Iterate through rows of moonquake\n",
    "for r in np.arange(0,len(cat)):\n",
    "    \n",
    "    # Check for azimuth results\n",
    "    row = cat.iloc[r]\n",
    "    evid = row.evid\n",
    "    rows_lag = lag_df.loc[lag_df.evid == evid]\n",
    "    rows_snr = snr_df.loc[snr_df.evid == evid]\n",
    "    \n",
    "    # Results don't exist\n",
    "    if len(rows_lag) == 0:\n",
    "        mean_azimuths_lag.append(-1)\n",
    "        sd_azimuths_lag.append(-1)\n",
    "        mean_azimuths_snr.append(-1)\n",
    "        sd_azimuths_snr.append(-1)\n",
    "    \n",
    "    # Results exist\n",
    "    else:\n",
    "        # Azimuths of each iteration\n",
    "        thetas_lag = np.array(rows_lag.theta_deg.tolist())\n",
    "        thetas_snr = np.array(rows_snr.theta_deg.tolist())\n",
    "        \n",
    "        # Calculate circular mean and standard deviation following Mardia and Jupp (1999)\n",
    "        # Mardia, K.V. & Jupp, P.E., 1999. Circular Data. in Directional Statistics, \n",
    "        # pp. 1–12, John Wiley & Sons, Ltd. doi:10.1002/9780470316979.ch1\n",
    "        mean_lag = np.rad2deg(stats.circmean(np.deg2rad(thetas_lag)))\n",
    "        sd_lag = np.rad2deg(stats.circstd(np.deg2rad(thetas_lag)))\n",
    "        mean_snr = np.rad2deg(stats.circmean(np.deg2rad(thetas_snr)))\n",
    "        sd_snr = np.rad2deg(stats.circstd(np.deg2rad(thetas_snr)))\n",
    "        \n",
    "        # Append\n",
    "        mean_azimuths_lag.append(mean_lag)\n",
    "        sd_azimuths_lag.append(sd_lag)\n",
    "        mean_azimuths_snr.append(mean_snr)\n",
    "        sd_azimuths_snr.append(sd_snr)"
   ]
  },
  {
   "cell_type": "markdown",
   "id": "928501b5-9dca-4968-869d-9fc60c985c3a",
   "metadata": {},
   "source": [
    "### Add to catalog and save"
   ]
  },
  {
   "cell_type": "code",
   "execution_count": 14,
   "id": "708d8a05-6742-4100-a6a2-3c6442b53d1b",
   "metadata": {},
   "outputs": [],
   "source": [
    "cat['theta_mean_lag_deg'] = mean_azimuths_lag\n",
    "cat['theta_sd_lag_deg'] = sd_azimuths_lag\n",
    "cat['theta_mean_snr_deg'] = mean_azimuths_snr\n",
    "cat['theta_sd_snr_deg'] = sd_azimuths_snr"
   ]
  },
  {
   "cell_type": "code",
   "execution_count": 15,
   "id": "2bb45fe8-038d-44a8-ad0b-afcacb201339",
   "metadata": {},
   "outputs": [],
   "source": [
    "cat.to_csv(mqdir1 + 'A17_moonquakes_catalog_HQ_final.csv',index=False)"
   ]
  },
  {
   "cell_type": "code",
   "execution_count": null,
   "id": "b0c2821f-5a12-44ef-9421-43dd0a7cca71",
   "metadata": {},
   "outputs": [],
   "source": []
  }
 ],
 "metadata": {
  "kernelspec": {
   "display_name": "Python 3 (ipykernel)",
   "language": "python",
   "name": "python3"
  },
  "language_info": {
   "codemirror_mode": {
    "name": "ipython",
    "version": 3
   },
   "file_extension": ".py",
   "mimetype": "text/x-python",
   "name": "python",
   "nbconvert_exporter": "python",
   "pygments_lexer": "ipython3",
   "version": "3.7.16"
  }
 },
 "nbformat": 4,
 "nbformat_minor": 5
}
