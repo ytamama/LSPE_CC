{
 "cells": [
  {
   "cell_type": "markdown",
   "id": "988e0bb6-0ab7-469f-81dd-2b7a0e400770",
   "metadata": {},
   "source": [
    "## Average stats across all high-quality waveforms for each event\n",
    "\n",
    "### Import libraries"
   ]
  },
  {
   "cell_type": "code",
   "execution_count": 1,
   "id": "f5bc0919-267f-4c79-b14a-2ec96479a932",
   "metadata": {},
   "outputs": [],
   "source": [
    "import pandas as pd\n",
    "from datetime import datetime, timedelta\n",
    "import numpy as np\n",
    "import os\n",
    "import glob\n",
    "import sys"
   ]
  },
  {
   "cell_type": "markdown",
   "id": "9d9e1c0f-c9bd-4019-b45b-8e531a32fab9",
   "metadata": {},
   "source": [
    "### Load catalog of high quality isolated and repeating detections"
   ]
  },
  {
   "cell_type": "code",
   "execution_count": 2,
   "id": "f181c638-2eca-4e87-85f6-c06d2497c353",
   "metadata": {},
   "outputs": [],
   "source": [
    "mqdir = '../catalogs/final_catalogs/'\n",
    "cat = pd.read_csv(mqdir + 'A17_moonquakes_catalog_HQ_final.csv')\n",
    "cat.drop(list(cat.filter(regex='Unnamed|index')), axis=1, inplace=True)\n",
    "evids = np.unique(cat.evid.tolist())"
   ]
  },
  {
   "cell_type": "markdown",
   "id": "f700d172-52e8-42cb-8a9b-274b2db3912a",
   "metadata": {},
   "source": [
    "### Iterate through events and average waveform characteristics"
   ]
  },
  {
   "cell_type": "code",
   "execution_count": 3,
   "id": "915c7cbf-22fd-43b0-8e67-98af75908bc9",
   "metadata": {},
   "outputs": [],
   "source": [
    "avg_picktimes = []\n",
    "temps_reg_avg = []\n",
    "temps_rock_avg = []\n",
    "int_day_nums_avg = []\n",
    "pgvs_avg = []\n",
    "durations_avg = []\n",
    "emergences_avg = []\n",
    "azimuths_lag = []\n",
    "sds_lag = []\n",
    "azimuths_snr = []\n",
    "sds_snr = []\n",
    "grades_new = []\n",
    "isol_or_rpt = []\n",
    "evid_refs = []\n",
    "\n",
    "# Iterate\n",
    "for evid in evids:\n",
    "    rows = cat.loc[cat.evid == evid]\n",
    "    \n",
    "    # Average temperatures, durations, PGV, emergence\n",
    "    avg_temp_reg = np.mean(np.array(rows.Regolith_Temp_K.tolist()))\n",
    "    avg_temp_rock = np.mean(np.array(rows.Rock_Temp_K.tolist()))\n",
    "    avg_day_num = np.mean(np.array(rows.interval_day_number.tolist()))\n",
    "    avg_PGV = np.mean(np.array(rows.PGV.tolist()))\n",
    "    avg_duration = np.mean(np.array(rows.Rock_Temp_K.tolist()))\n",
    "    avg_emergence = np.mean(np.array(rows.emergence_s.tolist()))\n",
    "    \n",
    "    # Average pick time\n",
    "    picktimes = [datetime.strptime(mqdate, '%Y-%m-%d %H:%M:%S.%f') for mqdate in rows.picktime_SNR.tolist()]\n",
    "    mintime = min(picktimes)\n",
    "    timedeltas = []\n",
    "    for a in np.arange(0,len(picktimes)):\n",
    "        arrtime = picktimes[a]\n",
    "        timedeltas.append((arrtime - mintime).total_seconds())\n",
    "    #\n",
    "    mean_timedelta = np.mean(timedeltas)\n",
    "    mean_time = mintime + timedelta(seconds = mean_timedelta)\n",
    "    \n",
    "    # Obtain azimuths (already same across geophones)\n",
    "    az_lag = np.array(rows.theta_mean_lag_deg.tolist())[0]\n",
    "    sd_lag = np.array(rows.theta_sd_lag_deg.tolist())[0]\n",
    "    az_snr = np.array(rows.theta_mean_snr_deg.tolist())[0]\n",
    "    sd_snr = np.array(rows.theta_sd_snr_deg.tolist())[0]\n",
    "    \n",
    "    # Grade + isolated or repeating\n",
    "    grade_new = np.array(rows.grade_new.tolist())[0]\n",
    "    classification = np.array(rows.isol_or_rpt.tolist())[0]\n",
    "    evid_ref = np.array(rows.evid_ref.tolist())[0]\n",
    "    \n",
    "    # Append values to arrays\n",
    "    avg_picktimes.append(mean_time)\n",
    "    temps_reg_avg.append(avg_temp_reg)\n",
    "    temps_rock_avg.append(avg_temp_rock)\n",
    "    int_day_nums_avg.append(avg_day_num)\n",
    "    pgvs_avg.append(avg_PGV)\n",
    "    durations_avg.append(avg_duration)\n",
    "    emergences_avg.append(avg_emergence)\n",
    "    azimuths_lag.append(az_lag)\n",
    "    sds_lag.append(sd_lag)\n",
    "    azimuths_snr.append(az_snr)\n",
    "    sds_snr.append(sd_snr)\n",
    "    grades_new.append(grade_new)\n",
    "    isol_or_rpt.append(classification)\n",
    "    evid_refs.append(evid_ref)"
   ]
  },
  {
   "cell_type": "markdown",
   "id": "43d3a30e-f1f3-41b2-9a4e-9b55503f816e",
   "metadata": {},
   "source": [
    "### Construct a new dataframe"
   ]
  },
  {
   "cell_type": "code",
   "execution_count": 4,
   "id": "ae5dc09f-a68b-4ea1-97bc-85a00df8126c",
   "metadata": {},
   "outputs": [],
   "source": [
    "d = {'evid':evids, 'evid_ref':evid_refs, 'avg_picktime_SNR':avg_picktimes, 'grade_new':grades_new, 'isol_or_rpt':isol_or_rpt, 'avg_temp_Regolith_K':temps_reg_avg, \n",
    "    'avg_temp_Rock_K':temps_rock_avg, 'avg_interval_day':int_day_nums_avg, 'avg_PGV':pgvs_avg, 'avg_duration_s':durations_avg, \n",
    "    'avg_emergence_s':emergences_avg, 'theta_mean_lag_deg':azimuths_lag, 'theta_sd_lag_deg':sds_lag, \n",
    "    'theta_mean_snr_deg':azimuths_snr, 'theta_sd_snr_deg':sds_snr}\n",
    "avg_df = pd.DataFrame(data = d)\n",
    "avg_df.to_csv(mqdir + 'A17_moonquakes_catalog_HQ_avg_event_stats.csv',index=False)"
   ]
  },
  {
   "cell_type": "code",
   "execution_count": null,
   "id": "9da95d15-6ade-486a-a915-af32f90c091b",
   "metadata": {},
   "outputs": [],
   "source": []
  }
 ],
 "metadata": {
  "kernelspec": {
   "display_name": "Python 3 (ipykernel)",
   "language": "python",
   "name": "python3"
  },
  "language_info": {
   "codemirror_mode": {
    "name": "ipython",
    "version": 3
   },
   "file_extension": ".py",
   "mimetype": "text/x-python",
   "name": "python",
   "nbconvert_exporter": "python",
   "pygments_lexer": "ipython3",
   "version": "3.7.16"
  }
 },
 "nbformat": 4,
 "nbformat_minor": 5
}
