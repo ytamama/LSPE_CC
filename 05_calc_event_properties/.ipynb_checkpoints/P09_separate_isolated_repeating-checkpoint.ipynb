{
 "cells": [
  {
   "cell_type": "markdown",
   "id": "8ef0eff7-d09f-4232-bcfb-1ea4472e97b6",
   "metadata": {},
   "source": [
    "## Separate catalogs into isolated vs. repeating events\n",
    "\n",
    "### Import libraries"
   ]
  },
  {
   "cell_type": "code",
   "execution_count": 1,
   "id": "595ef34a-6616-4175-8471-0cdf1428a1ea",
   "metadata": {
    "tags": []
   },
   "outputs": [],
   "source": [
    "import pandas as pd\n",
    "import numpy as np\n",
    "import os\n",
    "import glob\n",
    "import sys"
   ]
  },
  {
   "cell_type": "markdown",
   "id": "92913241-26b0-4a6d-a009-2878363e97b6",
   "metadata": {},
   "source": [
    "### Load catalogs"
   ]
  },
  {
   "cell_type": "code",
   "execution_count": 2,
   "id": "c7bf1052-5b78-4275-b1ed-cd4c64ed0840",
   "metadata": {
    "tags": []
   },
   "outputs": [],
   "source": [
    "# Catalog with information by geophone\n",
    "mqdir1 = '../catalogs/final_catalogs/'\n",
    "cat1 = pd.read_csv(mqdir1 + 'A17_moonquakes_catalog_HQ_final.csv')\n",
    "cat1.drop(list(cat1.filter(regex='Unnamed|index')), axis=1, inplace=True)\n",
    "\n",
    "# Catalog with information averaged per event\n",
    "cat2 = pd.read_csv(mqdir1 + 'A17_moonquakes_catalog_HQ_avg_event_stats.csv')\n",
    "cat2.drop(list(cat2.filter(regex='Unnamed|index')), axis=1, inplace=True)"
   ]
  },
  {
   "cell_type": "markdown",
   "id": "59aa53b7-1c44-4ec8-8537-33f8bc12f647",
   "metadata": {},
   "source": [
    "### Separate isolated events"
   ]
  },
  {
   "cell_type": "code",
   "execution_count": 3,
   "id": "bb8b0740-0d3f-4525-93e2-030b8c9b2a25",
   "metadata": {
    "tags": []
   },
   "outputs": [],
   "source": [
    "isolated_cat1 = cat1.loc[cat1.isol_or_rpt == 'isolated']\n",
    "isolated_cat1 = isolated_cat1.reset_index()\n",
    "isolated_cat1.drop(list(isolated_cat1.filter(regex='Unnamed|index')), axis=1, inplace=True)\n",
    "mqdir2 = mqdir1 + 'isolated_vs_repeating/'\n",
    "isolated_cat1.to_csv(mqdir2 + 'A17_isolated_catalog_HQ_final.csv',index=False)"
   ]
  },
  {
   "cell_type": "code",
   "execution_count": 4,
   "id": "634203de-1a6e-4d02-8b9a-da8bd7426e5c",
   "metadata": {
    "tags": []
   },
   "outputs": [],
   "source": [
    "isolated_cat2 = cat2.loc[cat2.isol_or_rpt == 'isolated']\n",
    "isolated_cat2 = isolated_cat2.reset_index()\n",
    "isolated_cat2.drop(list(isolated_cat2.filter(regex='Unnamed|index')), axis=1, inplace=True)\n",
    "isolated_cat2.to_csv(mqdir2 + 'A17_isolated_catalog_HQ_avg_event_stats.csv',index=False)"
   ]
  },
  {
   "cell_type": "code",
   "execution_count": 5,
   "id": "da2e4028-11ea-46e6-b588-0ef24e33c134",
   "metadata": {
    "tags": []
   },
   "outputs": [
    {
     "data": {
      "text/plain": [
       "5689"
      ]
     },
     "execution_count": 5,
     "metadata": {},
     "output_type": "execute_result"
    }
   ],
   "source": [
    "len(isolated_cat2)"
   ]
  },
  {
   "cell_type": "markdown",
   "id": "6e41336a-f4f3-48db-ac03-5b5dbd99e5ce",
   "metadata": {},
   "source": [
    "### Separate repeating events"
   ]
  },
  {
   "cell_type": "code",
   "execution_count": 6,
   "id": "f537fcfe-b7ec-44b3-9f35-76ac97331d8f",
   "metadata": {
    "tags": []
   },
   "outputs": [],
   "source": [
    "repeating_cat1 = cat1.loc[cat1.isol_or_rpt == 'repeating']\n",
    "repeating_cat1 = repeating_cat1.reset_index()\n",
    "repeating_cat1.drop(list(repeating_cat1.filter(regex='Unnamed|index')), axis=1, inplace=True)\n",
    "repeating_cat1.to_csv(mqdir2 + 'A17_repeating_catalog_HQ_final.csv',index=False)"
   ]
  },
  {
   "cell_type": "code",
   "execution_count": 7,
   "id": "117f04cd-aaf0-4aa4-a881-83a58da9a573",
   "metadata": {
    "tags": []
   },
   "outputs": [],
   "source": [
    "repeating_cat2 = cat2.loc[cat2.isol_or_rpt == 'repeating']\n",
    "repeating_cat2 = repeating_cat2.reset_index()\n",
    "repeating_cat2.drop(list(repeating_cat2.filter(regex='Unnamed|index')), axis=1, inplace=True)\n",
    "repeating_cat2.to_csv(mqdir2 + 'A17_repeating_catalog_HQ_avg_event_stats.csv',index=False)"
   ]
  },
  {
   "cell_type": "code",
   "execution_count": 8,
   "id": "3348ccbb-c219-4740-aa5e-d7eb843724dc",
   "metadata": {},
   "outputs": [
    {
     "data": {
      "text/plain": [
       "2412"
      ]
     },
     "execution_count": 8,
     "metadata": {},
     "output_type": "execute_result"
    }
   ],
   "source": [
    "len(repeating_cat2)"
   ]
  },
  {
   "cell_type": "code",
   "execution_count": null,
   "id": "22816932-731d-4075-b307-b320d749f061",
   "metadata": {},
   "outputs": [],
   "source": []
  }
 ],
 "metadata": {
  "kernelspec": {
   "display_name": "Python 3 (ipykernel)",
   "language": "python",
   "name": "python3"
  },
  "language_info": {
   "codemirror_mode": {
    "name": "ipython",
    "version": 3
   },
   "file_extension": ".py",
   "mimetype": "text/x-python",
   "name": "python",
   "nbconvert_exporter": "python",
   "pygments_lexer": "ipython3",
   "version": "3.7.16"
  }
 },
 "nbformat": 4,
 "nbformat_minor": 5
}
