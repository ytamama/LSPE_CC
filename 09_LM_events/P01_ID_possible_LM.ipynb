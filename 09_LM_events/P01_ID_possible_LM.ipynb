{
 "cells": [
  {
   "cell_type": "markdown",
   "id": "a2fa36b1-4794-49ad-8441-e3c2f4e4e85b",
   "metadata": {},
   "source": [
    "## Identify possible LM events among repeating and isolated events\n",
    "\n",
    "### Import libraries"
   ]
  },
  {
   "cell_type": "code",
   "execution_count": 11,
   "id": "b48d4989-66de-4466-975e-ddb931925818",
   "metadata": {
    "tags": []
   },
   "outputs": [],
   "source": [
    "import pandas as pd\n",
    "from datetime import datetime, timedelta\n",
    "import numpy as np\n",
    "import os\n",
    "import glob\n",
    "import sys"
   ]
  },
  {
   "cell_type": "markdown",
   "id": "bdc25883-dc2f-42af-96b6-6bef7687965e",
   "metadata": {},
   "source": [
    "### Load catalog of repeating events"
   ]
  },
  {
   "cell_type": "code",
   "execution_count": 12,
   "id": "4d1f0ab7-0f30-4d35-9309-98110a063b9b",
   "metadata": {
    "tags": []
   },
   "outputs": [],
   "source": [
    "# Catalog with information by geophone\n",
    "mqdir1 = '../catalogs/final_catalogs/isolated_vs_repeating/'\n",
    "cat1 = pd.read_csv(mqdir1 + 'A17_repeating_catalog_HQ_final.csv')\n",
    "cat1.drop(list(cat1.filter(regex='Unnamed|index')), axis=1, inplace=True)\n",
    "\n",
    "# Catalog with information averaged per event\n",
    "cat2 = pd.read_csv(mqdir1 + 'A17_repeating_catalog_HQ_avg_event_stats.csv')\n",
    "cat2.drop(list(cat2.filter(regex='Unnamed|index')), axis=1, inplace=True)\n",
    "evid_refs = np.unique(cat2.evid_ref.tolist())"
   ]
  },
  {
   "cell_type": "markdown",
   "id": "82692c7b-5433-4de7-b69e-044e1abd60ae",
   "metadata": {},
   "source": [
    "### Remove Geophone 3 and Geophone 4 events"
   ]
  },
  {
   "cell_type": "code",
   "execution_count": 13,
   "id": "9da96daa-1f3a-4a4c-865f-5675aa13e1d6",
   "metadata": {
    "tags": []
   },
   "outputs": [],
   "source": [
    "# Geophone 3 events\n",
    "mqdir2 = '../catalogs/final_catalogs/geo3_geo4_events/'\n",
    "cat3 = pd.read_csv(mqdir2 + 'Geophone3_events_catalog_HQ_final.csv')\n",
    "evids3 = np.unique(cat3.evid.tolist())\n",
    "\n",
    "# Geophone 4 events\n",
    "cat4 = pd.read_csv(mqdir2 + 'Geophone4_events_catalog_HQ_final.csv')\n",
    "evids4 = np.unique(cat4.evid.tolist())\n",
    "\n",
    "# Remove events\n",
    "cat1_left = cat1.loc[~cat1['evid'].isin(evids3)]\n",
    "cat1_left = cat1_left.loc[~cat1_left['evid'].isin(evids4)]"
   ]
  },
  {
   "cell_type": "markdown",
   "id": "e2e6de03-efbe-4eca-a54a-1b0bbac5bb45",
   "metadata": {},
   "source": [
    "### Remove events from the 3 largest families"
   ]
  },
  {
   "cell_type": "code",
   "execution_count": 14,
   "id": "d1c8444b-f43b-400c-84d5-7da279f76385",
   "metadata": {
    "tags": []
   },
   "outputs": [],
   "source": [
    "evids_ref_LM = ['761226-15-M1', '761029-04-M3', '761227-18-M6']\n",
    "cat1_left = cat1_left.loc[~cat1_left['evid_ref'].isin(evids_ref_LM)]\n",
    "evid_refs = np.unique(cat1_left.evid_ref.tolist())"
   ]
  },
  {
   "cell_type": "markdown",
   "id": "99e50ad5-4549-4991-86c2-e69ad8bb6596",
   "metadata": {},
   "source": [
    "### Identify families whose avg. PGV is greatest at geophone 1, smallest at geophone 2, and has an average emergence of under 15 seconds"
   ]
  },
  {
   "cell_type": "code",
   "execution_count": 15,
   "id": "17ff580e-54fd-4c30-8d96-d6bb848c00e8",
   "metadata": {
    "tags": []
   },
   "outputs": [],
   "source": [
    "for evid in evid_refs:\n",
    "    # Event info\n",
    "    rows1 = cat1.loc[(cat1.evid_ref == evid)]\n",
    "    \n",
    "    # Skip if data aren't available for Geophones 1 or 2\n",
    "    rows1_geo1 = rows1.loc[rows1.geophone == 1]\n",
    "    rows1_geo2 = rows1.loc[rows1.geophone == 2]\n",
    "    if (len(rows1_geo1) == 0) | (len(rows1_geo2) == 0):\n",
    "        continue\n",
    "        \n",
    "    # Check PGVS\n",
    "    pgv_geo1 = np.mean(rows1_geo1.PGV.tolist())\n",
    "    pgv_geo2 = np.mean(rows1_geo2.PGV.tolist())\n",
    "    rows1_geo3 = rows1.loc[rows1.geophone == 3]\n",
    "    rows1_geo4 = rows1.loc[rows1.geophone == 4]\n",
    "    pgv_geo3 = np.mean(rows1_geo3.PGV.tolist())\n",
    "    pgv_geo4 = np.mean(rows1_geo4.PGV.tolist())\n",
    "    pgvs = np.array([pgv_geo1, pgv_geo2, pgv_geo3, pgv_geo4])\n",
    "    if (pgv_geo1 == np.max(pgvs)) & (pgv_geo2 == np.min(pgvs)):\n",
    "        check1 = True\n",
    "    else:\n",
    "        check1 = False\n",
    "        \n",
    "    # Check emergence\n",
    "    emergences = np.array(rows1.emergence_s.tolist())\n",
    "    emg_mean = np.mean(emergences)\n",
    "    if emg_mean <= 15:\n",
    "        check2 = True\n",
    "    else:\n",
    "        check2 = False\n",
    "\n",
    "    # Check PGV:     \n",
    "    if (check1 == True) & (check2 == True):\n",
    "        evids_ref_LM.append(evid)"
   ]
  },
  {
   "cell_type": "markdown",
   "id": "c766dd3f-1734-414a-9455-b1db523d3de9",
   "metadata": {},
   "source": [
    "### Catalog LM events"
   ]
  },
  {
   "cell_type": "code",
   "execution_count": 20,
   "id": "194c41da-a0a6-4666-9898-4872957f1de1",
   "metadata": {},
   "outputs": [],
   "source": [
    "cat1_LM_rpt = cat1[cat1['evid_ref'].isin(evids_ref_LM)]\n",
    "cat1_LM_rpt = cat1_LM_rpt.reset_index()\n",
    "cat1_LM_rpt.drop(list(cat1_LM_rpt.filter(regex='Unnamed|index')), axis=1, inplace=True)"
   ]
  },
  {
   "cell_type": "code",
   "execution_count": 21,
   "id": "964c2556-6316-4e3f-94b8-7f9c874bb4cd",
   "metadata": {},
   "outputs": [],
   "source": [
    "cat2_LM_rpt = cat2[cat2['evid_ref'].isin(evids_ref_LM)]\n",
    "cat2_LM_rpt = cat2_LM_rpt.reset_index()\n",
    "cat2_LM_rpt.drop(list(cat2_LM_rpt.filter(regex='Unnamed|index')), axis=1, inplace=True)"
   ]
  },
  {
   "cell_type": "code",
   "execution_count": 22,
   "id": "a287bd9e-4b0e-4249-823c-2cd8abe5d721",
   "metadata": {
    "tags": []
   },
   "outputs": [],
   "source": [
    "mqdir3 = '../catalogs/final_catalogs/LM_vs_boulder_vs_other/'\n",
    "cat1_LM_rpt.to_csv(mqdir3 + 'A17_repeating_LM_catalog_HQ_final.csv',index=False)\n",
    "cat2_LM_rpt.to_csv(mqdir3 + 'A17_repeating_LM_catalog_HQ_avg_event_stats.csv',index=False)"
   ]
  },
  {
   "cell_type": "markdown",
   "id": "5251e73b-e6c9-4747-a671-0e6abe7eab94",
   "metadata": {},
   "source": [
    "### Load catalogs of isolated events"
   ]
  },
  {
   "cell_type": "code",
   "execution_count": 23,
   "id": "162a9627-83f3-4510-8495-4c51cef245a2",
   "metadata": {
    "tags": []
   },
   "outputs": [],
   "source": [
    "# Catalog with information by geophone\n",
    "cat1 = pd.read_csv(mqdir1 + 'A17_isolated_catalog_HQ_final.csv')\n",
    "cat1.drop(list(cat1.filter(regex='Unnamed|index')), axis=1, inplace=True)\n",
    "\n",
    "# Catalog with information averaged per event\n",
    "cat2 = pd.read_csv(mqdir1 + 'A17_isolated_catalog_HQ_avg_event_stats.csv')\n",
    "cat2.drop(list(cat2.filter(regex='Unnamed|index')), axis=1, inplace=True)"
   ]
  },
  {
   "cell_type": "markdown",
   "id": "3f766a36-3680-49f7-8b94-05dfe1548b72",
   "metadata": {},
   "source": [
    "### Remove Geophone 3 and Geophone 4 events"
   ]
  },
  {
   "cell_type": "code",
   "execution_count": 24,
   "id": "79a48826-bb81-408d-b86e-228c25954562",
   "metadata": {
    "tags": []
   },
   "outputs": [],
   "source": [
    "# Remove events\n",
    "cat1_left = cat1.loc[~cat1['evid'].isin(evids3)]\n",
    "cat1_left = cat1_left.loc[~cat1_left['evid'].isin(evids4)]\n",
    "evids_all = np.unique(cat1_left.evid.tolist())"
   ]
  },
  {
   "cell_type": "markdown",
   "id": "c0cdce48-ca5d-451c-81c2-d1f0271253e0",
   "metadata": {},
   "source": [
    "### Iterate through isolated moonquakes"
   ]
  },
  {
   "cell_type": "code",
   "execution_count": 25,
   "id": "2aed9c65-6419-47e4-bb26-584348cf0a63",
   "metadata": {
    "tags": []
   },
   "outputs": [],
   "source": [
    "evids_LM = []\n",
    "for evid in evids_all:\n",
    "    # Event info\n",
    "    rows1 = cat1.loc[cat1.evid == evid]\n",
    "    row2 = cat2.loc[cat2.evid == evid].iloc[0]\n",
    "\n",
    "    # Check there are high quality records at geophones 1 and 2\n",
    "    rows_geo12 = rows1.loc[((rows1.geophone == 1) | (rows1.geophone == 2))]\n",
    "    if len(rows_geo12) < 2:\n",
    "        continue\n",
    "        \n",
    "    # Check emergence\n",
    "    emergence = row2.avg_emergence_s\n",
    "    check1 = (emergence <= 15)\n",
    "\n",
    "    # Check PGVs\n",
    "    rows1 = rows1.sort_values(by=['PGV'],ascending=False,ignore_index=True)\n",
    "    geo_max = rows1.iloc[0].geophone\n",
    "    geo_min = rows1.iloc[-1].geophone\n",
    "    if ((geo_max != 1) | (geo_min != 2)):\n",
    "        check2 = False\n",
    "    else:\n",
    "        check2 = True\n",
    "            \n",
    "    if (check1 == True) & (check2 == True):\n",
    "        evids_LM.append(evid)"
   ]
  },
  {
   "cell_type": "code",
   "execution_count": 26,
   "id": "d92ee22c-27f0-4106-ae3e-40e654ba35e1",
   "metadata": {},
   "outputs": [],
   "source": [
    "# Catalog isolated LM events\n",
    "cat1_LM_isol = cat1[cat1['evid'].isin(evids_LM)]\n",
    "cat1_LM_isol = cat1_LM_isol.reset_index()\n",
    "cat1_LM_isol.drop(list(cat1_LM_isol.filter(regex='Unnamed|index')), axis=1, inplace=True)"
   ]
  },
  {
   "cell_type": "code",
   "execution_count": 27,
   "id": "54507b22-7027-425b-a242-dda56173bca9",
   "metadata": {},
   "outputs": [],
   "source": [
    "cat2_LM_isol = cat2[cat2['evid'].isin(evids_LM)]\n",
    "cat2_LM_isol = cat2_LM_isol.reset_index()\n",
    "cat2_LM_isol.drop(list(cat2_LM_isol.filter(regex='Unnamed|index')), axis=1, inplace=True)"
   ]
  },
  {
   "cell_type": "code",
   "execution_count": 28,
   "id": "554fbab1-7c39-43da-bdbe-54e5e6d7e685",
   "metadata": {
    "tags": []
   },
   "outputs": [],
   "source": [
    "cat1_LM_isol.to_csv(mqdir3 + 'A17_isolated_LM_catalog_HQ_final.csv',index=False)\n",
    "cat2_LM_isol.to_csv(mqdir3 + 'A17_isolated_LM_catalog_HQ_avg_event_stats.csv',index=False)"
   ]
  },
  {
   "cell_type": "markdown",
   "id": "0035eadc-61bf-41c9-a4f7-c8b6cc7b9619",
   "metadata": {},
   "source": [
    "### Combine repeating and isolated LM catalogs"
   ]
  },
  {
   "cell_type": "code",
   "execution_count": 29,
   "id": "ddb1bdd4-a07e-4318-b34b-9e367795e8c5",
   "metadata": {},
   "outputs": [],
   "source": [
    "cat1_LM = pd.concat([cat1_LM_rpt, cat1_LM_isol])\n",
    "cat1_LM = cat1_LM.reset_index()\n",
    "cat1_LM.drop(list(cat1_LM.filter(regex='Unnamed|index')), axis=1, inplace=True)\n",
    "cat1_LM.to_csv(mqdir3 + 'A17_LM_catalog_HQ_final.csv',index=False)\n",
    "\n",
    "cat2_LM = pd.concat([cat2_LM_rpt, cat2_LM_isol])\n",
    "cat2_LM = cat2_LM.reset_index()\n",
    "cat2_LM.drop(list(cat2_LM.filter(regex='Unnamed|index')), axis=1, inplace=True)\n",
    "cat2_LM.to_csv(mqdir3 + 'A17_LM_catalog_HQ_avg_event_stats.csv',index=False)"
   ]
  },
  {
   "cell_type": "code",
   "execution_count": 30,
   "id": "c2836729-fc12-49f2-bb09-2e53047d8c15",
   "metadata": {},
   "outputs": [
    {
     "data": {
      "text/plain": [
       "1581"
      ]
     },
     "execution_count": 30,
     "metadata": {},
     "output_type": "execute_result"
    }
   ],
   "source": [
    "len(cat2_LM)"
   ]
  },
  {
   "cell_type": "code",
   "execution_count": 31,
   "id": "df4f60f9-0000-4ce2-b368-750fcda5dfdd",
   "metadata": {},
   "outputs": [
    {
     "data": {
      "text/plain": [
       "1332"
      ]
     },
     "execution_count": 31,
     "metadata": {},
     "output_type": "execute_result"
    }
   ],
   "source": [
    "len(cat2_LM_rpt)"
   ]
  },
  {
   "cell_type": "code",
   "execution_count": 32,
   "id": "3784e7ce-88ec-4bae-8530-bcae2606b7b4",
   "metadata": {
    "tags": []
   },
   "outputs": [
    {
     "data": {
      "text/plain": [
       "249"
      ]
     },
     "execution_count": 32,
     "metadata": {},
     "output_type": "execute_result"
    }
   ],
   "source": [
    "len(cat2_LM_isol)"
   ]
  },
  {
   "cell_type": "code",
   "execution_count": null,
   "id": "2dfe8295-b257-4370-a157-75b0d73ea46a",
   "metadata": {},
   "outputs": [],
   "source": []
  }
 ],
 "metadata": {
  "kernelspec": {
   "display_name": "Python 3 (ipykernel)",
   "language": "python",
   "name": "python3"
  },
  "language_info": {
   "codemirror_mode": {
    "name": "ipython",
    "version": 3
   },
   "file_extension": ".py",
   "mimetype": "text/x-python",
   "name": "python",
   "nbconvert_exporter": "python",
   "pygments_lexer": "ipython3",
   "version": "3.7.16"
  }
 },
 "nbformat": 4,
 "nbformat_minor": 5
}
