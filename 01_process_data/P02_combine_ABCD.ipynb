{
 "cells": [
  {
   "cell_type": "markdown",
   "id": "0bfce46f-82a5-486a-80d7-555bb91fe115",
   "metadata": {},
   "source": [
    "## Create a combined catalog of the fine-tuned Grade A arrivals (from Civilini et al. 2023) and the Grade B, C, and D arrivals (Civilini et al. 2021)\n",
    "\n",
    "### Import libraries"
   ]
  },
  {
   "cell_type": "code",
   "execution_count": null,
   "id": "bcd6b1fb-33da-44fb-82d6-439f4ded1efd",
   "metadata": {},
   "outputs": [],
   "source": [
    "import pandas as pd\n",
    "import numpy as np\n",
    "import glob\n",
    "import os\n",
    "from datetime import datetime, timedelta\n",
    "import time\n",
    "import sys"
   ]
  },
  {
   "cell_type": "markdown",
   "id": "c7a5abae-6b38-47f9-b50c-4f21fb242aa0",
   "metadata": {},
   "source": [
    "### Load catalog of Grade A through D moonquakes"
   ]
  },
  {
   "cell_type": "code",
   "execution_count": null,
   "id": "188bca08-6a64-4720-b5a7-aa3fabe1b98e",
   "metadata": {},
   "outputs": [],
   "source": [
    "mqdir = '../catalogs/FC_catalogs/'\n",
    "mqcat = pd.read_csv(mqdir + 'fc_lspe_dl_catalog.csv')\n",
    "mqcat.drop(list(mqcat.filter(regex='Unnamed|index')), axis=1, inplace=True)\n",
    "evids_all = np.unique(mqcat.evid.tolist())"
   ]
  },
  {
   "cell_type": "markdown",
   "id": "7416e59e-d164-40b2-b95c-fa5f58960a7d",
   "metadata": {},
   "source": [
    "### Load catalog of fine-tuned Grade A arrivals"
   ]
  },
  {
   "cell_type": "code",
   "execution_count": null,
   "id": "eddeec5d-1a26-4893-92a7-bc907f0e4013",
   "metadata": {},
   "outputs": [],
   "source": [
    "cat_gradeA = pd.read_csv(mqdir + 'GradeA_thermal_mq_catalog_final.csv')\n",
    "cat_gradeA.drop(list(cat_gradeA.filter(regex='Unnamed|index')), axis=1, inplace=True)\n",
    "evids_A = np.unique(cat_gradeA.evid.tolist())"
   ]
  },
  {
   "cell_type": "markdown",
   "id": "9d535ffd-8009-4ad2-99c5-a7fd9561bb6e",
   "metadata": {},
   "source": [
    "### Iterate through moonquakes and compile combined catalog"
   ]
  },
  {
   "cell_type": "code",
   "execution_count": null,
   "id": "1589e3df-3faf-4381-8ec1-777a35ea3bcd",
   "metadata": {},
   "outputs": [],
   "source": [
    "evids = []\n",
    "geophones = []\n",
    "arrival_times = []\n",
    "grades = []\n",
    "for v in np.arange(0,len(evids_all)):\n",
    "    evid = evids_all[v]\n",
    "    \n",
    "    # If Grade A event\n",
    "    if evid in evids_A:\n",
    "        evtrows = cat_gradeA.loc[cat_gradeA.evid == evid]\n",
    "        evtrows = evtrows.reset_index()\n",
    "        # Iterate through rows\n",
    "        for r in np.arange(0,len(evtrows)):\n",
    "            evtrow = evtrows.iloc[r]\n",
    "            # Arrival time\n",
    "            evttime = datetime.strptime(evtrow.ft_arrival_time, '%Y-%m-%dT%H:%M:%S.%f')\n",
    "            evttime_str = datetime.strftime(evttime,'%Y-%m-%dT%H:%M:%S.%f')\n",
    "            # Append info\n",
    "            evids.append(evid)\n",
    "            geophones.append(evtrow.geophone)\n",
    "            arrival_times.append(evttime_str)\n",
    "            grades.append('A')\n",
    "        \n",
    "    # Otherwise:\n",
    "    else:\n",
    "        evtrows = mqcat.loc[mqcat.evid == evid]\n",
    "        evtrows = evtrows.reset_index()\n",
    "        # Iterate through rows\n",
    "        for r in np.arange(0,len(evtrows)):\n",
    "            evtrow = evtrows.iloc[r]\n",
    "            # Arrival time\n",
    "            evttime = datetime.strptime(evtrow.abs_time, '%Y-%m-%dT%H:%M:%S')\n",
    "            evttime_str = datetime.strftime(evttime,'%Y-%m-%dT%H:%M:%S.%f')\n",
    "            # Append info\n",
    "            evids.append(evid)\n",
    "            geophones.append(evtrow.station)\n",
    "            arrival_times.append(evttime_str)\n",
    "            grades.append(evtrow.grade)\n",
    "            \n",
    "# Combine into one dataframe\n",
    "d = {'evid':evids, 'geophone':geophones, 'arrival_time':arrival_times, 'grade':grades}\n",
    "combined_df = pd.DataFrame(data = d)\n",
    "combined_df.to_csv(mqdir + 'GradeABCD_combined_catalog.csv',index=False)"
   ]
  },
  {
   "cell_type": "markdown",
   "id": "d1eb6a84-0bcf-42fd-8776-c28901507436",
   "metadata": {},
   "source": [
    "### Calculate mean detection time for each event"
   ]
  },
  {
   "cell_type": "code",
   "execution_count": null,
   "id": "fbf661fc-7ad4-4c38-b5e4-8f5cf44efa9c",
   "metadata": {},
   "outputs": [],
   "source": [
    "# Event IDs\n",
    "evids_all = np.unique(combined_df.evid.tolist())\n",
    "\n",
    "# Average detections\n",
    "mean_arrtimes = []\n",
    "grades = []\n",
    "for evid in evids_all:\n",
    "    \n",
    "    evtrows = combined_df.loc[combined_df.evid == evid].reset_index()\n",
    "    # Calculate average arrival time across existing detections\n",
    "    arrival_times = [datetime.strptime(mqdate, '%Y-%m-%dT%H:%M:%S.%f') for mqdate in evtrows.arrival_time.tolist()]\n",
    "    mintime = min(arrival_times)\n",
    "    timedeltas = []\n",
    "    for a in np.arange(0,len(arrival_times)):\n",
    "        arrtime = arrival_times[a]\n",
    "        timedeltas.append((arrtime - mintime).total_seconds())\n",
    "    #\n",
    "    mean_timedelta = np.mean(timedeltas)\n",
    "    mean_time = mintime + timedelta(seconds = mean_timedelta)\n",
    "    mean_time_str = datetime.strftime(mean_time,'%Y-%m-%dT%H:%M:%S.%f')\n",
    "    mean_arrtimes.append(mean_time_str)\n",
    "    grades.append(evtrows.grade.tolist()[0])\n",
    "    \n",
    "d = {'evid':evids_all, 'mean_arrival_time':mean_arrtimes, 'grade':grades}\n",
    "mean_df = pd.DataFrame(data = d)\n",
    "mean_df = mean_df.sort_values(by=['mean_arrival_time']).reset_index()\n",
    "mean_df = mean_df.drop(columns=['index'])\n",
    "mean_df.to_csv(mqdir + 'GradeABCD_avg_arrivals_catalog.csv',index=False)"
   ]
  }
 ],
 "metadata": {
  "kernelspec": {
   "display_name": "Python 3 (ipykernel)",
   "language": "python",
   "name": "python3"
  },
  "language_info": {
   "codemirror_mode": {
    "name": "ipython",
    "version": 3
   },
   "file_extension": ".py",
   "mimetype": "text/x-python",
   "name": "python",
   "nbconvert_exporter": "python",
   "pygments_lexer": "ipython3",
   "version": "3.7.16"
  }
 },
 "nbformat": 4,
 "nbformat_minor": 5
}
