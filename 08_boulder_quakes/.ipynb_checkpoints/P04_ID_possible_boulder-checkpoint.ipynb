{
 "cells": [
  {
   "cell_type": "markdown",
   "id": "254544ee-311e-42d0-85cd-3b31add28b5c",
   "metadata": {},
   "source": [
    "## Identify possible boulder-quakes among Geophone 3 and 4 events\n",
    "\n",
    "### Import libraries"
   ]
  },
  {
   "cell_type": "code",
   "execution_count": 1,
   "id": "59fec86e-aa1e-45cd-8c55-bc73ff2cb54e",
   "metadata": {
    "tags": []
   },
   "outputs": [],
   "source": [
    "import pandas as pd\n",
    "from obspy import read,UTCDateTime\n",
    "from datetime import datetime, timedelta\n",
    "import numpy as np\n",
    "import os\n",
    "import glob\n",
    "import sys\n",
    "import matplotlib.pyplot as plt\n",
    "from PIL import Image\n",
    "\n",
    "# Import functions\n",
    "fxndir = '../functions/'\n",
    "sys.path.insert(0,fxndir)\n",
    "from moon2data import *"
   ]
  },
  {
   "cell_type": "markdown",
   "id": "9471a623-9967-4302-bdae-b70a222e2674",
   "metadata": {},
   "source": [
    "### Load catalogs of Geophone 3 and 4 events"
   ]
  },
  {
   "cell_type": "code",
   "execution_count": 2,
   "id": "dfe1c016-9710-437b-8a82-10b4566079b4",
   "metadata": {
    "tags": []
   },
   "outputs": [],
   "source": [
    "# Geophone 3 events\n",
    "mqdir = '../catalogs/final_catalogs/geo3_geo4_events/'\n",
    "cat1_geo3 = pd.read_csv(mqdir + 'Geophone3_events_catalog_HQ_final.csv')\n",
    "cat2_geo3 = pd.read_csv(mqdir + 'Geophone3_events_catalog_HQ_avg_event_stats.csv')\n",
    "\n",
    "# Geophone 4 events\n",
    "cat1_geo4 = pd.read_csv(mqdir + 'Geophone4_events_catalog_HQ_final.csv')\n",
    "cat2_geo4 = pd.read_csv(mqdir + 'Geophone4_events_catalog_HQ_avg_event_stats.csv')"
   ]
  },
  {
   "cell_type": "markdown",
   "id": "1191c23a-9f9f-4804-b81c-db32f802d45a",
   "metadata": {},
   "source": [
    "### Inputs to obtain waveforms"
   ]
  },
  {
   "cell_type": "code",
   "execution_count": 3,
   "id": "24fdb34e-3469-4d70-94e7-a1014534692c",
   "metadata": {},
   "outputs": [],
   "source": [
    "parentdir = '/data/ytamama/Apollo17/LSPE_data/sac_volts_ds/'\n",
    "minfreq = 3\n",
    "maxfreq = 35\n",
    "befwin = 2\n",
    "aftwin = 12"
   ]
  },
  {
   "cell_type": "markdown",
   "id": "6c04c901-88fe-4e1c-aa72-e9a5933c860d",
   "metadata": {},
   "source": [
    "### Identify possible Geophone Rock and R2 events based on relative amplitudes between geophones"
   ]
  },
  {
   "cell_type": "code",
   "execution_count": 4,
   "id": "2f229537-ad22-4539-b64f-5d51d86e9da0",
   "metadata": {},
   "outputs": [],
   "source": [
    "possible_sources = []\n",
    "for r in np.arange(0,len(cat2_geo3)):\n",
    "    \n",
    "    row = cat2_geo3.iloc[r]\n",
    "    arrtime = datetime.strptime(row.avg_picktime_SNR, '%Y-%m-%d %H:%M:%S.%f')\n",
    "    \n",
    "    # Traces at each geophone\n",
    "    st1 = moon2sac(arrtime,1,befwin,aftwin,minfreq,maxfreq,parentdir)\n",
    "    trdata1 = st1.traces[0].data\n",
    "    st2 = moon2sac(arrtime,2,befwin,aftwin,minfreq,maxfreq,parentdir)\n",
    "    trdata2 = st2.traces[0].data\n",
    "    st3 = moon2sac(arrtime,3,befwin,aftwin,minfreq,maxfreq,parentdir)\n",
    "    trdata3 = st3.traces[0].data\n",
    "    st4 = moon2sac(arrtime,4,befwin,aftwin,minfreq,maxfreq,parentdir)\n",
    "    trdata4 = st4.traces[0].data\n",
    "    \n",
    "    # Peak ground velocity at each geophone\n",
    "    pgv_geo1 = np.max(np.abs(trdata1))\n",
    "    pgv_geo2 = np.max(np.abs(trdata2))\n",
    "    pgv_geo3 = np.max(np.abs(trdata3))\n",
    "    pgv_geo4 = np.max(np.abs(trdata4))\n",
    "    \n",
    "    # Mean absolute amplitude at each geophone\n",
    "    mean_geo1 = np.mean(np.abs(trdata1))\n",
    "    mean_geo2 = np.mean(np.abs(trdata2))\n",
    "    mean_geo3 = np.mean(np.abs(trdata3))\n",
    "    mean_geo4 = np.mean(np.abs(trdata4))\n",
    "    \n",
    "    # Classify by possible source\n",
    "    df = pd.DataFrame(data = {'geophones':[1, 2, 3, 4],\n",
    "                                'PGV':np.array([pgv_geo1, pgv_geo2, pgv_geo3, pgv_geo4]),\n",
    "                                'mean':np.array([mean_geo1, mean_geo2, mean_geo3, mean_geo4])})\n",
    "    # PGV\n",
    "    df_pgv = df.sort_values(by=['PGV'],ascending=False)\n",
    "    geophones_pgv = df_pgv.geophones.tolist()\n",
    "    if (geophones_pgv[0] == 3) & (geophones_pgv[1] == 4) & (geophones_pgv[-1] == 1):\n",
    "        source_pgv = 'geophone_rock'\n",
    "    elif (geophones_pgv[0] == 3) & (geophones_pgv[1] == 1) & (geophones_pgv[-1] == 4):\n",
    "        source_pgv = 'R2'\n",
    "    else:\n",
    "        source_pgv = 'unclear'\n",
    "    \n",
    "    # Mean amplitude\n",
    "    df_mean = df.sort_values(by=['mean'],ascending=False)\n",
    "    geophones_mean = df_mean.geophones.tolist()\n",
    "    if (geophones_mean[0] == 3) & (geophones_mean[1] == 4) & (geophones_mean[-1] == 1):\n",
    "        source_mean = 'geophone_rock'\n",
    "    elif (geophones_mean[0] == 3) & (geophones_mean[1] == 1) & (geophones_mean[-1] == 4):\n",
    "        source_mean = 'R2'\n",
    "    else:\n",
    "        source_mean = 'unclear'\n",
    "        \n",
    "    # Classify by possible source\n",
    "    if (source_pgv == 'geophone_rock') | (source_mean == 'geophone_rock'):\n",
    "        possible_sources.append('geophone_rock')\n",
    "    elif (source_pgv == 'R2') | (source_mean == 'R2'):\n",
    "        possible_sources.append('R2')\n",
    "    else:\n",
    "        possible_sources.append('unclear')\n",
    "        \n",
    "# Append possible source information to catalogs\n",
    "cat2_geo3['possible_source'] = possible_sources"
   ]
  },
  {
   "cell_type": "code",
   "execution_count": 5,
   "id": "70ccad76-0cc3-4b60-b2fb-e3faafae57d1",
   "metadata": {},
   "outputs": [],
   "source": [
    "# Incorporate full families\n",
    "possible_sources_new = possible_sources.copy()\n",
    "evids_ref_georock = np.unique(cat2_geo3.loc[cat2_geo3.possible_source == 'geophone_rock'].evid_ref.tolist())\n",
    "evids_ref_R2 = np.unique(cat2_geo3.loc[cat2_geo3.possible_source == 'R2'].evid_ref.tolist())\n",
    "for r in np.arange(0,len(cat2_geo3)):\n",
    "    row = cat2_geo3.iloc[r]\n",
    "    evid_ref = row.evid_ref\n",
    "    if evid_ref in evids_ref_georock:\n",
    "        possible_sources_new[r] = 'geophone_rock'\n",
    "    elif evid_ref in evids_ref_R2:\n",
    "        possible_sources_new[r] = 'R2'\n",
    "        \n",
    "# Catalog 2\n",
    "cat2_geo3['possible_source'] = possible_sources_new\n",
    "\n",
    "# Catalog 1\n",
    "possible_sources1 = []\n",
    "for r in np.arange(0,len(cat1_geo3)):\n",
    "    row = cat1_geo3.iloc[r]\n",
    "    evid = row.evid\n",
    "    row2 = cat2_geo3.loc[cat2_geo3.evid == evid].iloc[0]\n",
    "    possible_sources1.append(row2.possible_source) \n",
    "cat1_geo3['possible_source'] = possible_sources1"
   ]
  },
  {
   "cell_type": "code",
   "execution_count": 6,
   "id": "4a1e008d-d085-4b18-8384-c02ade4b315a",
   "metadata": {},
   "outputs": [
    {
     "data": {
      "text/plain": [
       "31"
      ]
     },
     "execution_count": 6,
     "metadata": {},
     "output_type": "execute_result"
    }
   ],
   "source": [
    "len(cat2_geo3.loc[cat2_geo3.possible_source == 'geophone_rock'])"
   ]
  },
  {
   "cell_type": "code",
   "execution_count": 7,
   "id": "5ebf491d-3deb-421d-aee6-0b86cccec82a",
   "metadata": {},
   "outputs": [
    {
     "data": {
      "text/plain": [
       "9"
      ]
     },
     "execution_count": 7,
     "metadata": {},
     "output_type": "execute_result"
    }
   ],
   "source": [
    "len(cat2_geo3.loc[cat2_geo3.possible_source == 'R2'])"
   ]
  },
  {
   "cell_type": "code",
   "execution_count": 8,
   "id": "1fef0121-dd9f-42b9-93ea-3880646b999e",
   "metadata": {},
   "outputs": [],
   "source": [
    "# Save catalog\n",
    "cat1_geo3.to_csv(mqdir + 'Geophone3_events_catalog_HQ_final.csv',index=False)\n",
    "cat2_geo3.to_csv(mqdir + 'Geophone3_events_catalog_HQ_avg_event_stats.csv',index=False)"
   ]
  },
  {
   "cell_type": "markdown",
   "id": "d8065262-5c8b-4693-948d-ccf6c1900455",
   "metadata": {},
   "source": [
    "### Plot possible boulderquakes as a sanity check\n",
    "\n",
    "#### Geophone Rock"
   ]
  },
  {
   "cell_type": "code",
   "execution_count": 9,
   "id": "5b92ebfc-6197-4723-909c-d55151a897cb",
   "metadata": {},
   "outputs": [],
   "source": [
    "savedir = './boulderquake_waveforms/'\n",
    "pngnames = []\n",
    "cat2_geo3 = cat2_geo3.sort_values(by=['evid_ref'],ignore_index=True)\n",
    "evids_georock = cat2_geo3.loc[cat2_geo3.possible_source == 'geophone_rock'].evid.tolist()\n",
    "\n",
    "# Iteratively plot events\n",
    "for evid in evids_georock:\n",
    "    row = cat2_geo3.loc[cat2_geo3.evid == evid].iloc[0]\n",
    "    evid_ref = row.evid_ref\n",
    "    isol_or_rpt = row.isol_or_rpt\n",
    "    arrtime = datetime.strptime(row.avg_picktime_SNR, '%Y-%m-%d %H:%M:%S.%f')\n",
    "    st1 = moon2sac(arrtime,1,befwin,aftwin,minfreq,maxfreq,parentdir)\n",
    "    trdata1 = st1.traces[0].data\n",
    "    trtimes1 = st1.traces[0].times() - befwin\n",
    "    st2 = moon2sac(arrtime,2,befwin,aftwin,minfreq,maxfreq,parentdir)\n",
    "    trdata2 = st2.traces[0].data\n",
    "    trtimes2 = st2.traces[0].times() - befwin\n",
    "    st3 = moon2sac(arrtime,3,befwin,aftwin,minfreq,maxfreq,parentdir)\n",
    "    trdata3 = st3.traces[0].data\n",
    "    trtimes3 = st3.traces[0].times() - befwin\n",
    "    st4 = moon2sac(arrtime,4,befwin,aftwin,minfreq,maxfreq,parentdir)\n",
    "    trdata4 = st4.traces[0].data\n",
    "    trtimes4 = st4.traces[0].times() - befwin\n",
    "\n",
    "    # Normalize\n",
    "    trdata1_norm = trdata1 / np.max(np.abs(trdata1))\n",
    "    trdata2_norm = trdata2 / np.max(np.abs(trdata1))\n",
    "    trdata3_norm = trdata3 / np.max(np.abs(trdata1))\n",
    "    trdata4_norm = trdata4 / np.max(np.abs(trdata1))\n",
    "\n",
    "    # Initialize figure\n",
    "    fig,ax = plt.subplots(1,1,figsize=(8, 5))\n",
    "    ax.plot(trtimes1,trdata1_norm+6, color='C0',alpha=0.75)\n",
    "    ax.plot(trtimes2,trdata2_norm+4, color='C1',alpha=0.75)\n",
    "    ax.plot(trtimes3,trdata3_norm+2, color='C2',alpha=0.75)\n",
    "    ax.plot(trtimes4,trdata4_norm, color='C3',alpha=0.75)\n",
    "    ax.set_title(f'EVID {evid} (REF={evid_ref}, {isol_or_rpt})',fontweight='bold')\n",
    "    ax.set_xlim([-1*befwin,aftwin])\n",
    "\n",
    "    # Save figure\n",
    "    plt.savefig(savedir + 'REF' + evid_ref + '_EVID' + evid + '_waveforms.png', bbox_inches=\"tight\")\n",
    "    pngnames.append(savedir + 'REF' + evid_ref + '_EVID' + evid + '_waveforms.png')\n",
    "    plt.close()"
   ]
  },
  {
   "cell_type": "code",
   "execution_count": 10,
   "id": "b7ac6a78-f0ea-4c75-be3d-e5da82ee1a65",
   "metadata": {},
   "outputs": [],
   "source": [
    "# Combine figures into one PDF\n",
    "images = [\n",
    "    Image.open(f)\n",
    "    for f in pngnames\n",
    "]\n",
    "pdf_path = savedir + 'possible_geophonerock_events.pdf'\n",
    "images[0].save(\n",
    "    pdf_path, \"PDF\" ,resolution=100.0, save_all=True, append_images=images[1:]\n",
    ")\n",
    "\n",
    "for pngname in pngnames:\n",
    "    os.system('rm ' + pngname)"
   ]
  },
  {
   "cell_type": "markdown",
   "id": "5bb3adeb-4c0c-4899-85e6-28afca05e903",
   "metadata": {},
   "source": [
    "#### R2"
   ]
  },
  {
   "cell_type": "code",
   "execution_count": 11,
   "id": "0f42caec-2376-42e4-ab25-1f3033e43342",
   "metadata": {},
   "outputs": [],
   "source": [
    "pngnames = []\n",
    "evids_R2 = cat2_geo3.loc[cat2_geo3.possible_source == 'R2'].evid.tolist()\n",
    "\n",
    "# Iteratively plot events\n",
    "for evid in evids_R2:\n",
    "    row = cat2_geo3.loc[cat2_geo3.evid == evid].iloc[0]\n",
    "    evid_ref = row.evid_ref\n",
    "    isol_or_rpt = row.isol_or_rpt\n",
    "    arrtime = datetime.strptime(row.avg_picktime_SNR, '%Y-%m-%d %H:%M:%S.%f')\n",
    "    st1 = moon2sac(arrtime,1,befwin,aftwin,minfreq,maxfreq,parentdir)\n",
    "    trdata1 = st1.traces[0].data\n",
    "    trtimes1 = st1.traces[0].times() - befwin\n",
    "    st2 = moon2sac(arrtime,2,befwin,aftwin,minfreq,maxfreq,parentdir)\n",
    "    trdata2 = st2.traces[0].data\n",
    "    trtimes2 = st2.traces[0].times() - befwin\n",
    "    st3 = moon2sac(arrtime,3,befwin,aftwin,minfreq,maxfreq,parentdir)\n",
    "    trdata3 = st3.traces[0].data\n",
    "    trtimes3 = st3.traces[0].times() - befwin\n",
    "    st4 = moon2sac(arrtime,4,befwin,aftwin,minfreq,maxfreq,parentdir)\n",
    "    trdata4 = st4.traces[0].data\n",
    "    trtimes4 = st4.traces[0].times() - befwin\n",
    "\n",
    "    # Normalize\n",
    "    trdata1_norm = trdata1 / np.max(np.abs(trdata1))\n",
    "    trdata2_norm = trdata2 / np.max(np.abs(trdata1))\n",
    "    trdata3_norm = trdata3 / np.max(np.abs(trdata1))\n",
    "    trdata4_norm = trdata4 / np.max(np.abs(trdata1))\n",
    "\n",
    "    # Initialize figure\n",
    "    fig,ax = plt.subplots(1,1,figsize=(8, 5))\n",
    "    ax.plot(trtimes1,trdata1_norm+6, color='C0',alpha=0.75)\n",
    "    ax.plot(trtimes2,trdata2_norm+4, color='C1',alpha=0.75)\n",
    "    ax.plot(trtimes3,trdata3_norm+2, color='C2',alpha=0.75)\n",
    "    ax.plot(trtimes4,trdata4_norm, color='C3',alpha=0.75)\n",
    "    ax.set_title(f'EVID {evid} (REF={evid_ref}, {isol_or_rpt})',fontweight='bold')\n",
    "    ax.set_xlim([-1*befwin,aftwin])\n",
    "\n",
    "    # Save figure\n",
    "    plt.savefig(savedir + 'REF' + evid_ref + '_EVID' + evid + '_waveforms.png', bbox_inches=\"tight\")\n",
    "    pngnames.append(savedir + 'REF' + evid_ref + '_EVID' + evid + '_waveforms.png')\n",
    "    plt.close()"
   ]
  },
  {
   "cell_type": "code",
   "execution_count": 12,
   "id": "92e88ba1-227b-4129-841a-c33280ec56b6",
   "metadata": {},
   "outputs": [],
   "source": [
    "# Combine figures into one PDF\n",
    "images = [\n",
    "    Image.open(f)\n",
    "    for f in pngnames\n",
    "]\n",
    "pdf_path = savedir + 'possible_R2_events.pdf'\n",
    "images[0].save(\n",
    "    pdf_path, \"PDF\" ,resolution=100.0, save_all=True, append_images=images[1:]\n",
    ")\n",
    "\n",
    "for pngname in pngnames:\n",
    "    os.system('rm ' + pngname)"
   ]
  },
  {
   "cell_type": "markdown",
   "id": "89ad1db1-a90a-4a2d-9cba-8209f41e4ae5",
   "metadata": {},
   "source": [
    "### Identify possible Geophone 4 Rock events based on relative amplitudes between geophones"
   ]
  },
  {
   "cell_type": "code",
   "execution_count": 13,
   "id": "3d69d6d6-a743-453a-9069-0c345e3871b0",
   "metadata": {},
   "outputs": [],
   "source": [
    "possible_sources = []\n",
    "for r in np.arange(0,len(cat2_geo4)):\n",
    "    row = cat2_geo4.iloc[r]\n",
    "    arrtime = datetime.strptime(row.avg_picktime_SNR, '%Y-%m-%d %H:%M:%S.%f')\n",
    "    \n",
    "    # Traces at each geophone\n",
    "    st1 = moon2sac(arrtime,1,befwin,aftwin,minfreq,maxfreq,parentdir)\n",
    "    trdata1 = st1.traces[0].data\n",
    "    st2 = moon2sac(arrtime,2,befwin,aftwin,minfreq,maxfreq,parentdir)\n",
    "    trdata2 = st2.traces[0].data\n",
    "    st3 = moon2sac(arrtime,3,befwin,aftwin,minfreq,maxfreq,parentdir)\n",
    "    trdata3 = st3.traces[0].data\n",
    "    st4 = moon2sac(arrtime,4,befwin,aftwin,minfreq,maxfreq,parentdir)\n",
    "    trdata4 = st4.traces[0].data\n",
    "    \n",
    "    # Peak ground velocity at each geophone\n",
    "    pgv_geo1 = np.max(np.abs(trdata1))\n",
    "    pgv_geo2 = np.max(np.abs(trdata2))\n",
    "    pgv_geo3 = np.max(np.abs(trdata3))\n",
    "    pgv_geo4 = np.max(np.abs(trdata4))\n",
    "    \n",
    "    # Mean absolute amplitude at each geophone\n",
    "    mean_geo1 = np.mean(np.abs(trdata1))\n",
    "    mean_geo2 = np.mean(np.abs(trdata2))\n",
    "    mean_geo3 = np.mean(np.abs(trdata3))\n",
    "    mean_geo4 = np.mean(np.abs(trdata4))\n",
    "    \n",
    "    # Classify by possible source\n",
    "    df = pd.DataFrame(data = {'geophones':[1, 2, 3, 4],\n",
    "                                'PGV':np.array([pgv_geo1, pgv_geo2, pgv_geo3, pgv_geo4]),\n",
    "                                'mean':np.array([mean_geo1, mean_geo2, mean_geo3, mean_geo4])})\n",
    "    # PGV\n",
    "    df_pgv = df.sort_values(by=['PGV'],ascending=False)\n",
    "    geophones_pgv = df_pgv.geophones.tolist()\n",
    "    if (geophones_pgv[0] == 4) & (geophones_pgv[1] == 3) & (geophones_pgv[-1] == 2):\n",
    "        source_pgv = 'GEO4_rock1'\n",
    "    elif (geophones_pgv[0] == 4) & (geophones_pgv[1] == 3) & (geophones_pgv[-1] == 1):\n",
    "        source_pgv = 'GEO4_rock2or3'\n",
    "    else:\n",
    "        source_pgv = 'unclear'\n",
    "        \n",
    "    # Mean amplitude\n",
    "    df_mean = df.sort_values(by=['mean'],ascending=False)\n",
    "    geophones_mean = df_mean.geophones.tolist()\n",
    "    if (geophones_mean[0] == 4) & (geophones_mean[1] == 3) & (geophones_mean[-1] == 2):\n",
    "        source_mean = 'GEO4_rock1'\n",
    "    elif (geophones_mean[0] == 4) & (geophones_mean[1] == 3) & (geophones_mean[-1] == 1):\n",
    "        source_mean = 'GEO4_rock2or3'\n",
    "    else:\n",
    "        source_mean = 'unclear'\n",
    "\n",
    "    # Classify by possible source\n",
    "    if (source_pgv == 'GEO4_rock1') | (source_mean == 'GEO4_rock1'):\n",
    "        possible_sources.append('GEO4_rock1')\n",
    "    elif (source_pgv == 'GEO4_rock2or3') | (source_mean == 'GEO4_rock2or3'):\n",
    "        possible_sources.append('GEO4_rock2or3')\n",
    "    else:\n",
    "        possible_sources.append('unclear')\n",
    "\n",
    "# Append possible source information to catalogs\n",
    "cat2_geo4['possible_source'] = possible_sources"
   ]
  },
  {
   "cell_type": "code",
   "execution_count": 14,
   "id": "c982ed76-b540-498a-a73c-93f79726c20b",
   "metadata": {
    "jp-MarkdownHeadingCollapsed": true,
    "tags": []
   },
   "outputs": [],
   "source": [
    "# Incorporate full families\n",
    "possible_sources_new = possible_sources.copy()\n",
    "evids_ref_rock1 = np.unique(cat2_geo4.loc[cat2_geo4.possible_source == 'GEO4_rock1'].evid_ref.tolist())\n",
    "evids_ref_rock23 = np.unique(cat2_geo4.loc[cat2_geo4.possible_source == 'GEO4_rock2or3'].evid_ref.tolist())\n",
    "for r in np.arange(0,len(cat2_geo4)):\n",
    "    row = cat2_geo4.iloc[r]\n",
    "    evid_ref = row.evid_ref\n",
    "    if evid_ref in evids_ref_georock:\n",
    "        possible_sources_new[r] = 'GEO4_rock1'\n",
    "    elif evid_ref in evids_ref_R2:\n",
    "        possible_sources_new[r] = 'GEO4_rock2or3'\n",
    "        \n",
    "# Catalog 2\n",
    "cat2_geo4['possible_source'] = possible_sources_new\n",
    "\n",
    "# Catalog 1\n",
    "possible_sources1 = []\n",
    "for r in np.arange(0,len(cat1_geo4)):\n",
    "    row = cat1_geo4.iloc[r]\n",
    "    evid = row.evid\n",
    "    row2 = cat2_geo4.loc[cat2_geo4.evid == evid].iloc[0]\n",
    "    possible_sources1.append(row2.possible_source)\n",
    "cat1_geo4['possible_source'] = possible_sources1"
   ]
  },
  {
   "cell_type": "code",
   "execution_count": 15,
   "id": "55bdc719-d1d8-422f-8cf8-c4afb23b1a6b",
   "metadata": {},
   "outputs": [
    {
     "data": {
      "text/plain": [
       "12"
      ]
     },
     "execution_count": 15,
     "metadata": {},
     "output_type": "execute_result"
    }
   ],
   "source": [
    "len(cat2_geo4.loc[cat2_geo4.possible_source == 'GEO4_rock1'])"
   ]
  },
  {
   "cell_type": "code",
   "execution_count": 16,
   "id": "1a9bdf7e-8299-4792-a075-27050511f624",
   "metadata": {},
   "outputs": [
    {
     "data": {
      "text/plain": [
       "7"
      ]
     },
     "execution_count": 16,
     "metadata": {},
     "output_type": "execute_result"
    }
   ],
   "source": [
    "len(cat2_geo4.loc[cat2_geo4.possible_source == 'GEO4_rock2or3'])"
   ]
  },
  {
   "cell_type": "code",
   "execution_count": 17,
   "id": "18859adf-44b2-4101-b96d-f54f55665d8c",
   "metadata": {},
   "outputs": [],
   "source": [
    "# Save catalog\n",
    "cat1_geo4.to_csv(mqdir + 'Geophone4_events_catalog_HQ_final.csv',index=False)\n",
    "cat2_geo4.to_csv(mqdir + 'Geophone4_events_catalog_HQ_avg_event_stats.csv',index=False)"
   ]
  },
  {
   "cell_type": "markdown",
   "id": "57e863fb-6ed7-4085-95a4-2498f5442b3a",
   "metadata": {},
   "source": [
    "### Plot possible boulderquakes as a sanity check\n",
    "\n",
    "#### Geophone 4 Rock 1"
   ]
  },
  {
   "cell_type": "code",
   "execution_count": 18,
   "id": "dbb71cec-eff0-42d3-a36d-4ef728b2d834",
   "metadata": {},
   "outputs": [],
   "source": [
    "savedir = './boulderquake_waveforms/'\n",
    "pngnames = []\n",
    "evids_rock1 = cat2_geo4.loc[cat2_geo4.possible_source == 'GEO4_rock1'].evid.tolist()\n",
    "\n",
    "# Iteratively plot events\n",
    "for evid in evids_rock1:\n",
    "    row = cat2_geo4.loc[cat2_geo4.evid == evid].iloc[0]\n",
    "    evid_ref = row.evid_ref\n",
    "    isol_or_rpt = row.isol_or_rpt\n",
    "    arrtime = datetime.strptime(row.avg_picktime_SNR, '%Y-%m-%d %H:%M:%S.%f')\n",
    "    st1 = moon2sac(arrtime,1,befwin,aftwin,minfreq,maxfreq,parentdir)\n",
    "    trdata1 = st1.traces[0].data\n",
    "    trtimes1 = st1.traces[0].times() - befwin\n",
    "    st2 = moon2sac(arrtime,2,befwin,aftwin,minfreq,maxfreq,parentdir)\n",
    "    trdata2 = st2.traces[0].data\n",
    "    trtimes2 = st2.traces[0].times() - befwin\n",
    "    st3 = moon2sac(arrtime,3,befwin,aftwin,minfreq,maxfreq,parentdir)\n",
    "    trdata3 = st3.traces[0].data\n",
    "    trtimes3 = st3.traces[0].times() - befwin\n",
    "    st4 = moon2sac(arrtime,4,befwin,aftwin,minfreq,maxfreq,parentdir)\n",
    "    trdata4 = st4.traces[0].data\n",
    "    trtimes4 = st4.traces[0].times() - befwin\n",
    "\n",
    "    # Normalize\n",
    "    trdata1_norm = trdata1 / np.max(np.abs(trdata1))\n",
    "    trdata2_norm = trdata2 / np.max(np.abs(trdata1))\n",
    "    trdata3_norm = trdata3 / np.max(np.abs(trdata1))\n",
    "    trdata4_norm = trdata4 / np.max(np.abs(trdata1))\n",
    "\n",
    "    # Initialize figure\n",
    "    fig,ax = plt.subplots(1,1,figsize=(8, 5))\n",
    "    ax.plot(trtimes1,trdata1_norm+6, color='C0',alpha=0.75)\n",
    "    ax.plot(trtimes2,trdata2_norm+4, color='C1',alpha=0.75)\n",
    "    ax.plot(trtimes3,trdata3_norm+2, color='C2',alpha=0.75)\n",
    "    ax.plot(trtimes4,trdata4_norm, color='C3',alpha=0.75)\n",
    "    ax.set_title(f'EVID {evid} (REF={evid_ref}, {isol_or_rpt})',fontweight='bold')\n",
    "    ax.set_xlim([-1*befwin,aftwin])\n",
    "\n",
    "    # Save figure\n",
    "    plt.savefig(savedir + 'EVID' + evid + '_waveforms.png', bbox_inches=\"tight\")\n",
    "    pngnames.append(savedir + 'EVID' + evid + '_waveforms.png')\n",
    "    plt.close()"
   ]
  },
  {
   "cell_type": "code",
   "execution_count": 19,
   "id": "c05fb245-e3b1-4c84-8777-dc6b22b3b47e",
   "metadata": {},
   "outputs": [],
   "source": [
    "# Combine figures into one PDF\n",
    "images = [\n",
    "    Image.open(f)\n",
    "    for f in pngnames\n",
    "]\n",
    "pdf_path = savedir + 'possible_GEO4Rock1_events.pdf'\n",
    "images[0].save(\n",
    "    pdf_path, \"PDF\" ,resolution=100.0, save_all=True, append_images=images[1:]\n",
    ")\n",
    "\n",
    "for pngname in pngnames:\n",
    "    os.system('rm ' + pngname)"
   ]
  },
  {
   "cell_type": "markdown",
   "id": "011005b2-76c1-4580-9cff-285a45cbcd9a",
   "metadata": {},
   "source": [
    "#### Geophone 4 Rock 2"
   ]
  },
  {
   "cell_type": "code",
   "execution_count": 20,
   "id": "a60aae4a-8f5e-4c32-b124-3e4d735f33e9",
   "metadata": {},
   "outputs": [],
   "source": [
    "pngnames = []\n",
    "evids_rock23 = cat2_geo4.loc[cat2_geo4.possible_source == 'GEO4_rock2or3'].evid.tolist()\n",
    "\n",
    "# Iteratively plot events\n",
    "for evid in evids_rock23:\n",
    "    row = cat2_geo4.loc[cat2_geo4.evid == evid].iloc[0]\n",
    "    evid_ref = row.evid_ref\n",
    "    isol_or_rpt = row.isol_or_rpt\n",
    "    arrtime = datetime.strptime(row.avg_picktime_SNR, '%Y-%m-%d %H:%M:%S.%f')\n",
    "    st1 = moon2sac(arrtime,1,befwin,aftwin,minfreq,maxfreq,parentdir)\n",
    "    trdata1 = st1.traces[0].data\n",
    "    trtimes1 = st1.traces[0].times() - befwin\n",
    "    st2 = moon2sac(arrtime,2,befwin,aftwin,minfreq,maxfreq,parentdir)\n",
    "    trdata2 = st2.traces[0].data\n",
    "    trtimes2 = st2.traces[0].times() - befwin\n",
    "    st3 = moon2sac(arrtime,3,befwin,aftwin,minfreq,maxfreq,parentdir)\n",
    "    trdata3 = st3.traces[0].data\n",
    "    trtimes3 = st3.traces[0].times() - befwin\n",
    "    st4 = moon2sac(arrtime,4,befwin,aftwin,minfreq,maxfreq,parentdir)\n",
    "    trdata4 = st4.traces[0].data\n",
    "    trtimes4 = st4.traces[0].times() - befwin\n",
    "\n",
    "    # Normalize\n",
    "    trdata1_norm = trdata1 / np.max(np.abs(trdata1))\n",
    "    trdata2_norm = trdata2 / np.max(np.abs(trdata1))\n",
    "    trdata3_norm = trdata3 / np.max(np.abs(trdata1))\n",
    "    trdata4_norm = trdata4 / np.max(np.abs(trdata1))\n",
    "\n",
    "    # Initialize figure\n",
    "    fig,ax = plt.subplots(1,1,figsize=(8, 5))\n",
    "    ax.plot(trtimes1,trdata1_norm+6, color='C0',alpha=0.75)\n",
    "    ax.plot(trtimes2,trdata2_norm+4, color='C1',alpha=0.75)\n",
    "    ax.plot(trtimes3,trdata3_norm+2, color='C2',alpha=0.75)\n",
    "    ax.plot(trtimes4,trdata4_norm, color='C3',alpha=0.75)\n",
    "    ax.set_title(f'EVID {evid} (REF={evid_ref}, {isol_or_rpt})',fontweight='bold')\n",
    "    ax.set_xlim([-1*befwin,aftwin])\n",
    "\n",
    "    # Save figure\n",
    "    plt.savefig(savedir + 'EVID' + evid + '_waveforms.png', bbox_inches=\"tight\")\n",
    "    pngnames.append(savedir + 'EVID' + evid + '_waveforms.png')\n",
    "    plt.close()"
   ]
  },
  {
   "cell_type": "code",
   "execution_count": 21,
   "id": "0e9c609e-4070-4fd5-a9d3-1035fff54e9f",
   "metadata": {},
   "outputs": [],
   "source": [
    "# Combine figures into one PDF\n",
    "images = [\n",
    "    Image.open(f)\n",
    "    for f in pngnames\n",
    "]\n",
    "pdf_path = savedir + 'possible_GEO4Rock2or3_events.pdf'\n",
    "images[0].save(\n",
    "    pdf_path, \"PDF\" ,resolution=100.0, save_all=True, append_images=images[1:]\n",
    ")\n",
    "\n",
    "for pngname in pngnames:\n",
    "    os.system('rm ' + pngname)"
   ]
  },
  {
   "cell_type": "code",
   "execution_count": null,
   "id": "da058907-aa66-40c4-a82b-8a4b9ab5289a",
   "metadata": {},
   "outputs": [],
   "source": []
  }
 ],
 "metadata": {
  "kernelspec": {
   "display_name": "Python 3 (ipykernel)",
   "language": "python",
   "name": "python3"
  },
  "language_info": {
   "codemirror_mode": {
    "name": "ipython",
    "version": 3
   },
   "file_extension": ".py",
   "mimetype": "text/x-python",
   "name": "python",
   "nbconvert_exporter": "python",
   "pygments_lexer": "ipython3",
   "version": "3.7.16"
  }
 },
 "nbformat": 4,
 "nbformat_minor": 5
}
