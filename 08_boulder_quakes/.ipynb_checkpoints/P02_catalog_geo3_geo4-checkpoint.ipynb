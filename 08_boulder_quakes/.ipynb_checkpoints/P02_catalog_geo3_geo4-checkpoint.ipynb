{
 "cells": [
  {
   "cell_type": "markdown",
   "id": "c7aa9936-efec-4a77-a6ce-9d7b8f116752",
   "metadata": {},
   "source": [
    "## Catalog Geophone 3 and Geophone 4 events\n",
    "\n",
    "### Import libraries"
   ]
  },
  {
   "cell_type": "code",
   "execution_count": 1,
   "id": "207f84ed-0225-4ead-8fbf-db73723d3f5a",
   "metadata": {},
   "outputs": [],
   "source": [
    "import pandas as pd\n",
    "from obspy import read,UTCDateTime\n",
    "from datetime import datetime, timedelta\n",
    "import numpy as np\n",
    "import os\n",
    "import glob\n",
    "import sys\n",
    "import matplotlib.pyplot as plt\n",
    "from PIL import Image\n",
    "\n",
    "# Import functions\n",
    "fxndir = '../functions/'\n",
    "sys.path.insert(0,fxndir)\n",
    "from moon2data import *"
   ]
  },
  {
   "cell_type": "markdown",
   "id": "6e124d04-7581-4702-b8be-a2d2c8576401",
   "metadata": {},
   "source": [
    "### Load catalogs of all high quality moonquakes"
   ]
  },
  {
   "cell_type": "code",
   "execution_count": 2,
   "id": "d2c771cb-7010-457e-b3b7-572d962c4999",
   "metadata": {},
   "outputs": [],
   "source": [
    "# Catalog with information by geophone\n",
    "mqdir = '../catalogs/final_catalogs/'\n",
    "cat1 = pd.read_csv(mqdir + 'A17_moonquakes_catalog_HQ_final.csv')\n",
    "cat1.drop(list(cat1.filter(regex='Unnamed|index')), axis=1, inplace=True)\n",
    "\n",
    "# Catalog with information averaged per event\n",
    "cat2 = pd.read_csv(mqdir + 'A17_moonquakes_catalog_HQ_avg_event_stats.csv')\n",
    "cat2.drop(list(cat2.filter(regex='Unnamed|index')), axis=1, inplace=True)"
   ]
  },
  {
   "cell_type": "markdown",
   "id": "ad863342-f206-4d2e-8bb2-5ad6ba2029e4",
   "metadata": {},
   "source": [
    "### Inputs to obtain waveforms"
   ]
  },
  {
   "cell_type": "code",
   "execution_count": 3,
   "id": "66d9975c-3e5c-44cd-9bf8-68de298699d6",
   "metadata": {},
   "outputs": [],
   "source": [
    "parentdir = '/data/ytamama/Apollo17/LSPE_data/sac_volts_ds/'\n",
    "minfreq = 3\n",
    "maxfreq = 35\n",
    "befwin = 10\n",
    "aftwin = 20"
   ]
  },
  {
   "cell_type": "markdown",
   "id": "bd11db1f-5c6f-43d1-8b59-a439b684e44d",
   "metadata": {},
   "source": [
    "### Geophone 3 Events\n",
    "\n",
    "#### From visual inspection of candidate events, we identified the Geophone 3 families"
   ]
  },
  {
   "cell_type": "code",
   "execution_count": 4,
   "id": "5be78aa8-ebc0-4e29-a779-f60f28fd1e08",
   "metadata": {},
   "outputs": [
    {
     "data": {
      "text/plain": [
       "6"
      ]
     },
     "execution_count": 4,
     "metadata": {},
     "output_type": "execute_result"
    }
   ],
   "source": [
    "evid_refs = ['761028-01-M1','761028-23-M3','761030-08-M1','761231-15-M1','770310-23-M4', '770225-21-M1']\n",
    "cat1_geo3 = cat1[cat1['evid_ref'].isin(evid_refs)]\n",
    "evids_geo3_rpt = np.unique(cat1_geo3.evid.tolist())\n",
    "len(np.unique(cat1_geo3.evid_ref.tolist()))"
   ]
  },
  {
   "cell_type": "markdown",
   "id": "0597b827-6257-4ed2-8485-47aefea25a5a",
   "metadata": {},
   "source": [
    "#### ... and the isolated Geophone 3 events "
   ]
  },
  {
   "cell_type": "code",
   "execution_count": 5,
   "id": "95faf183-8bf6-4749-ad29-3fcd72b8896d",
   "metadata": {},
   "outputs": [],
   "source": [
    "evids_isolated = ['760815-21-M1','760831-14-M4','760902-07-M2','760909-03-N1','760912-02-N2','760916-04-N1','760930-21-M2',\n",
    "                 '761004-01-M1','761011-12-M1','761029-17-M2','761102-12-M2','761110-03-M1','761112-06-M1','761127-10-M3',\n",
    "                 '761128-06-M4','761129-19-M2','761227-21-M1','770108-07-M4','770110-06-M2','770126-00-N1','770126-11-M2',\n",
    "                 '770128-00-M1','770208-10-M2','770309-22-M3','770325-20-M1','770325-20-M2','770327-11-M3','760930-02-N2',\n",
    "                 '770405-06-M4','770406-18-M5','770408-12-M5','770423-21-M6','770206-22-M4','760815-17-N2','770205-16-M4',\n",
    "                 '761001-18-M1','770215-02-N1','770223-19-N2','770226-17-M1','761010-12-N2','761011-07-N3','761031-06-M2',\n",
    "                 '761109-05-N1','770301-02-M1','770309-08-M2','761128-06-M4','761128-19-M3','761129-19-M2','761208-23-N3',\n",
    "                 '770310-21-N1','770409-03-M2','761212-00-M2','761227-21-M1','761228-15-M1','770108-07-M4','770110-06-M2',\n",
    "                 '770126-11-M2']\n",
    "evids_isolated = np.unique(evids_isolated)\n",
    "evids_geo3 = np.concatenate([evids_geo3_rpt,evids_isolated])"
   ]
  },
  {
   "cell_type": "markdown",
   "id": "bd16a063-8582-417e-8190-7a5965d63ee6",
   "metadata": {},
   "source": [
    "#### Plot waveforms of selected Geophone 3 events as a sanity check"
   ]
  },
  {
   "cell_type": "code",
   "execution_count": 6,
   "id": "52b400e0-f3a3-44e4-9770-76d2bc6c956c",
   "metadata": {},
   "outputs": [],
   "source": [
    "# Substitute with your own directory\n",
    "savedir = '/data/ytamama/figures/Apollo17/geo3_events/' \n",
    "pngnames = []\n",
    "\n",
    "# Iteratively plot events\n",
    "for evid in evids_geo3:\n",
    "    row = cat2.loc[cat2.evid == evid].iloc[0]\n",
    "    evid_ref = row.evid_ref\n",
    "    arrtime = datetime.strptime(row.avg_picktime_SNR, '%Y-%m-%d %H:%M:%S.%f')\n",
    "    st1 = moon2sac(arrtime,1,befwin,aftwin,minfreq,maxfreq,parentdir)\n",
    "    trdata1 = st1.traces[0].data\n",
    "    trtimes1 = st1.traces[0].times() - befwin\n",
    "    st2 = moon2sac(arrtime,2,befwin,aftwin,minfreq,maxfreq,parentdir)\n",
    "    trdata2 = st2.traces[0].data\n",
    "    trtimes2 = st2.traces[0].times() - befwin\n",
    "    st3 = moon2sac(arrtime,3,befwin,aftwin,minfreq,maxfreq,parentdir)\n",
    "    trdata3 = st3.traces[0].data\n",
    "    trtimes3 = st3.traces[0].times() - befwin\n",
    "    st4 = moon2sac(arrtime,4,befwin,aftwin,minfreq,maxfreq,parentdir)\n",
    "    trdata4 = st4.traces[0].data\n",
    "    trtimes4 = st4.traces[0].times() - befwin\n",
    "\n",
    "    # Normalize\n",
    "    trdata1_norm = trdata1 / np.max(np.abs(trdata1))\n",
    "    trdata2_norm = trdata2 / np.max(np.abs(trdata1))\n",
    "    trdata3_norm = trdata3 / np.max(np.abs(trdata1))\n",
    "    trdata4_norm = trdata4 / np.max(np.abs(trdata1))\n",
    "\n",
    "    # Initialize figure\n",
    "    fig,ax = plt.subplots(1,1,figsize=(8, 5))\n",
    "    ax.plot(trtimes1,trdata1_norm+6, color='C0')\n",
    "    ax.plot(trtimes2,trdata2_norm+4, color='C1')\n",
    "    ax.plot(trtimes3,trdata3_norm+2, color='C2')\n",
    "    ax.plot(trtimes4,trdata4_norm, color='C3')\n",
    "    ax.set_title(f'EVID {evid}, (REF: {evid_ref})',fontweight='bold')\n",
    "    ax.set_xlim([-1*befwin,aftwin])\n",
    "\n",
    "    # Save figure\n",
    "    plt.savefig(savedir + 'EVID' + evid + '_waveforms.png', bbox_inches=\"tight\")\n",
    "    pngnames.append(savedir + 'EVID' + evid + '_waveforms.png')\n",
    "    plt.close()"
   ]
  },
  {
   "cell_type": "code",
   "execution_count": 7,
   "id": "9fc76c80-3863-4d64-b60f-ccbe06e8370c",
   "metadata": {},
   "outputs": [],
   "source": [
    "# Combine figures into one PDF\n",
    "images = [\n",
    "    Image.open(f)\n",
    "    for f in pngnames\n",
    "]\n",
    "geo34_dir = './geo3_geo4_waveforms/'\n",
    "pdf_path = geo34_dir + 'geo3_events.pdf'\n",
    "images[0].save(\n",
    "    pdf_path, \"PDF\" ,resolution=100.0, save_all=True, append_images=images[1:]\n",
    ")\n",
    "\n",
    "for pngname in pngnames:\n",
    "    os.system('rm ' + pngname)"
   ]
  },
  {
   "cell_type": "markdown",
   "id": "9bb2d126-fd20-47fd-85b7-cb194cc27252",
   "metadata": {},
   "source": [
    "#### Isolate Geophone 3 events from catalogs"
   ]
  },
  {
   "cell_type": "code",
   "execution_count": 8,
   "id": "42ae0d4a-6d6a-47fd-a76f-67f8dd3a5a31",
   "metadata": {},
   "outputs": [],
   "source": [
    "# Catalog 1\n",
    "cat1_geo3 = cat1[cat1['evid'].isin(evids_geo3)]\n",
    "cat1_geo3 = cat1_geo3.sort_values(by=['interval_day_number'],ignore_index=True)\n",
    "cat1_geo3 = cat1_geo3.reset_index()\n",
    "cat1_geo3 = cat1_geo3.drop(columns=['index'])\n",
    "\n",
    "# Catalog 2\n",
    "cat2_geo3 = cat2[cat2['evid'].isin(evids_geo3)]\n",
    "cat2_geo3 = cat2_geo3.sort_values(by=['avg_interval_day'],ignore_index=True)\n",
    "cat2_geo3 = cat2_geo3.reset_index()\n",
    "cat2_geo3 = cat2_geo3.drop(columns=['index'])"
   ]
  },
  {
   "cell_type": "markdown",
   "id": "90e7531f-1373-4cc2-8701-632eabf9ff10",
   "metadata": {},
   "source": [
    "#### Save catalogs "
   ]
  },
  {
   "cell_type": "code",
   "execution_count": 9,
   "id": "bdfea4b5-1a36-4300-b80b-e1b52288587e",
   "metadata": {},
   "outputs": [],
   "source": [
    "# Geophone 3 events\n",
    "mqdir2 = mqdir + 'geo3_geo4_events/'\n",
    "cat1_geo3.to_csv(mqdir2 + 'Geophone3_events_catalog_HQ_final.csv',index=False)\n",
    "cat2_geo3.to_csv(mqdir2 + 'Geophone3_events_catalog_HQ_avg_event_stats.csv',index=False)"
   ]
  },
  {
   "cell_type": "code",
   "execution_count": null,
   "id": "af1c3df8-6ae4-48b2-9f15-b649a2bb9bbf",
   "metadata": {},
   "outputs": [],
   "source": []
  },
  {
   "cell_type": "markdown",
   "id": "f02b8ef6-5c12-48a8-afda-b5625074e21e",
   "metadata": {},
   "source": [
    "### Geophone 4 Events\n",
    "\n",
    "#### From visual inspection, identify families with an impulsive signal arriving first at Geophone 4"
   ]
  },
  {
   "cell_type": "code",
   "execution_count": 10,
   "id": "cf67b934-5f59-48a8-8e40-fcd24c285f4f",
   "metadata": {},
   "outputs": [],
   "source": [
    "evid_refs = ['770206-17-M2','770406-21-N2']\n",
    "cat1_geo4 = cat1[cat1['evid_ref'].isin(evid_refs)]\n",
    "evids_geo4_rpt = np.unique(cat1_geo4.evid.tolist())"
   ]
  },
  {
   "cell_type": "markdown",
   "id": "00a28d1e-f82c-4383-9319-7bf1ff7326b1",
   "metadata": {},
   "source": [
    "#### Identify isolated events also with this trait"
   ]
  },
  {
   "cell_type": "code",
   "execution_count": 11,
   "id": "2cf7cb99-c8d4-434f-8faf-89fd116ca233",
   "metadata": {},
   "outputs": [],
   "source": [
    "evids_isolated = ['760911-23-M4','760913-12-M2','761111-14-M5','761211-05-M2','770208-07-N1','770408-13-M2',\n",
    "                 '760831-17-M5','761111-13-M4','761111-13-N2','761209-12-N1','770421-00-M2','770408-11-M7',\n",
    "                 '760913-12-M6']\n",
    "evids_geo4 = np.concatenate([evids_geo4_rpt,evids_isolated])"
   ]
  },
  {
   "cell_type": "markdown",
   "id": "5b72aff7-59b8-4404-b88e-ed8165d17ebf",
   "metadata": {},
   "source": [
    "#### Plot waveforms of Geophone 4 events as a sanity check"
   ]
  },
  {
   "cell_type": "code",
   "execution_count": 12,
   "id": "e37a78d7-9ee6-4a41-b373-2c7bee9063e0",
   "metadata": {},
   "outputs": [],
   "source": [
    "# Substitute with your own directory\n",
    "savedir = '/data/ytamama/figures/Apollo17/geo4_events/'\n",
    "pngnames = []\n",
    "\n",
    "# Iteratively plot events\n",
    "for evid in evids_geo4:\n",
    "    row = cat2.loc[cat2.evid == evid].iloc[0]\n",
    "    evid_ref = row.evid_ref\n",
    "    arrtime = datetime.strptime(row.avg_picktime_SNR, '%Y-%m-%d %H:%M:%S.%f')\n",
    "    st1 = moon2sac(arrtime,1,befwin,aftwin,minfreq,maxfreq,parentdir)\n",
    "    trdata1 = st1.traces[0].data\n",
    "    trtimes1 = st1.traces[0].times() - befwin\n",
    "    st2 = moon2sac(arrtime,2,befwin,aftwin,minfreq,maxfreq,parentdir)\n",
    "    trdata2 = st2.traces[0].data\n",
    "    trtimes2 = st2.traces[0].times() - befwin\n",
    "    st3 = moon2sac(arrtime,3,befwin,aftwin,minfreq,maxfreq,parentdir)\n",
    "    trdata3 = st3.traces[0].data\n",
    "    trtimes3 = st3.traces[0].times() - befwin\n",
    "    st4 = moon2sac(arrtime,4,befwin,aftwin,minfreq,maxfreq,parentdir)\n",
    "    trdata4 = st4.traces[0].data\n",
    "    trtimes4 = st4.traces[0].times() - befwin\n",
    "\n",
    "    # Normalize\n",
    "    trdata1_norm = trdata1 / np.max(np.abs(trdata1))\n",
    "    trdata2_norm = trdata2 / np.max(np.abs(trdata1))\n",
    "    trdata3_norm = trdata3 / np.max(np.abs(trdata1))\n",
    "    trdata4_norm = trdata4 / np.max(np.abs(trdata1))\n",
    "\n",
    "    # Initialize figure\n",
    "    fig,ax = plt.subplots(1,1,figsize=(8, 5))\n",
    "    ax.plot(trtimes1,trdata1_norm+6, color='C0')\n",
    "    ax.plot(trtimes2,trdata2_norm+4, color='C1')\n",
    "    ax.plot(trtimes3,trdata3_norm+2, color='C2')\n",
    "    ax.plot(trtimes4,trdata4_norm, color='C3')\n",
    "    ax.set_title(f'EVID {evid}, (REF: {evid_ref})',fontweight='bold')\n",
    "    ax.set_xlim([-1*befwin,aftwin])\n",
    "\n",
    "    # Save figure\n",
    "    plt.savefig(savedir + 'EVID' + evid + '_waveforms.png', bbox_inches=\"tight\")\n",
    "    pngnames.append(savedir + 'EVID' + evid + '_waveforms.png')\n",
    "    plt.close()"
   ]
  },
  {
   "cell_type": "code",
   "execution_count": 13,
   "id": "de31b9d0-57dd-4876-8004-1dd06f13739a",
   "metadata": {},
   "outputs": [],
   "source": [
    "# Combine figures into one PDF\n",
    "images = [\n",
    "    Image.open(f)\n",
    "    for f in pngnames\n",
    "]\n",
    "pdf_path = geo34_dir + 'geo4_events.pdf'\n",
    "images[0].save(\n",
    "    pdf_path, \"PDF\" ,resolution=100.0, save_all=True, append_images=images[1:]\n",
    ")\n",
    "\n",
    "for pngname in pngnames:\n",
    "    os.system('rm ' + pngname)"
   ]
  },
  {
   "cell_type": "markdown",
   "id": "6e0c424b-62ae-4ea7-9a4f-539bf2e1f6d5",
   "metadata": {},
   "source": [
    "#### Isolate Geophone 4 events from catalogs"
   ]
  },
  {
   "cell_type": "code",
   "execution_count": 14,
   "id": "5557ee32-114e-410a-b8ae-a143f0d9318e",
   "metadata": {},
   "outputs": [],
   "source": [
    "# Catalog 1\n",
    "cat1_geo4 = cat1[cat1['evid'].isin(evids_geo4)]\n",
    "cat1_geo4 = cat1_geo4.sort_values(by=['interval_day_number'],ignore_index=True)\n",
    "cat1_geo4 = cat1_geo4.reset_index()\n",
    "cat1_geo4 = cat1_geo4.drop(columns=['index'])\n",
    "\n",
    "# Catalog 2\n",
    "cat2_geo4 = cat2[cat2['evid'].isin(evids_geo4)]\n",
    "cat2_geo4 = cat2_geo4.sort_values(by=['avg_interval_day'],ignore_index=True)\n",
    "cat2_geo4 = cat2_geo4.reset_index()\n",
    "cat2_geo4 = cat2_geo4.drop(columns=['index'])"
   ]
  },
  {
   "cell_type": "markdown",
   "id": "c613f539-0a59-4a45-ae6f-68e3cd6e6cb5",
   "metadata": {},
   "source": [
    "#### Save catalogs "
   ]
  },
  {
   "cell_type": "code",
   "execution_count": 15,
   "id": "153b7593-40b3-4d75-bc22-bd6de00c1cd9",
   "metadata": {},
   "outputs": [],
   "source": [
    "# Geophone 4 events\n",
    "cat1_geo4.to_csv(mqdir2 + 'Geophone4_events_catalog_HQ_final.csv',index=False)\n",
    "cat2_geo4.to_csv(mqdir2 + 'Geophone4_events_catalog_HQ_avg_event_stats.csv',index=False)"
   ]
  },
  {
   "cell_type": "code",
   "execution_count": null,
   "id": "21df303d-a3aa-429f-a3ee-dae1a348c010",
   "metadata": {},
   "outputs": [],
   "source": []
  }
 ],
 "metadata": {
  "kernelspec": {
   "display_name": "Python 3 (ipykernel)",
   "language": "python",
   "name": "python3"
  },
  "language_info": {
   "codemirror_mode": {
    "name": "ipython",
    "version": 3
   },
   "file_extension": ".py",
   "mimetype": "text/x-python",
   "name": "python",
   "nbconvert_exporter": "python",
   "pygments_lexer": "ipython3",
   "version": "3.7.16"
  }
 },
 "nbformat": 4,
 "nbformat_minor": 5
}
