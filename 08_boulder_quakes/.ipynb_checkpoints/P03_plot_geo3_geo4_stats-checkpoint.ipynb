{
 "cells": [
  {
   "cell_type": "markdown",
   "id": "3bb128b5-068b-4e32-a0d0-47b30d3c7e82",
   "metadata": {},
   "source": [
    "## Plot stats of Geophone 3 and 4 events\n",
    "\n",
    "### Import libraries"
   ]
  },
  {
   "cell_type": "code",
   "execution_count": 1,
   "id": "be380054-7eb0-4ff4-ba09-8a37d4d00fe5",
   "metadata": {
    "tags": []
   },
   "outputs": [],
   "source": [
    "import pandas as pd\n",
    "from obspy import read,UTCDateTime\n",
    "from datetime import datetime, timedelta\n",
    "import numpy as np\n",
    "import os\n",
    "import glob\n",
    "import sys\n",
    "import matplotlib.pyplot as plt\n",
    "from matplotlib import gridspec\n",
    "\n",
    "# Import functions\n",
    "fxndir = '../functions/'\n",
    "sys.path.insert(0,fxndir)\n",
    "from moon2data import *\n",
    "from moonquake_temperatures import *"
   ]
  },
  {
   "cell_type": "markdown",
   "id": "16a2be65-a561-4b1c-b4ba-d3255b7e3d5b",
   "metadata": {},
   "source": [
    "### Load temperature data"
   ]
  },
  {
   "cell_type": "code",
   "execution_count": 2,
   "id": "d9f9f13e-5adb-410a-9d1c-f91ddcf90b30",
   "metadata": {
    "tags": []
   },
   "outputs": [],
   "source": [
    "# Load\n",
    "tempdir = '../catalogs/temperature/'\n",
    "temp_df, int_df = load_temp_cats(tempdir)\n",
    "\n",
    "# Start and end time of one cycle\n",
    "starttime_str = int_df.iloc[0]['start times']\n",
    "starttime = datetime.strptime(int_df.iloc[0]['start times'],'%Y-%m-%d %H:%M:%S')\n",
    "endtime_str = int_df.iloc[2]['end times']\n",
    "endtime = datetime.strptime(int_df.iloc[2]['end times'],'%Y-%m-%d %H:%M:%S')\n",
    "\n",
    "# Times and temperatures \n",
    "temp_df_day = temp_df.loc[(temp_df.Time_YMD >= starttime_str) & (temp_df.Time_YMD <= endtime_str)]\n",
    "times_day = np.array(temp_df_day.Time_s.tolist())/(3600*24)\n",
    "rock_temps_day = np.array(temp_df_day.T_rock_K.tolist())\n",
    "reg_temps_day = np.array(temp_df_day.T_reg_K.tolist())"
   ]
  },
  {
   "cell_type": "markdown",
   "id": "e39a8021-a6fa-4700-97f5-5a3287135f4f",
   "metadata": {},
   "source": [
    "### Inputs to obtain waveforms"
   ]
  },
  {
   "cell_type": "code",
   "execution_count": 3,
   "id": "569f6d05-8b87-48f4-b97e-8d815ca1649d",
   "metadata": {
    "tags": []
   },
   "outputs": [],
   "source": [
    "parentdir = '/data/ytamama/Apollo17/LSPE_data/sac_volts_ds/'\n",
    "minfreq = 3\n",
    "maxfreq = 35\n",
    "befwin = 6\n",
    "aftwin = 25"
   ]
  },
  {
   "cell_type": "markdown",
   "id": "b8d9b9a6-d873-465f-ae4b-55b9dd33251f",
   "metadata": {},
   "source": [
    "### Load Geophone 3, 4 catalogs"
   ]
  },
  {
   "cell_type": "code",
   "execution_count": 4,
   "id": "6fa009a7-db27-4c4e-9879-2c9d2554adea",
   "metadata": {
    "tags": []
   },
   "outputs": [],
   "source": [
    "# Geophone 3\n",
    "mqdir = '../catalogs/final_catalogs/geo3_geo4_events/'\n",
    "cat1_geo3 = pd.read_csv(mqdir + 'Geophone3_events_catalog_HQ_final.csv')\n",
    "cat2_geo3 = pd.read_csv(mqdir + 'Geophone3_events_catalog_HQ_avg_event_stats.csv')\n",
    "cat2_geo3_rpt = cat2_geo3.loc[cat2_geo3.isol_or_rpt == 'repeating']\n",
    "intdays_geo3_rpt = np.array(cat2_geo3_rpt.avg_interval_day.tolist())\n",
    "cat2_geo3_isol = cat2_geo3.loc[cat2_geo3.isol_or_rpt == 'isolated']\n",
    "intdays_geo3_isol = np.array(cat2_geo3_isol.avg_interval_day.tolist())\n",
    "\n",
    "# Geophone 4\n",
    "cat1_geo4 = pd.read_csv(mqdir + 'Geophone4_events_catalog_HQ_final.csv')\n",
    "cat2_geo4 = pd.read_csv(mqdir + 'Geophone4_events_catalog_HQ_avg_event_stats.csv')\n",
    "cat2_geo4_rpt = cat2_geo4.loc[cat2_geo4.isol_or_rpt == 'repeating']\n",
    "intdays_geo4_rpt = np.array(cat2_geo4_rpt.avg_interval_day.tolist())\n",
    "cat2_geo4_isol = cat2_geo4.loc[cat2_geo4.isol_or_rpt == 'isolated']\n",
    "intdays_geo4_isol = np.array(cat2_geo4_isol.avg_interval_day.tolist())"
   ]
  },
  {
   "cell_type": "markdown",
   "id": "84757857-4252-4337-8633-8317789af100",
   "metadata": {},
   "source": [
    "### Obtain waveforms of a Geophone 3 event"
   ]
  },
  {
   "cell_type": "code",
   "execution_count": 5,
   "id": "1dbb053d-9e00-4b3c-8cec-61ee758a292d",
   "metadata": {
    "tags": []
   },
   "outputs": [],
   "source": [
    "# Average arrival time across geophones\n",
    "evid_geo3 = '760815-17-N2'\n",
    "row = cat2_geo3.loc[cat2_geo3.evid == evid_geo3].iloc[0]\n",
    "arrtime = datetime.strptime(row.avg_picktime_SNR, '%Y-%m-%d %H:%M:%S.%f')\n",
    "\n",
    "# Obtain waveforms of example\n",
    "# Geophone 1\n",
    "st1 = moon2sac(arrtime,1,befwin,aftwin,minfreq,maxfreq,parentdir)\n",
    "trtimes1_geo3 = st1.traces[0].times() - befwin\n",
    "trdata1_geo3 = st1.traces[0].data\n",
    "\n",
    "# Geophone 2\n",
    "st2 = moon2sac(arrtime,2,befwin,aftwin,minfreq,maxfreq,parentdir)\n",
    "trtimes2_geo3 = st2.traces[0].times() - befwin\n",
    "trdata2_geo3 = st2.traces[0].data\n",
    "\n",
    "# Geophone 3\n",
    "st3 = moon2sac(arrtime,3,befwin,aftwin,minfreq,maxfreq,parentdir)\n",
    "trtimes3_geo3 = st3.traces[0].times() - befwin\n",
    "trdata3_geo3 = st3.traces[0].data\n",
    "\n",
    "# Geophone 4\n",
    "st4 = moon2sac(arrtime,4,befwin,aftwin,minfreq,maxfreq,parentdir)\n",
    "trtimes4_geo3 = st4.traces[0].times() - befwin\n",
    "trdata4_geo3 = st4.traces[0].data\n",
    "\n",
    "# Normalize relative to Geophone 1\n",
    "trdata1_norm_geo3 = trdata1_geo3 / np.max(np.abs(trdata1_geo3))\n",
    "trdata2_norm_geo3 = trdata2_geo3 / np.max(np.abs(trdata1_geo3))\n",
    "trdata3_norm_geo3 = trdata3_geo3 / np.max(np.abs(trdata1_geo3))\n",
    "trdata4_norm_geo3 = trdata4_geo3 / np.max(np.abs(trdata1_geo3))"
   ]
  },
  {
   "cell_type": "markdown",
   "id": "b3141994-f589-4465-bcda-32fe39bcdd4c",
   "metadata": {},
   "source": [
    "### Obtain waveforms of Geophone 4 events"
   ]
  },
  {
   "cell_type": "code",
   "execution_count": 6,
   "id": "24a1414b-986f-4e99-b9ef-095f733015ce",
   "metadata": {
    "tags": []
   },
   "outputs": [],
   "source": [
    "# Average arrival time across geophones\n",
    "evid_geo4 = '770408-13-M2'\n",
    "row = cat2_geo4.loc[cat2_geo4.evid == evid_geo4].iloc[0]\n",
    "arrtime = datetime.strptime(row.avg_picktime_SNR, '%Y-%m-%d %H:%M:%S.%f')\n",
    "\n",
    "# Obtain waveforms of example\n",
    "# Geophone 1\n",
    "st1 = moon2sac(arrtime,1,befwin,aftwin,minfreq,maxfreq,parentdir)\n",
    "trtimes1_geo4 = st1.traces[0].times() - befwin\n",
    "trdata1_geo4 = st1.traces[0].data\n",
    "\n",
    "# Geophone 2\n",
    "st2 = moon2sac(arrtime,2,befwin,aftwin,minfreq,maxfreq,parentdir)\n",
    "trtimes2_geo4 = st2.traces[0].times() - befwin\n",
    "trdata2_geo4 = st2.traces[0].data\n",
    "\n",
    "# Geophone 3\n",
    "st3 = moon2sac(arrtime,3,befwin,aftwin,minfreq,maxfreq,parentdir)\n",
    "trtimes3_geo4 = st3.traces[0].times() - befwin\n",
    "trdata3_geo4 = st3.traces[0].data\n",
    "\n",
    "# Geophone 4\n",
    "st4 = moon2sac(arrtime,4,befwin,aftwin,minfreq,maxfreq,parentdir)\n",
    "trtimes4_geo4 = st4.traces[0].times() - befwin\n",
    "trdata4_geo4 = st4.traces[0].data\n",
    "\n",
    "# Normalize relative to Geophone 1\n",
    "trdata1_norm_geo4 = trdata1_geo4 / np.max(np.abs(trdata1_geo4))\n",
    "trdata2_norm_geo4 = trdata2_geo4 / np.max(np.abs(trdata1_geo4))\n",
    "trdata3_norm_geo4 = trdata3_geo4 / np.max(np.abs(trdata1_geo4))\n",
    "trdata4_norm_geo4 = trdata4_geo4 / np.max(np.abs(trdata1_geo4))"
   ]
  },
  {
   "cell_type": "markdown",
   "id": "a7c14606-096a-4964-9bdd-b1ebc8f600dd",
   "metadata": {},
   "source": [
    "### Plot temperatures and waveforms"
   ]
  },
  {
   "cell_type": "code",
   "execution_count": 1,
   "id": "a2773798-daf6-4a18-9160-4d7bd4263d72",
   "metadata": {
    "tags": []
   },
   "outputs": [
    {
     "ename": "NameError",
     "evalue": "name 'plt' is not defined",
     "output_type": "error",
     "traceback": [
      "\u001b[0;31m---------------------------------------------------------------------------\u001b[0m",
      "\u001b[0;31mNameError\u001b[0m                                 Traceback (most recent call last)",
      "\u001b[0;32m/tmp/ipykernel_1827626/1057464680.py\u001b[0m in \u001b[0;36m<module>\u001b[0;34m\u001b[0m\n\u001b[1;32m      1\u001b[0m \u001b[0;31m# Initialize figure\u001b[0m\u001b[0;34m\u001b[0m\u001b[0;34m\u001b[0m\u001b[0;34m\u001b[0m\u001b[0m\n\u001b[0;32m----> 2\u001b[0;31m \u001b[0mfig\u001b[0m \u001b[0;34m=\u001b[0m \u001b[0mplt\u001b[0m\u001b[0;34m.\u001b[0m\u001b[0mfigure\u001b[0m\u001b[0;34m(\u001b[0m\u001b[0mfigsize\u001b[0m\u001b[0;34m=\u001b[0m\u001b[0;34m(\u001b[0m\u001b[0;36m10.\u001b[0m\u001b[0;34m,\u001b[0m \u001b[0;36m5\u001b[0m\u001b[0;34m)\u001b[0m\u001b[0;34m,\u001b[0m \u001b[0mdpi\u001b[0m\u001b[0;34m=\u001b[0m\u001b[0;36m500\u001b[0m\u001b[0;34m)\u001b[0m\u001b[0;34m\u001b[0m\u001b[0;34m\u001b[0m\u001b[0m\n\u001b[0m\u001b[1;32m      3\u001b[0m \u001b[0mgs\u001b[0m \u001b[0;34m=\u001b[0m \u001b[0mgridspec\u001b[0m\u001b[0;34m.\u001b[0m\u001b[0mGridSpec\u001b[0m\u001b[0;34m(\u001b[0m\u001b[0;36m2\u001b[0m\u001b[0;34m,\u001b[0m \u001b[0;36m2\u001b[0m\u001b[0;34m,\u001b[0m \u001b[0mwidth_ratios\u001b[0m\u001b[0;34m=\u001b[0m\u001b[0;34m(\u001b[0m\u001b[0;36m2\u001b[0m\u001b[0;34m,\u001b[0m\u001b[0;36m1\u001b[0m\u001b[0;34m)\u001b[0m\u001b[0;34m)\u001b[0m\u001b[0;34m\u001b[0m\u001b[0;34m\u001b[0m\u001b[0m\n\u001b[1;32m      4\u001b[0m \u001b[0;34m\u001b[0m\u001b[0m\n\u001b[1;32m      5\u001b[0m \u001b[0;31m# Geophone 3\u001b[0m\u001b[0;34m\u001b[0m\u001b[0;34m\u001b[0m\u001b[0;34m\u001b[0m\u001b[0m\n",
      "\u001b[0;31mNameError\u001b[0m: name 'plt' is not defined"
     ]
    }
   ],
   "source": [
    "# Initialize figure\n",
    "fig = plt.figure(figsize=(10., 5), dpi=500)\n",
    "gs = gridspec.GridSpec(2, 2, width_ratios=(2,1)) \n",
    "\n",
    "# Geophone 3\n",
    "# Temperatures\n",
    "ax_temp_geo3 = fig.add_subplot(gs[0,1])\n",
    "ax_temp_geo3.plot(times_day, reg_temps_day, color='dimgrey',label='Reg',linewidth=3)\n",
    "ax_temp_geo3.plot(times_day, rock_temps_day, color='black',label='Rock',linewidth=3)\n",
    "ax_temp_geo3.set_xlim([-0.2,30])\n",
    "ax_temp_geo3.tick_params(axis='both',labelsize=10)\n",
    "ax_temp_geo3.set_xlabel('Time (days)',fontsize=10)\n",
    "ax_temp_geo3.set_ylabel('Temperature (K)',fontsize=10)\n",
    "# Plot temperature of moonquakes\n",
    "ax_temp2_geo3 = ax_temp_geo3.twinx()\n",
    "bins = np.arange(0,31,2)\n",
    "ax_temp2_geo3.hist(intdays_geo3_isol,alpha=0.4,edgecolor='black',linewidth=2,color='C0',bins=bins,label='Isol')\n",
    "ax_temp2_geo3.hist(intdays_geo3_rpt,alpha=0.4,edgecolor='black',linewidth=2,color='C1',bins=bins,label='Rpt')\n",
    "hist1 = ax_temp2_geo3.get_children()[0]\n",
    "hist2 = ax_temp2_geo3.get_children()[-11]\n",
    "ax_temp2_geo3.set_ylabel('# Events',fontsize=10)\n",
    "ax_temp2_geo3.legend([hist2, hist1],['Rpt', 'Isol'],loc='upper right',fontsize=9)\n",
    "\n",
    "# Waveforms\n",
    "ax_wave_geo3 = fig.add_subplot(gs[0,0])\n",
    "dist = 2.5\n",
    "ax_wave_geo3.plot(trtimes1_geo3,trdata1_norm_geo3 + 3.6*dist,color='C0',label=f'G1',alpha=0.9)\n",
    "ax_wave_geo3.set_xlim([-1*befwin,aftwin])\n",
    "ax_wave_geo3.set_xlabel('Time (s)',fontsize=10)\n",
    "ax_wave_geo3.set_ylabel('Volts (norm.)',fontsize=10)\n",
    "ax_wave_geo3.tick_params(axis='both',labelsize=10)\n",
    "ax_wave_geo3.set_yticklabels([])\n",
    "ax_wave_geo3.plot(trtimes2_geo3,trdata2_norm_geo3 + 2.4*dist,color='C1',label=f'G2',alpha=0.9)\n",
    "ax_wave_geo3.plot(trtimes3_geo3,trdata3_norm_geo3 + 1.2*dist,color='C2',label=f'G3',alpha=0.9)\n",
    "ax_wave_geo3.plot(trtimes4_geo3,trdata4_norm_geo3,color='C3',label=f'G4',alpha=0.9)\n",
    "ax_wave_geo3.legend(loc='upper right',framealpha=1)\n",
    "\n",
    "\n",
    "# Geophone 4\n",
    "# Temperatures\n",
    "ax_temp_geo4 = fig.add_subplot(gs[1,1])\n",
    "ax_temp_geo4.plot(times_day, reg_temps_day, color='dimgrey',label='Reg',linewidth=3)\n",
    "ax_temp_geo4.plot(times_day, rock_temps_day, color='black',label='Rock',linewidth=3)\n",
    "ax_temp_geo4.set_xlim([-0.2,30])\n",
    "ax_temp_geo4.tick_params(axis='both',labelsize=10)\n",
    "ax_temp_geo4.set_xlabel('Time (days)',fontsize=10)\n",
    "ax_temp_geo4.set_ylabel('Temperature (K)',fontsize=10)\n",
    "ax_temp_geo4.legend(loc='upper left',fontsize=9)\n",
    "# Plot temperature of moonquakes\n",
    "ax_temp2_geo4 = ax_temp_geo4.twinx()\n",
    "bins = np.arange(0,31,2)\n",
    "ax_temp2_geo4.hist(intdays_geo4_isol,alpha=0.4,edgecolor='black',linewidth=2,color='C0',bins=bins,label='Isol')\n",
    "ax_temp2_geo4.hist(intdays_geo4_rpt,alpha=0.4,edgecolor='black',linewidth=2,color='C1',bins=bins,label='Rpt')\n",
    "ax_temp2_geo4.set_ylabel('# Events',fontsize=10)\n",
    "\n",
    "# Waveforms\n",
    "ax_wave_geo4 = fig.add_subplot(gs[1,0])\n",
    "dist = 2.\n",
    "ax_wave_geo4.plot(trtimes1_geo4,trdata1_norm_geo4 + 4.5*dist,color='C0',label=f'G1',alpha=0.9)\n",
    "ax_wave_geo4.set_xlim([-1*befwin,aftwin])\n",
    "ax_wave_geo4.set_xlabel('Time (s)',fontsize=10)\n",
    "ax_wave_geo4.set_ylabel('Volts (norm.)',fontsize=10)\n",
    "ax_wave_geo4.tick_params(axis='both',labelsize=10)\n",
    "ax_wave_geo4.set_yticklabels([])\n",
    "ax_wave_geo4.plot(trtimes2_geo4,trdata2_norm_geo4 + 3*dist,color='C1',label=f'G2',alpha=0.9)\n",
    "ax_wave_geo4.plot(trtimes3_geo4,trdata3_norm_geo4 + 1.5*dist,color='C2',label=f'G3',alpha=0.9)\n",
    "ax_wave_geo4.plot(trtimes4_geo4,trdata4_norm_geo4,color='C3',label=f'G4',alpha=0.9)\n",
    "\n",
    "\n",
    "# Adjust subplots\n",
    "plt.subplots_adjust(wspace = 0.25, hspace = 0.5)"
   ]
  },
  {
   "cell_type": "code",
   "execution_count": null,
   "id": "3d262c6b-d13d-4a96-8773-57204e85b99d",
   "metadata": {},
   "outputs": [],
   "source": []
  }
 ],
 "metadata": {
  "kernelspec": {
   "display_name": "Python 3 (ipykernel)",
   "language": "python",
   "name": "python3"
  },
  "language_info": {
   "codemirror_mode": {
    "name": "ipython",
    "version": 3
   },
   "file_extension": ".py",
   "mimetype": "text/x-python",
   "name": "python",
   "nbconvert_exporter": "python",
   "pygments_lexer": "ipython3",
   "version": "3.7.16"
  }
 },
 "nbformat": 4,
 "nbformat_minor": 5
}
