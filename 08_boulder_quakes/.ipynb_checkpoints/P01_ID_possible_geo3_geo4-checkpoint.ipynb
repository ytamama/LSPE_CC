{
 "cells": [
  {
   "cell_type": "markdown",
   "id": "403f65b2-11f1-4529-b6bb-057955b7bc8c",
   "metadata": {},
   "source": [
    "## Identify and plot Geophone 3 and Geophone 4 events\n",
    "\n",
    "### Import libraries"
   ]
  },
  {
   "cell_type": "code",
   "execution_count": 1,
   "id": "0259ab77-6426-4a0e-8b71-0f8afa1c3515",
   "metadata": {
    "tags": []
   },
   "outputs": [],
   "source": [
    "import pandas as pd\n",
    "from obspy import read,UTCDateTime\n",
    "from datetime import datetime, timedelta\n",
    "import numpy as np\n",
    "import os\n",
    "import glob\n",
    "import sys\n",
    "import matplotlib.pyplot as plt\n",
    "from PIL import Image\n",
    "\n",
    "# Import functions\n",
    "fxndir = '../functions/'\n",
    "sys.path.insert(0,fxndir)\n",
    "from moon2data import *"
   ]
  },
  {
   "cell_type": "markdown",
   "id": "37f55c94-dfbd-42dd-bd16-73c348e56aa9",
   "metadata": {},
   "source": [
    "### Inputs to obtain waveforms"
   ]
  },
  {
   "cell_type": "code",
   "execution_count": 2,
   "id": "6166c23a-962a-4033-9b66-fe17fa5d885d",
   "metadata": {
    "tags": []
   },
   "outputs": [],
   "source": [
    "parentdir = '/data/ytamama/Apollo17/LSPE_data/sac_volts_ds/'\n",
    "minfreq = 3\n",
    "maxfreq = 35\n",
    "befwin = 15\n",
    "aftwin = 30"
   ]
  },
  {
   "cell_type": "markdown",
   "id": "f5ca471e-b90e-40b2-ac54-fb5a893a76a2",
   "metadata": {},
   "source": [
    "### Load moonquake catalogs"
   ]
  },
  {
   "cell_type": "code",
   "execution_count": 3,
   "id": "54cf75ec-490e-410e-a24f-e4bd9b451f80",
   "metadata": {
    "tags": []
   },
   "outputs": [],
   "source": [
    "# Catalog with information by geophone\n",
    "mqdir = '../catalogs/final_catalogs/'\n",
    "cat1 = pd.read_csv(mqdir + 'A17_moonquakes_catalog_HQ_final.csv')\n",
    "cat1.drop(list(cat1.filter(regex='Unnamed|index')), axis=1, inplace=True)\n",
    "\n",
    "# Catalog with information averaged per event\n",
    "cat2 = pd.read_csv(mqdir + 'A17_moonquakes_catalog_HQ_avg_event_stats.csv')\n",
    "cat2.drop(list(cat2.filter(regex='Unnamed|index')), axis=1, inplace=True)"
   ]
  },
  {
   "cell_type": "markdown",
   "id": "363aa7cd-f9a2-4354-bbf1-1ce3510529c4",
   "metadata": {},
   "source": [
    "### Distinguish between isolated and repeating"
   ]
  },
  {
   "cell_type": "code",
   "execution_count": 4,
   "id": "4c7f6eb7-b462-44fa-9a71-4a29b9eece5f",
   "metadata": {
    "tags": []
   },
   "outputs": [],
   "source": [
    "# Repeating\n",
    "cat1_rpt = cat1.loc[cat1.isol_or_rpt == 'repeating'].reset_index()\n",
    "cat2_rpt = cat2.loc[cat2.isol_or_rpt == 'repeating'].reset_index()\n",
    "evid_refs = np.unique(cat2_rpt.evid_ref.tolist())\n",
    "\n",
    "# Isolated\n",
    "cat1_isol = cat1.loc[cat1.isol_or_rpt == 'isolated'].reset_index()\n",
    "cat2_isol = cat2.loc[cat2.isol_or_rpt == 'isolated'].reset_index()\n",
    "evids_isol = np.unique(cat2_isol.evid.tolist())"
   ]
  },
  {
   "cell_type": "markdown",
   "id": "ffa451a0-8e92-4a87-aaca-403690c6c5cd",
   "metadata": {},
   "source": [
    "## 1. Identify possible Geophone 3 and 4 events"
   ]
  },
  {
   "cell_type": "markdown",
   "id": "3f400790-c012-4fc9-a369-aa58a2fd8035",
   "metadata": {},
   "source": [
    "### Identify families whose:\n",
    "\n",
    "1. Stacked waveforms have the largest signal at Geophone 3 and whose average emergence at Geophone 3 is under 5s\n",
    "2. Stacked waveforms have the largest signal at Geophone 4 and whose average emergence at Geophone 4 is under 5s"
   ]
  },
  {
   "cell_type": "code",
   "execution_count": 5,
   "id": "d92abcaa-092f-4c78-ae04-de6608aa45cb",
   "metadata": {
    "tags": []
   },
   "outputs": [],
   "source": [
    "evid_refs_geo3 = []\n",
    "evid_refs_geo4 = []\n",
    "\n",
    "# Iterate through families\n",
    "for evid_ref in evid_refs:\n",
    "    \n",
    "    # Data for each event in family\n",
    "    rows1 = cat1_rpt.loc[cat1_rpt.evid_ref == evid_ref]\n",
    "    rows2 = cat2_rpt.loc[cat2_rpt.evid_ref == evid_ref]\n",
    "    evids_family = np.unique(rows2.evid.tolist())\n",
    "    num_evts = len(evids_family)\n",
    "\n",
    "    # Stack waveforms\n",
    "    firstst1 = 1\n",
    "    firstst2 = 1\n",
    "    firstst3 = 1\n",
    "    firstst4 = 1\n",
    "    for evid in evids_family:\n",
    "        row2 = rows2.loc[rows2.evid == evid].iloc[0]\n",
    "        arrtime = datetime.strptime(row2.avg_picktime_SNR, '%Y-%m-%d %H:%M:%S.%f')\n",
    "\n",
    "        # Geophone 1\n",
    "        st1 = moon2sac(arrtime,1,befwin,aftwin,minfreq,maxfreq,parentdir)\n",
    "        if (st1 != '') & (firstst1 == 1):\n",
    "            evtst1 = st1\n",
    "            firstst1 = 0\n",
    "        elif (st1 != '') & (firstst1 == 0):\n",
    "            evtst1 += st1\n",
    "\n",
    "        # Geophone 2\n",
    "        st2 = moon2sac(arrtime,2,befwin,aftwin,minfreq,maxfreq,parentdir)\n",
    "        if (st2 != '') & (firstst2 == 1):\n",
    "            evtst2 = st2\n",
    "            firstst2 = 0\n",
    "        elif (st2 != '') & (firstst2 == 0):\n",
    "            evtst2 += st2\n",
    "\n",
    "        # Geophone 3\n",
    "        st3 = moon2sac(arrtime,3,befwin,aftwin,minfreq,maxfreq,parentdir)\n",
    "        if (st3 != '') & (firstst3 == 1):\n",
    "            evtst3 = st3\n",
    "            firstst3 = 0\n",
    "        elif (st3 != '') & (firstst3 == 0):\n",
    "            evtst3 += st3\n",
    "\n",
    "        # Geophone 4\n",
    "        st4 = moon2sac(arrtime,4,befwin,aftwin,minfreq,maxfreq,parentdir)\n",
    "        if (st4 != '') & (firstst4 == 1):\n",
    "            evtst4 = st4\n",
    "            firstst4 = 0\n",
    "        elif (st4 != '') & (firstst4 == 0):\n",
    "            evtst4 += st4\n",
    "            \n",
    "    # Stack\n",
    "    # Geophone 1\n",
    "    st_stack1 = evtst1.copy()\n",
    "    st_stack1.stack(npts_tol=2)\n",
    "    trdata1 = st_stack1.traces[0].data\n",
    "    # Geophone 2\n",
    "    st_stack2 = evtst2.copy()\n",
    "    st_stack2.stack(npts_tol=2)\n",
    "    trdata2 = st_stack2.traces[0].data\n",
    "    # Geophone 3\n",
    "    st_stack3 = evtst3.copy()\n",
    "    st_stack3.stack(npts_tol=2)\n",
    "    trdata3 = st_stack3.traces[0].data\n",
    "    # Geophone 4\n",
    "    st_stack4 = evtst4.copy()\n",
    "    st_stack4.stack(npts_tol=2)\n",
    "    trdata4 = st_stack4.traces[0].data\n",
    "\n",
    "    # Check on which geophone is the amplitude highest\n",
    "    pgv_geo1 = np.max(np.abs(trdata1))\n",
    "    pgv_geo2 = np.max(np.abs(trdata2))\n",
    "    pgv_geo3 = np.max(np.abs(trdata3))\n",
    "    pgv_geo4 = np.max(np.abs(trdata4))\n",
    "    df = pd.DataFrame(data = {'geophones':[1, 2, 3, 4], 'PGV':np.array([pgv_geo1, pgv_geo2, pgv_geo3, pgv_geo4])})\n",
    "    df = df.sort_values(by=['PGV'],ascending=False)\n",
    "    geophones = df.geophones.tolist()\n",
    "   \n",
    "    # If amplitudes highest at Geophone 3\n",
    "    if (geophones[0] == 3):\n",
    "        # Check emergences \n",
    "        rows1_geo3 = rows1.loc[rows1.geophone == 3]\n",
    "        if len(rows1_geo3) > 0:\n",
    "            emergence_mean = np.mean(rows1_geo3.emergence_s.tolist())\n",
    "            if emergence_mean <= 5:\n",
    "                evid_refs_geo3.append(evid_ref)\n",
    "            \n",
    "    # If amplitudes highest at Geophone 4\n",
    "    elif (geophones[0] == 4):\n",
    "        # Check emergences \n",
    "        rows1_geo4 = rows1.loc[rows1.geophone == 4]\n",
    "        if len(rows1_geo4) > 0:\n",
    "            emergence_mean = np.mean(rows1_geo4.emergence_s.tolist())\n",
    "            if emergence_mean <= 5:\n",
    "                evid_refs_geo4.append(evid_ref)\n"
   ]
  },
  {
   "cell_type": "markdown",
   "id": "04140fd6-f189-40ae-8b28-c5cc0719db5c",
   "metadata": {},
   "source": [
    "### Repeat for isolated events"
   ]
  },
  {
   "cell_type": "code",
   "execution_count": 6,
   "id": "16a48935-2b87-46e6-9c35-dfe9859717ec",
   "metadata": {
    "tags": []
   },
   "outputs": [],
   "source": [
    "evids_geo3_isol = []\n",
    "evids_geo4_isol = []\n",
    "\n",
    "# Iterate through isolated events\n",
    "for evid in evids_isol:\n",
    "    rows1 = cat1_isol.loc[cat1_isol.evid == evid]\n",
    "    row2 = cat2_isol.loc[cat2_isol.evid == evid].iloc[0]\n",
    "    arrtime = datetime.strptime(row2.avg_picktime_SNR, '%Y-%m-%d %H:%M:%S.%f')\n",
    "\n",
    "    # Traces at each geophone\n",
    "    st1 = moon2sac(arrtime,1,befwin,aftwin,minfreq,maxfreq,parentdir)\n",
    "    trdata1 = st1.traces[0].data\n",
    "    st2 = moon2sac(arrtime,2,befwin,aftwin,minfreq,maxfreq,parentdir)\n",
    "    trdata2 = st2.traces[0].data\n",
    "    st3 = moon2sac(arrtime,3,befwin,aftwin,minfreq,maxfreq,parentdir)\n",
    "    trdata3 = st3.traces[0].data\n",
    "    st4 = moon2sac(arrtime,4,befwin,aftwin,minfreq,maxfreq,parentdir)\n",
    "    trdata4 = st4.traces[0].data\n",
    "    \n",
    "    # Check on which geophone is the amplitude highest\n",
    "    pgv_geo1 = np.max(np.abs(trdata1))\n",
    "    pgv_geo2 = np.max(np.abs(trdata2))\n",
    "    pgv_geo3 = np.max(np.abs(trdata3))\n",
    "    pgv_geo4 = np.max(np.abs(trdata4))\n",
    "    df = pd.DataFrame(data = {'geophones':[1, 2, 3, 4], 'PGV':np.array([pgv_geo1, pgv_geo2, pgv_geo3, pgv_geo4])})\n",
    "    df = df.sort_values(by=['PGV'],ascending=False)\n",
    "    geophones = df.geophones.tolist()\n",
    "    \n",
    "    # Amplitude greatest at Geophone 3\n",
    "    if (geophones[0] == 3):\n",
    "        # Check emergence at Geophone 3\n",
    "        row_geo3 = cat1_isol.loc[(cat1_isol.evid == evid) & (cat1_isol.geophone == 3)]\n",
    "        if len(row_geo3) > 0:\n",
    "            row_geo3 = row_geo3.iloc[0]\n",
    "            emergence_geo3 = np.mean(row_geo3.emergence_s.tolist())\n",
    "            if emergence_geo3 <= 5:\n",
    "                evids_geo3_isol.append(evid)\n",
    "    \n",
    "    # Amplitude greatest at Geophone 4\n",
    "    elif (geophones[0] == 4):\n",
    "        # Check emergence at Geophone 4\n",
    "        row_geo4 = cat1_isol.loc[(cat1_isol.evid == evid) & (cat1_isol.geophone == 4)]\n",
    "        if len(row_geo4) > 0:\n",
    "            row_geo4 = row_geo4.iloc[0]\n",
    "            emergence_geo4 = np.mean(row_geo4.emergence_s.tolist())\n",
    "            if emergence_geo4 <= 5:\n",
    "                evids_geo4_isol.append(evid)\n"
   ]
  },
  {
   "cell_type": "markdown",
   "id": "203ce2ab-e9e0-4c84-95f2-62021a9ac920",
   "metadata": {},
   "source": [
    "## 2. Plot candidate Geophone 3, Geophone 4 events\n",
    "\n",
    "Determined from visual inspection\n",
    "\n",
    "### Repeating Geophone 3 events"
   ]
  },
  {
   "cell_type": "code",
   "execution_count": 7,
   "id": "7d445a0e-cf0b-4892-a8fc-5534af9f85bf",
   "metadata": {
    "tags": []
   },
   "outputs": [],
   "source": [
    "cat1_rpt_geo3 = cat1[cat1['evid_ref'].isin(evid_refs_geo3)]\n",
    "evids_geo3 = np.unique(cat1_rpt_geo3.evid.tolist())\n",
    "savedir = '/data/ytamama/figures/Apollo17/geo3_events/repeating/'\n",
    "pngnames = []\n",
    "\n",
    "# Obtain waveforms\n",
    "for evid in evids_geo3:\n",
    "    row = cat2.loc[cat2.evid == evid].iloc[0]\n",
    "    evid_ref = row.evid_ref\n",
    "    arrtime = datetime.strptime(row.avg_picktime_SNR, '%Y-%m-%d %H:%M:%S.%f')\n",
    "    st1 = moon2sac(arrtime,1,befwin,aftwin,minfreq,maxfreq,parentdir)\n",
    "    trdata1 = st1.traces[0].data\n",
    "    trtimes1 = st1.traces[0].times() - befwin\n",
    "    st2 = moon2sac(arrtime,2,befwin,aftwin,minfreq,maxfreq,parentdir)\n",
    "    trdata2 = st2.traces[0].data\n",
    "    trtimes2 = st2.traces[0].times() - befwin\n",
    "    st3 = moon2sac(arrtime,3,befwin,aftwin,minfreq,maxfreq,parentdir)\n",
    "    trdata3 = st3.traces[0].data\n",
    "    trtimes3 = st3.traces[0].times() - befwin\n",
    "    st4 = moon2sac(arrtime,4,befwin,aftwin,minfreq,maxfreq,parentdir)\n",
    "    trdata4 = st4.traces[0].data\n",
    "    trtimes4 = st4.traces[0].times() - befwin\n",
    "\n",
    "    # Normalize\n",
    "    trdata1_norm = trdata1 / np.max(np.abs(trdata1))\n",
    "    trdata2_norm = trdata2 / np.max(np.abs(trdata1))\n",
    "    trdata3_norm = trdata3 / np.max(np.abs(trdata1))\n",
    "    trdata4_norm = trdata4 / np.max(np.abs(trdata1))\n",
    "\n",
    "    # Initialize figure\n",
    "    fig,ax = plt.subplots(1,1,figsize=(8, 5))\n",
    "    ax.plot(trtimes1,trdata1_norm+6, color='C0')\n",
    "    ax.plot(trtimes2,trdata2_norm+4, color='C1')\n",
    "    ax.plot(trtimes3,trdata3_norm+2, color='C2')\n",
    "    ax.plot(trtimes4,trdata4_norm, color='C3')\n",
    "    ax.set_title(f'EVID {evid}, (REF: {evid_ref})',fontweight='bold')\n",
    "    ax.set_xlim([-1*befwin,aftwin])\n",
    "\n",
    "    # Save figure\n",
    "    plt.savefig(savedir + 'EVID' + evid + '_waveforms.png', bbox_inches=\"tight\")\n",
    "    pngnames.append(savedir + 'EVID' + evid + '_waveforms.png')\n",
    "    plt.close()"
   ]
  },
  {
   "cell_type": "code",
   "execution_count": 8,
   "id": "96e19d6f-b449-453d-9698-77c6f88f30ac",
   "metadata": {
    "tags": []
   },
   "outputs": [],
   "source": [
    "# Aggregate figures into PDF\n",
    "images = [\n",
    "    Image.open(f)\n",
    "    for f in pngnames\n",
    "]\n",
    "geo34_dir = './geo3_geo4_waveforms/'\n",
    "pdf_path = geo34_dir + 'possible_geo3_repeating.pdf'\n",
    "images[0].save(\n",
    "    pdf_path, \"PDF\" ,resolution=100.0, save_all=True, append_images=images[1:]\n",
    ")\n",
    "\n",
    "for pngname in pngnames:\n",
    "    os.system('rm ' + pngname)"
   ]
  },
  {
   "cell_type": "markdown",
   "id": "e15e762a-485b-4571-be3d-7c9b4397ccdc",
   "metadata": {},
   "source": [
    "### Isolated Geophone 3 events"
   ]
  },
  {
   "cell_type": "code",
   "execution_count": 9,
   "id": "5b32f39c-c097-416c-86c3-c7fcd3053188",
   "metadata": {
    "tags": []
   },
   "outputs": [],
   "source": [
    "cat1_isol_geo3 = cat1[cat1['evid'].isin(evids_geo3_isol)]\n",
    "savedir = '/data/ytamama/figures/Apollo17/geo3_events/isolated/'\n",
    "pngnames = []\n",
    "\n",
    "# Obtain waveforms\n",
    "for evid in evids_geo3_isol:\n",
    "    row = cat2.loc[cat2.evid == evid].iloc[0]\n",
    "    arrtime = datetime.strptime(row.avg_picktime_SNR, '%Y-%m-%d %H:%M:%S.%f')\n",
    "    st1 = moon2sac(arrtime,1,befwin,aftwin,minfreq,maxfreq,parentdir)\n",
    "    trdata1 = st1.traces[0].data\n",
    "    trtimes1 = st1.traces[0].times() - befwin\n",
    "    st2 = moon2sac(arrtime,2,befwin,aftwin,minfreq,maxfreq,parentdir)\n",
    "    trdata2 = st2.traces[0].data\n",
    "    trtimes2 = st2.traces[0].times() - befwin\n",
    "    st3 = moon2sac(arrtime,3,befwin,aftwin,minfreq,maxfreq,parentdir)\n",
    "    trdata3 = st3.traces[0].data\n",
    "    trtimes3 = st3.traces[0].times() - befwin\n",
    "    st4 = moon2sac(arrtime,4,befwin,aftwin,minfreq,maxfreq,parentdir)\n",
    "    trdata4 = st4.traces[0].data\n",
    "    trtimes4 = st4.traces[0].times() - befwin\n",
    "\n",
    "    # Normalize\n",
    "    trdata1_norm = trdata1 / np.max(np.abs(trdata1))\n",
    "    trdata2_norm = trdata2 / np.max(np.abs(trdata1))\n",
    "    trdata3_norm = trdata3 / np.max(np.abs(trdata1))\n",
    "    trdata4_norm = trdata4 / np.max(np.abs(trdata1))\n",
    "\n",
    "    # Initialize figure\n",
    "    fig,ax = plt.subplots(1,1,figsize=(8, 5))\n",
    "    ax.plot(trtimes1,trdata1_norm+6, color='C0')\n",
    "    ax.plot(trtimes2,trdata2_norm+4, color='C1')\n",
    "    ax.plot(trtimes3,trdata3_norm+2, color='C2')\n",
    "    ax.plot(trtimes4,trdata4_norm, color='C3')\n",
    "    ax.set_title(f'EVID {evid}',fontweight='bold')\n",
    "    ax.set_xlim([-1*befwin,aftwin])\n",
    "\n",
    "    # Save figure\n",
    "    plt.savefig(savedir + 'EVID' + evid + '_waveforms.png', bbox_inches=\"tight\")\n",
    "    pngnames.append(savedir + 'EVID' + evid + '_waveforms.png')\n",
    "    plt.close()"
   ]
  },
  {
   "cell_type": "code",
   "execution_count": 10,
   "id": "3b29c332-5922-4564-ad58-ec4396dd9310",
   "metadata": {
    "tags": []
   },
   "outputs": [],
   "source": [
    "# Aggregate figures into PDF\n",
    "images = [\n",
    "    Image.open(f)\n",
    "    for f in pngnames\n",
    "]\n",
    "pdf_path = geo34_dir + 'possible_geo3_isolated.pdf'\n",
    "images[0].save(\n",
    "    pdf_path, \"PDF\" ,resolution=100.0, save_all=True, append_images=images[1:]\n",
    ")\n",
    "\n",
    "for pngname in pngnames:\n",
    "    os.system('rm ' + pngname)"
   ]
  },
  {
   "cell_type": "markdown",
   "id": "b7883448-c2c5-4a52-9cae-2424da9583b5",
   "metadata": {},
   "source": [
    "### Repeating Geophone 4 events"
   ]
  },
  {
   "cell_type": "code",
   "execution_count": 11,
   "id": "2253b119-0f1e-484e-838c-0a80501e2975",
   "metadata": {
    "tags": []
   },
   "outputs": [],
   "source": [
    "cat1_rpt_geo4 = cat1[cat1['evid_ref'].isin(evid_refs_geo4)]\n",
    "evids_geo4 = np.unique(cat1_rpt_geo4.evid.tolist())\n",
    "savedir = '/data/ytamama/figures/Apollo17/geo4_events/repeating/'\n",
    "pngnames = []\n",
    "\n",
    "# Obtain waveforms\n",
    "for evid in evids_geo4:\n",
    "    row = cat2.loc[cat2.evid == evid].iloc[0]\n",
    "    evid_ref = row.evid_ref\n",
    "    arrtime = datetime.strptime(row.avg_picktime_SNR, '%Y-%m-%d %H:%M:%S.%f')\n",
    "    st1 = moon2sac(arrtime,1,befwin,aftwin,minfreq,maxfreq,parentdir)\n",
    "    trdata1 = st1.traces[0].data\n",
    "    trtimes1 = st1.traces[0].times() - befwin\n",
    "    st2 = moon2sac(arrtime,2,befwin,aftwin,minfreq,maxfreq,parentdir)\n",
    "    trdata2 = st2.traces[0].data\n",
    "    trtimes2 = st2.traces[0].times() - befwin\n",
    "    st3 = moon2sac(arrtime,3,befwin,aftwin,minfreq,maxfreq,parentdir)\n",
    "    trdata3 = st3.traces[0].data\n",
    "    trtimes3 = st3.traces[0].times() - befwin\n",
    "    st4 = moon2sac(arrtime,4,befwin,aftwin,minfreq,maxfreq,parentdir)\n",
    "    trdata4 = st4.traces[0].data\n",
    "    trtimes4 = st4.traces[0].times() - befwin\n",
    "\n",
    "    # Normalize\n",
    "    trdata1_norm = trdata1 / np.max(np.abs(trdata1))\n",
    "    trdata2_norm = trdata2 / np.max(np.abs(trdata1))\n",
    "    trdata3_norm = trdata3 / np.max(np.abs(trdata1))\n",
    "    trdata4_norm = trdata4 / np.max(np.abs(trdata1))\n",
    "\n",
    "    # Initialize figure\n",
    "    fig,ax = plt.subplots(1,1,figsize=(8, 5))\n",
    "    ax.plot(trtimes1,trdata1_norm+6, color='C0')\n",
    "    ax.plot(trtimes2,trdata2_norm+4, color='C1')\n",
    "    ax.plot(trtimes3,trdata3_norm+2, color='C2')\n",
    "    ax.plot(trtimes4,trdata4_norm, color='C3')\n",
    "    ax.set_title(f'EVID {evid}, (REF: {evid_ref})',fontweight='bold')\n",
    "    ax.set_xlim([-1*befwin,aftwin])\n",
    "\n",
    "    # Save figure\n",
    "    plt.savefig(savedir + 'EVID' + evid + '_waveforms.png', bbox_inches=\"tight\")\n",
    "    pngnames.append(savedir + 'EVID' + evid + '_waveforms.png')\n",
    "    plt.close()"
   ]
  },
  {
   "cell_type": "code",
   "execution_count": 12,
   "id": "59db5632-4e89-46f2-812d-04cbff7a1e61",
   "metadata": {
    "tags": []
   },
   "outputs": [],
   "source": [
    "# Aggregate figures into PDF\n",
    "images = [\n",
    "    Image.open(f)\n",
    "    for f in pngnames\n",
    "]\n",
    "pdf_path = geo34_dir + 'possible_geo4_repeating.pdf'\n",
    "images[0].save(\n",
    "    pdf_path, \"PDF\" ,resolution=100.0, save_all=True, append_images=images[1:]\n",
    ")\n",
    "\n",
    "for pngname in pngnames:\n",
    "    os.system('rm ' + pngname)"
   ]
  },
  {
   "cell_type": "markdown",
   "id": "62245b14-d664-4f55-878c-5b6485143ee6",
   "metadata": {},
   "source": [
    "### Isolated Geophone 4 events"
   ]
  },
  {
   "cell_type": "code",
   "execution_count": 13,
   "id": "b637de34-df9c-4d0b-87a1-8d4ed72a7dfa",
   "metadata": {
    "tags": []
   },
   "outputs": [],
   "source": [
    "cat1_isol_geo4 = cat1[cat1['evid'].isin(evids_geo4_isol)]\n",
    "savedir = '/data/ytamama/figures/Apollo17/geo4_events/isolated/'\n",
    "pngnames = []\n",
    "\n",
    "# Obtain waveforms\n",
    "for evid in evids_geo4_isol:\n",
    "    row = cat2.loc[cat2.evid == evid].iloc[0]\n",
    "    arrtime = datetime.strptime(row.avg_picktime_SNR, '%Y-%m-%d %H:%M:%S.%f')\n",
    "    st1 = moon2sac(arrtime,1,befwin,aftwin,minfreq,maxfreq,parentdir)\n",
    "    trdata1 = st1.traces[0].data\n",
    "    trtimes1 = st1.traces[0].times() - befwin\n",
    "    st2 = moon2sac(arrtime,2,befwin,aftwin,minfreq,maxfreq,parentdir)\n",
    "    trdata2 = st2.traces[0].data\n",
    "    trtimes2 = st2.traces[0].times() - befwin\n",
    "    st3 = moon2sac(arrtime,3,befwin,aftwin,minfreq,maxfreq,parentdir)\n",
    "    trdata3 = st3.traces[0].data\n",
    "    trtimes3 = st3.traces[0].times() - befwin\n",
    "    st4 = moon2sac(arrtime,4,befwin,aftwin,minfreq,maxfreq,parentdir)\n",
    "    trdata4 = st4.traces[0].data\n",
    "    trtimes4 = st4.traces[0].times() - befwin\n",
    "\n",
    "    # Normalize\n",
    "    trdata1_norm = trdata1 / np.max(np.abs(trdata1))\n",
    "    trdata2_norm = trdata2 / np.max(np.abs(trdata1))\n",
    "    trdata3_norm = trdata3 / np.max(np.abs(trdata1))\n",
    "    trdata4_norm = trdata4 / np.max(np.abs(trdata1))\n",
    "\n",
    "    # Initialize figure\n",
    "    fig,ax = plt.subplots(1,1,figsize=(8, 5))\n",
    "    ax.plot(trtimes1,trdata1_norm+6, color='C0')\n",
    "    ax.plot(trtimes2,trdata2_norm+4, color='C1')\n",
    "    ax.plot(trtimes3,trdata3_norm+2, color='C2')\n",
    "    ax.plot(trtimes4,trdata4_norm, color='C3')\n",
    "    ax.set_title(f'EVID {evid}',fontweight='bold')\n",
    "    ax.set_xlim([-1*befwin,aftwin])\n",
    "\n",
    "    # Save figure\n",
    "    plt.savefig(savedir + 'EVID' + evid + '_waveforms.png', bbox_inches=\"tight\")\n",
    "    pngnames.append(savedir + 'EVID' + evid + '_waveforms.png')\n",
    "    plt.close()"
   ]
  },
  {
   "cell_type": "code",
   "execution_count": 14,
   "id": "af278afc-838d-4c45-b344-32cd77ed0248",
   "metadata": {
    "tags": []
   },
   "outputs": [],
   "source": [
    "# Aggregate figures into PDF\n",
    "images = [\n",
    "    Image.open(f)\n",
    "    for f in pngnames\n",
    "]\n",
    "pdf_path = geo34_dir + 'possible_geo4_isolated.pdf'\n",
    "images[0].save(\n",
    "    pdf_path, \"PDF\" ,resolution=100.0, save_all=True, append_images=images[1:]\n",
    ")\n",
    "\n",
    "for pngname in pngnames:\n",
    "    os.system('rm ' + pngname)"
   ]
  },
  {
   "cell_type": "code",
   "execution_count": null,
   "id": "319bf02e-cf58-4a05-9fc2-c3f61911b215",
   "metadata": {},
   "outputs": [],
   "source": []
  }
 ],
 "metadata": {
  "kernelspec": {
   "display_name": "Python 3 (ipykernel)",
   "language": "python",
   "name": "python3"
  },
  "language_info": {
   "codemirror_mode": {
    "name": "ipython",
    "version": 3
   },
   "file_extension": ".py",
   "mimetype": "text/x-python",
   "name": "python",
   "nbconvert_exporter": "python",
   "pygments_lexer": "ipython3",
   "version": "3.7.16"
  }
 },
 "nbformat": 4,
 "nbformat_minor": 5
}
