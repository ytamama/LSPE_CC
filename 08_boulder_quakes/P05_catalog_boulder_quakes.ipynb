{
 "cells": [
  {
   "cell_type": "markdown",
   "id": "ec54c310-3c1e-4e3a-b26f-8dcd0d18f14f",
   "metadata": {},
   "source": [
    "## Identify and catalog likely boulder-quakes among the Geophone 3 and 4 events\n",
    "\n",
    "### Import libraries"
   ]
  },
  {
   "cell_type": "code",
   "execution_count": 1,
   "id": "5aa48184-8432-4fb4-9f8d-20995784421a",
   "metadata": {},
   "outputs": [],
   "source": [
    "import pandas as pd\n",
    "from obspy import read,UTCDateTime\n",
    "from datetime import datetime, timedelta\n",
    "import numpy as np\n",
    "import os\n",
    "import glob\n",
    "import sys\n",
    "import matplotlib.pyplot as plt\n",
    "from PIL import Image\n",
    "\n",
    "# Import functions\n",
    "fxndir = '../functions/'\n",
    "sys.path.insert(0,fxndir)\n",
    "from moon2data import *"
   ]
  },
  {
   "cell_type": "markdown",
   "id": "5e37c8be-72e3-4f19-b741-eb25320ddf91",
   "metadata": {},
   "source": [
    "### Load catalogs of Geophone 3 and 4 events"
   ]
  },
  {
   "cell_type": "code",
   "execution_count": 2,
   "id": "63436c06-9fcf-410b-95c0-05be655fcdda",
   "metadata": {},
   "outputs": [],
   "source": [
    "# Geophone 3 events\n",
    "mqdir = '../catalogs/final_catalogs/geo3_geo4_events/'\n",
    "cat1_geo3 = pd.read_csv(mqdir + 'Geophone3_events_catalog_HQ_final.csv')\n",
    "cat2_geo3 = pd.read_csv(mqdir + 'Geophone3_events_catalog_HQ_avg_event_stats.csv')\n",
    "\n",
    "# Geophone 4 events\n",
    "cat1_geo4 = pd.read_csv(mqdir + 'Geophone4_events_catalog_HQ_final.csv')\n",
    "cat2_geo4 = pd.read_csv(mqdir + 'Geophone4_events_catalog_HQ_avg_event_stats.csv')"
   ]
  },
  {
   "cell_type": "markdown",
   "id": "061c0798-fe10-466c-899d-1aeaf364afc2",
   "metadata": {},
   "source": [
    "### Inputs to obtain waveforms"
   ]
  },
  {
   "cell_type": "code",
   "execution_count": 3,
   "id": "d84313a3-0032-46bc-93eb-272b37913c4c",
   "metadata": {
    "tags": []
   },
   "outputs": [],
   "source": [
    "parentdir = '/data/ytamama/Apollo17/LSPE_data/sac_volts_ds/'\n",
    "minfreq = 3\n",
    "maxfreq = 35\n",
    "befwin = 2\n",
    "aftwin = 12"
   ]
  },
  {
   "cell_type": "markdown",
   "id": "57ead01a-e0ca-4760-88b7-353221bd3cba",
   "metadata": {},
   "source": [
    "### Manually remove unlikely boulderquakes, based on visual inspection of the plots from P04"
   ]
  },
  {
   "cell_type": "code",
   "execution_count": 4,
   "id": "e8cae01d-a562-4dfb-ba58-37db5961eed7",
   "metadata": {
    "tags": []
   },
   "outputs": [],
   "source": [
    "# Unlikely events\n",
    "evids_georock_remove = ['760902-07-M2','760930-02-N2','761031-06-M2','761128-19-M3',\n",
    "                          '761010-12-N2','761228-15-M1','770127-08-M1','761129-01-M1',\n",
    "                          '770225-21-M1','770327-11-M3']\n",
    "evids_R2_remove = ['770205-16-M4','770215-02-N1']\n",
    "evids_rock23_remove = ['770408-11-M7','761111-13-M4']\n",
    "\n",
    "# Geophone 3 catalog 1\n",
    "possible_sources_new = []\n",
    "for r in np.arange(0,len(cat1_geo3)):\n",
    "    row = cat1_geo3.iloc[r]\n",
    "    if (row.evid in evids_georock_remove) | (row.evid in evids_R2_remove):\n",
    "        possible_sources_new.append('unclear')\n",
    "    else:\n",
    "        possible_sources_new.append(row.possible_source)\n",
    "cat1_geo3['possible_source'] = possible_sources_new\n",
    "        \n",
    "# Geophone 3 catalog 2\n",
    "possible_sources_new = []\n",
    "for r in np.arange(0,len(cat2_geo3)):\n",
    "    row = cat2_geo3.iloc[r]\n",
    "    if (row.evid in evids_georock_remove) | (row.evid in evids_R2_remove):\n",
    "        possible_sources_new.append('unclear')\n",
    "    else:\n",
    "        possible_sources_new.append(row.possible_source)\n",
    "cat2_geo3['possible_source'] = possible_sources_new\n",
    "\n",
    "# Geophone 4 catalog 1\n",
    "possible_sources_new = []\n",
    "for r in np.arange(0,len(cat1_geo4)):\n",
    "    row = cat1_geo4.iloc[r]\n",
    "    if (row.evid in evids_rock23_remove):\n",
    "        possible_sources_new.append('unclear')\n",
    "    else:\n",
    "        possible_sources_new.append(row.possible_source)\n",
    "cat1_geo4['possible_source'] = possible_sources_new\n",
    "        \n",
    "# Geophone 4 catalog 2\n",
    "possible_sources_new = []\n",
    "for r in np.arange(0,len(cat2_geo4)):\n",
    "    row = cat2_geo4.iloc[r]\n",
    "    if (row.evid in evids_rock23_remove):\n",
    "        possible_sources_new.append('unclear')\n",
    "    else:\n",
    "        possible_sources_new.append(row.possible_source)\n",
    "cat2_geo4['possible_source'] = possible_sources_new"
   ]
  },
  {
   "cell_type": "markdown",
   "id": "5f072ce0-aebd-44f5-bfa9-c4daf1a76c2e",
   "metadata": {},
   "source": [
    "### Save catalogs"
   ]
  },
  {
   "cell_type": "code",
   "execution_count": 5,
   "id": "1f45a5e7-b1f9-4726-95ad-916bd9ac0452",
   "metadata": {},
   "outputs": [],
   "source": [
    "### Geophone 3\n",
    "mqdir = '../catalogs/final_catalogs/geo3_geo4_events/'\n",
    "cat1_geo3.to_csv(mqdir + 'Geophone3_events_catalog_HQ_final.csv',index=False)\n",
    "cat2_geo3.to_csv(mqdir + 'Geophone3_events_catalog_HQ_avg_event_stats.csv',index=False)\n",
    "\n",
    "### Geophone 4\n",
    "cat1_geo4.to_csv(mqdir + 'Geophone4_events_catalog_HQ_final.csv',index=False)\n",
    "cat2_geo4.to_csv(mqdir + 'Geophone4_events_catalog_HQ_avg_event_stats.csv',index=False)\n",
    "\n",
    "### Geophone rock\n",
    "mqdir2 = '../catalogs/final_catalogs/LM_vs_boulder_vs_other/'\n",
    "cat1_georock = cat1_geo3.loc[cat1_geo3.possible_source == 'geophone_rock']\n",
    "cat1_georock = cat1_georock.reset_index()\n",
    "cat1_georock.drop(list(cat1_georock.filter(regex='Unnamed|index')), axis=1, inplace=True)\n",
    "cat1_georock.to_csv(mqdir2 + 'GeophoneRock_events_catalog_HQ_final.csv',index=False)\n",
    "\n",
    "cat2_georock = cat2_geo3.loc[cat2_geo3.possible_source == 'geophone_rock']\n",
    "cat2_georock = cat2_georock.reset_index()\n",
    "cat2_georock.drop(list(cat2_georock.filter(regex='Unnamed|index')), axis=1, inplace=True)\n",
    "cat2_georock.to_csv(mqdir2 + 'GeophoneRock_events_catalog_HQ_avg_event_stats.csv',index=False)\n",
    "\n",
    "### R2 boulder\n",
    "cat1_R2 = cat1_geo3.loc[cat1_geo3.possible_source == 'R2']\n",
    "cat1_R2 = cat1_R2.reset_index()\n",
    "cat1_R2.drop(list(cat1_R2.filter(regex='Unnamed|index')), axis=1, inplace=True)\n",
    "cat1_R2.to_csv(mqdir2 + 'R2Rock_events_catalog_HQ_final.csv',index=False)\n",
    "\n",
    "cat2_R2 = cat2_geo3.loc[cat2_geo3.possible_source == 'R2']\n",
    "cat2_R2 = cat2_R2.reset_index()\n",
    "cat2_R2.drop(list(cat2_R2.filter(regex='Unnamed|index')), axis=1, inplace=True)\n",
    "cat2_R2.to_csv(mqdir2 + 'R2Rock_events_catalog_HQ_avg_event_stats.csv',index=False)\n",
    "\n",
    "### Geophone 4 Rock 1\n",
    "cat1_rock1 = cat1_geo4.loc[cat1_geo4.possible_source == 'GEO4_rock1']\n",
    "cat1_rock1 = cat1_rock1.reset_index()\n",
    "cat1_rock1.drop(list(cat1_rock1.filter(regex='Unnamed|index')), axis=1, inplace=True)\n",
    "cat1_rock1.to_csv(mqdir2 + 'GEO4Rock1_events_catalog_HQ_final.csv',index=False)\n",
    "\n",
    "cat2_rock1 = cat2_geo4.loc[cat2_geo4.possible_source == 'GEO4_rock1']\n",
    "cat2_rock1 = cat2_rock1.reset_index()\n",
    "cat2_rock1.drop(list(cat2_rock1.filter(regex='Unnamed|index')), axis=1, inplace=True)\n",
    "cat2_rock1.to_csv(mqdir2 + 'GEO4Rock1_events_catalog_HQ_avg_event_stats.csv',index=False)\n",
    "\n",
    "### Geophone 4 Rocks 2 or 3\n",
    "cat1_rock23 = cat1_geo4.loc[cat1_geo4.possible_source == 'GEO4_rock2or3']\n",
    "cat1_rock23 = cat1_rock23.reset_index()\n",
    "cat1_rock23.drop(list(cat1_rock23.filter(regex='Unnamed|index')), axis=1, inplace=True)\n",
    "cat1_rock23.to_csv(mqdir2 + 'GEO4Rock2or3_events_catalog_HQ_final.csv',index=False)\n",
    "\n",
    "cat2_rock23 = cat2_geo4.loc[cat2_geo4.possible_source == 'GEO4_rock2or3']\n",
    "cat2_rock23 = cat2_rock23.reset_index()\n",
    "cat2_rock23.drop(list(cat2_rock23.filter(regex='Unnamed|index')), axis=1, inplace=True)\n",
    "cat2_rock23.to_csv(mqdir2 + 'GEO4Rock2or3_events_catalog_HQ_avg_event_stats.csv',index=False)"
   ]
  },
  {
   "cell_type": "code",
   "execution_count": 6,
   "id": "7b877f20-5557-454b-bb0a-465af0c66756",
   "metadata": {},
   "outputs": [
    {
     "data": {
      "text/plain": [
       "45"
      ]
     },
     "execution_count": 6,
     "metadata": {},
     "output_type": "execute_result"
    }
   ],
   "source": [
    "len(cat2_rock1) + len(cat2_rock23) + len(cat2_georock) + len(cat2_R2)"
   ]
  },
  {
   "cell_type": "markdown",
   "id": "925b208c-9ba5-4688-bf71-03eb550b6d51",
   "metadata": {},
   "source": [
    "### Plot boulder-quakes\n",
    "\n",
    "#### Geophone Rock"
   ]
  },
  {
   "cell_type": "code",
   "execution_count": 7,
   "id": "3fffe20d-564d-4003-b0f0-43dfcb1965cc",
   "metadata": {},
   "outputs": [],
   "source": [
    "savedir = './boulderquake_waveforms/'\n",
    "pngnames = []\n",
    "\n",
    "# Iteratively plot events\n",
    "for r in np.arange(0,len(cat2_georock)):\n",
    "    row = cat2_georock.iloc[r]\n",
    "    evid = row.evid\n",
    "    evid_ref = row.evid_ref\n",
    "    isol_or_rpt = row.isol_or_rpt\n",
    "    arrtime = datetime.strptime(row.avg_picktime_SNR, '%Y-%m-%d %H:%M:%S.%f')\n",
    "    st1 = moon2sac(arrtime,1,befwin,aftwin,minfreq,maxfreq,parentdir)\n",
    "    trdata1 = st1.traces[0].data\n",
    "    trtimes1 = st1.traces[0].times() - befwin\n",
    "    st2 = moon2sac(arrtime,2,befwin,aftwin,minfreq,maxfreq,parentdir)\n",
    "    trdata2 = st2.traces[0].data\n",
    "    trtimes2 = st2.traces[0].times() - befwin\n",
    "    st3 = moon2sac(arrtime,3,befwin,aftwin,minfreq,maxfreq,parentdir)\n",
    "    trdata3 = st3.traces[0].data\n",
    "    trtimes3 = st3.traces[0].times() - befwin\n",
    "    st4 = moon2sac(arrtime,4,befwin,aftwin,minfreq,maxfreq,parentdir)\n",
    "    trdata4 = st4.traces[0].data\n",
    "    trtimes4 = st4.traces[0].times() - befwin\n",
    "\n",
    "    # Normalize\n",
    "    trdata1_norm = trdata1 / np.max(np.abs(trdata1))\n",
    "    trdata2_norm = trdata2 / np.max(np.abs(trdata1))\n",
    "    trdata3_norm = trdata3 / np.max(np.abs(trdata1))\n",
    "    trdata4_norm = trdata4 / np.max(np.abs(trdata1))\n",
    "\n",
    "    # Initialize figure\n",
    "    fig,ax = plt.subplots(1,1,figsize=(8, 5))\n",
    "    ax.plot(trtimes1,trdata1_norm+6, color='C0',alpha=0.75)\n",
    "    ax.plot(trtimes2,trdata2_norm+4, color='C1',alpha=0.75)\n",
    "    ax.plot(trtimes3,trdata3_norm+2, color='C2',alpha=0.75)\n",
    "    ax.plot(trtimes4,trdata4_norm, color='C3',alpha=0.75)\n",
    "    ax.set_title(f'EVID {evid} (REF={evid_ref}, {isol_or_rpt})',fontweight='bold')\n",
    "    ax.set_xlim([-1*befwin,aftwin])\n",
    "\n",
    "    # Save figure\n",
    "    plt.savefig(savedir + 'REF' + evid_ref + '_EVID' + evid + '_waveforms.png', bbox_inches=\"tight\")\n",
    "    pngnames.append(savedir + 'REF' + evid_ref + '_EVID' + evid + '_waveforms.png')\n",
    "    plt.close()"
   ]
  },
  {
   "cell_type": "code",
   "execution_count": 8,
   "id": "1d3d01ad-00f9-4f57-89d0-2a62f4306469",
   "metadata": {},
   "outputs": [],
   "source": [
    "# Combine figures into one PDF\n",
    "images = [\n",
    "    Image.open(f)\n",
    "    for f in pngnames\n",
    "]\n",
    "pdf_path = savedir + 'geophonerock_events.pdf'\n",
    "images[0].save(\n",
    "    pdf_path, \"PDF\" ,resolution=100.0, save_all=True, append_images=images[1:]\n",
    ")\n",
    "\n",
    "for pngname in pngnames:\n",
    "    os.system('rm ' + pngname)"
   ]
  },
  {
   "cell_type": "markdown",
   "id": "20e893f1-7323-439b-85d9-64d863ce7294",
   "metadata": {},
   "source": [
    "#### R2"
   ]
  },
  {
   "cell_type": "code",
   "execution_count": 9,
   "id": "a74ec32a-a9a6-4d21-981b-e75e402beb98",
   "metadata": {},
   "outputs": [],
   "source": [
    "# Iteratively plot events\n",
    "pngnames = []\n",
    "for r in np.arange(0,len(cat2_R2)):\n",
    "    row = cat2_R2.iloc[r]\n",
    "    evid = row.evid\n",
    "    evid_ref = row.evid_ref\n",
    "    isol_or_rpt = row.isol_or_rpt\n",
    "    arrtime = datetime.strptime(row.avg_picktime_SNR, '%Y-%m-%d %H:%M:%S.%f')\n",
    "    st1 = moon2sac(arrtime,1,befwin,aftwin,minfreq,maxfreq,parentdir)\n",
    "    trdata1 = st1.traces[0].data\n",
    "    trtimes1 = st1.traces[0].times() - befwin\n",
    "    st2 = moon2sac(arrtime,2,befwin,aftwin,minfreq,maxfreq,parentdir)\n",
    "    trdata2 = st2.traces[0].data\n",
    "    trtimes2 = st2.traces[0].times() - befwin\n",
    "    st3 = moon2sac(arrtime,3,befwin,aftwin,minfreq,maxfreq,parentdir)\n",
    "    trdata3 = st3.traces[0].data\n",
    "    trtimes3 = st3.traces[0].times() - befwin\n",
    "    st4 = moon2sac(arrtime,4,befwin,aftwin,minfreq,maxfreq,parentdir)\n",
    "    trdata4 = st4.traces[0].data\n",
    "    trtimes4 = st4.traces[0].times() - befwin\n",
    "\n",
    "    # Normalize\n",
    "    trdata1_norm = trdata1 / np.max(np.abs(trdata1))\n",
    "    trdata2_norm = trdata2 / np.max(np.abs(trdata1))\n",
    "    trdata3_norm = trdata3 / np.max(np.abs(trdata1))\n",
    "    trdata4_norm = trdata4 / np.max(np.abs(trdata1))\n",
    "\n",
    "    # Initialize figure\n",
    "    fig,ax = plt.subplots(1,1,figsize=(8, 5))\n",
    "    ax.plot(trtimes1,trdata1_norm+6, color='C0',alpha=0.75)\n",
    "    ax.plot(trtimes2,trdata2_norm+4, color='C1',alpha=0.75)\n",
    "    ax.plot(trtimes3,trdata3_norm+2, color='C2',alpha=0.75)\n",
    "    ax.plot(trtimes4,trdata4_norm, color='C3',alpha=0.75)\n",
    "    ax.set_title(f'EVID {evid} (REF={evid_ref}, {isol_or_rpt})',fontweight='bold')\n",
    "    ax.set_xlim([-1*befwin,aftwin])\n",
    "\n",
    "    # Save figure\n",
    "    plt.savefig(savedir + 'REF' + evid_ref + '_EVID' + evid + '_waveforms.png', bbox_inches=\"tight\")\n",
    "    pngnames.append(savedir + 'REF' + evid_ref + '_EVID' + evid + '_waveforms.png')\n",
    "    plt.close()"
   ]
  },
  {
   "cell_type": "code",
   "execution_count": 10,
   "id": "709f8317-e4bc-4599-946f-a54040c167c9",
   "metadata": {},
   "outputs": [],
   "source": [
    "# Combine figures into one PDF\n",
    "images = [\n",
    "    Image.open(f)\n",
    "    for f in pngnames\n",
    "]\n",
    "pdf_path = savedir + 'R2_events.pdf'\n",
    "images[0].save(\n",
    "    pdf_path, \"PDF\" ,resolution=100.0, save_all=True, append_images=images[1:]\n",
    ")\n",
    "\n",
    "for pngname in pngnames:\n",
    "    os.system('rm ' + pngname)"
   ]
  },
  {
   "cell_type": "markdown",
   "id": "412d02fa-2567-4de4-b67b-28be1e8b675f",
   "metadata": {},
   "source": [
    "#### Geophone 4 Rock 1"
   ]
  },
  {
   "cell_type": "code",
   "execution_count": 11,
   "id": "7c78dfd2-b0d3-487d-b6ad-49a67464eb2d",
   "metadata": {},
   "outputs": [],
   "source": [
    "# Iteratively plot events\n",
    "pngnames = []\n",
    "for r in np.arange(0,len(cat2_rock1)):\n",
    "    row = cat2_rock1.iloc[r]\n",
    "    evid = row.evid\n",
    "    evid_ref = row.evid_ref\n",
    "    isol_or_rpt = row.isol_or_rpt\n",
    "    arrtime = datetime.strptime(row.avg_picktime_SNR, '%Y-%m-%d %H:%M:%S.%f')\n",
    "    st1 = moon2sac(arrtime,1,befwin,aftwin,minfreq,maxfreq,parentdir)\n",
    "    trdata1 = st1.traces[0].data\n",
    "    trtimes1 = st1.traces[0].times() - befwin\n",
    "    st2 = moon2sac(arrtime,2,befwin,aftwin,minfreq,maxfreq,parentdir)\n",
    "    trdata2 = st2.traces[0].data\n",
    "    trtimes2 = st2.traces[0].times() - befwin\n",
    "    st3 = moon2sac(arrtime,3,befwin,aftwin,minfreq,maxfreq,parentdir)\n",
    "    trdata3 = st3.traces[0].data\n",
    "    trtimes3 = st3.traces[0].times() - befwin\n",
    "    st4 = moon2sac(arrtime,4,befwin,aftwin,minfreq,maxfreq,parentdir)\n",
    "    trdata4 = st4.traces[0].data\n",
    "    trtimes4 = st4.traces[0].times() - befwin\n",
    "\n",
    "    # Normalize\n",
    "    trdata1_norm = trdata1 / np.max(np.abs(trdata1))\n",
    "    trdata2_norm = trdata2 / np.max(np.abs(trdata1))\n",
    "    trdata3_norm = trdata3 / np.max(np.abs(trdata1))\n",
    "    trdata4_norm = trdata4 / np.max(np.abs(trdata1))\n",
    "\n",
    "    # Initialize figure\n",
    "    fig,ax = plt.subplots(1,1,figsize=(8, 5))\n",
    "    ax.plot(trtimes1,trdata1_norm+6, color='C0',alpha=0.75)\n",
    "    ax.plot(trtimes2,trdata2_norm+4, color='C1',alpha=0.75)\n",
    "    ax.plot(trtimes3,trdata3_norm+2, color='C2',alpha=0.75)\n",
    "    ax.plot(trtimes4,trdata4_norm, color='C3',alpha=0.75)\n",
    "    ax.set_title(f'EVID {evid} (REF={evid_ref}, {isol_or_rpt})',fontweight='bold')\n",
    "    ax.set_xlim([-1*befwin,aftwin])\n",
    "\n",
    "    # Save figure\n",
    "    plt.savefig(savedir + 'EVID' + evid + '_waveforms.png', bbox_inches=\"tight\")\n",
    "    pngnames.append(savedir + 'EVID' + evid + '_waveforms.png')\n",
    "    plt.close()"
   ]
  },
  {
   "cell_type": "code",
   "execution_count": 12,
   "id": "91c7baae-fdbf-4259-a64f-db68977dc381",
   "metadata": {},
   "outputs": [],
   "source": [
    "# Combine figures into one PDF\n",
    "images = [\n",
    "    Image.open(f)\n",
    "    for f in pngnames\n",
    "]\n",
    "pdf_path = savedir + 'GEO4Rock1_events.pdf'\n",
    "images[0].save(\n",
    "    pdf_path, \"PDF\" ,resolution=100.0, save_all=True, append_images=images[1:]\n",
    ")\n",
    "\n",
    "for pngname in pngnames:\n",
    "    os.system('rm ' + pngname)"
   ]
  },
  {
   "cell_type": "markdown",
   "id": "f44d427e-7fbd-4262-98d0-cfd549412da5",
   "metadata": {},
   "source": [
    "#### Geophone 4 Rock 2/3"
   ]
  },
  {
   "cell_type": "code",
   "execution_count": 13,
   "id": "39028945-24d7-4fff-900c-cae8e9af35c8",
   "metadata": {},
   "outputs": [],
   "source": [
    "# Iteratively plot events\n",
    "pngnames = []\n",
    "for r in np.arange(0,len(cat2_rock23)):\n",
    "    row = cat2_rock23.iloc[r]\n",
    "    evid = row.evid\n",
    "    evid_ref = row.evid_ref\n",
    "    isol_or_rpt = row.isol_or_rpt\n",
    "    arrtime = datetime.strptime(row.avg_picktime_SNR, '%Y-%m-%d %H:%M:%S.%f')\n",
    "    st1 = moon2sac(arrtime,1,befwin,aftwin,minfreq,maxfreq,parentdir)\n",
    "    trdata1 = st1.traces[0].data\n",
    "    trtimes1 = st1.traces[0].times() - befwin\n",
    "    st2 = moon2sac(arrtime,2,befwin,aftwin,minfreq,maxfreq,parentdir)\n",
    "    trdata2 = st2.traces[0].data\n",
    "    trtimes2 = st2.traces[0].times() - befwin\n",
    "    st3 = moon2sac(arrtime,3,befwin,aftwin,minfreq,maxfreq,parentdir)\n",
    "    trdata3 = st3.traces[0].data\n",
    "    trtimes3 = st3.traces[0].times() - befwin\n",
    "    st4 = moon2sac(arrtime,4,befwin,aftwin,minfreq,maxfreq,parentdir)\n",
    "    trdata4 = st4.traces[0].data\n",
    "    trtimes4 = st4.traces[0].times() - befwin\n",
    "\n",
    "    # Normalize\n",
    "    trdata1_norm = trdata1 / np.max(np.abs(trdata1))\n",
    "    trdata2_norm = trdata2 / np.max(np.abs(trdata1))\n",
    "    trdata3_norm = trdata3 / np.max(np.abs(trdata1))\n",
    "    trdata4_norm = trdata4 / np.max(np.abs(trdata1))\n",
    "\n",
    "    # Initialize figure\n",
    "    fig,ax = plt.subplots(1,1,figsize=(8, 5))\n",
    "    ax.plot(trtimes1,trdata1_norm+6, color='C0',alpha=0.75)\n",
    "    ax.plot(trtimes2,trdata2_norm+4, color='C1',alpha=0.75)\n",
    "    ax.plot(trtimes3,trdata3_norm+2, color='C2',alpha=0.75)\n",
    "    ax.plot(trtimes4,trdata4_norm, color='C3',alpha=0.75)\n",
    "    ax.set_title(f'EVID {evid} (REF={evid_ref}, {isol_or_rpt})',fontweight='bold')\n",
    "    ax.set_xlim([-1*befwin,aftwin])\n",
    "\n",
    "    # Save figure\n",
    "    plt.savefig(savedir + 'EVID' + evid + '_waveforms.png', bbox_inches=\"tight\")\n",
    "    pngnames.append(savedir + 'EVID' + evid + '_waveforms.png')\n",
    "    plt.close()"
   ]
  },
  {
   "cell_type": "code",
   "execution_count": 14,
   "id": "e111547b-9c34-48f5-a5de-fa2bb0f4c53d",
   "metadata": {},
   "outputs": [],
   "source": [
    "# Combine figures into one PDF\n",
    "images = [\n",
    "    Image.open(f)\n",
    "    for f in pngnames\n",
    "]\n",
    "pdf_path = savedir + 'GEO4Rock2or3_events.pdf'\n",
    "images[0].save(\n",
    "    pdf_path, \"PDF\" ,resolution=100.0, save_all=True, append_images=images[1:]\n",
    ")\n",
    "\n",
    "for pngname in pngnames:\n",
    "    os.system('rm ' + pngname)"
   ]
  },
  {
   "cell_type": "code",
   "execution_count": null,
   "id": "5a2c239a-c852-4825-9e2d-abd42dbac186",
   "metadata": {},
   "outputs": [],
   "source": []
  }
 ],
 "metadata": {
  "kernelspec": {
   "display_name": "Python 3 (ipykernel)",
   "language": "python",
   "name": "python3"
  },
  "language_info": {
   "codemirror_mode": {
    "name": "ipython",
    "version": 3
   },
   "file_extension": ".py",
   "mimetype": "text/x-python",
   "name": "python",
   "nbconvert_exporter": "python",
   "pygments_lexer": "ipython3",
   "version": "3.7.16"
  }
 },
 "nbformat": 4,
 "nbformat_minor": 5
}
