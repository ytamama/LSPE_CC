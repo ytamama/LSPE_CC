{
 "cells": [
  {
   "cell_type": "markdown",
   "id": "4245257e-62be-42b4-8416-c75f535ca294",
   "metadata": {},
   "source": [
    "## Separate isolated vs. repeating moonquakes\n",
    "\n",
    "A moonquake is considered \"repeating\" if it has a correlation coefficient of at least 0.9 with one or more other moonquakes, on one or more geophones. All other moonquakes (i.e. those that have correlation coefficients of below 0.9 with all other events, on all geophones) are considered \"isolated.\" \n",
    "\n",
    "### Import libraries"
   ]
  },
  {
   "cell_type": "code",
   "execution_count": 6,
   "id": "bac64502-7082-4dfc-af07-766b0a3872a1",
   "metadata": {},
   "outputs": [],
   "source": [
    "import pandas as pd\n",
    "from datetime import datetime, timedelta\n",
    "import numpy as np\n",
    "import os\n",
    "import glob\n",
    "import sys\n",
    "\n",
    "# Import functions\n",
    "fxndir = '../functions/'\n",
    "sys.path.insert(0,fxndir)\n",
    "from moon2data import *"
   ]
  },
  {
   "cell_type": "markdown",
   "id": "4b895091-4de0-4233-b865-d10082b82ebe",
   "metadata": {},
   "source": [
    "### Load moonquake catalog"
   ]
  },
  {
   "cell_type": "code",
   "execution_count": 7,
   "id": "041c1c7b-ad4f-4bb8-b769-4b2df6fb4a6c",
   "metadata": {},
   "outputs": [],
   "source": [
    "mqdir1 = '../catalogs/quality_control/'\n",
    "mqcat = pd.read_csv(mqdir1 + 'A17_moonquakes_catalog_nodupes_HQ.csv')\n",
    "mqcat.drop(list(mqcat.filter(regex='Unnamed|index')), axis=1, inplace=True)"
   ]
  },
  {
   "cell_type": "markdown",
   "id": "83dd5618-bdcd-468a-bdbf-d9793789ed1d",
   "metadata": {},
   "source": [
    "### Load moonquake files"
   ]
  },
  {
   "cell_type": "code",
   "execution_count": 8,
   "id": "d7b6ea80-9679-4cca-a781-41d9fbc2557f",
   "metadata": {},
   "outputs": [],
   "source": [
    "cc_thresh = 0.9\n",
    "catdir = '/data/ytamama/Apollo17/catalogs/cc_ABCD/select_high_cc_nodupes_' + str(round(cc_thresh,2)) + '/'\n",
    "fnames = glob.glob(f'{catdir}*.csv')"
   ]
  },
  {
   "cell_type": "markdown",
   "id": "7cbd73fb-1922-404c-bf5e-cab6f66c7b54",
   "metadata": {},
   "source": [
    "### Define directories for isolated and repeating moonquakes"
   ]
  },
  {
   "cell_type": "code",
   "execution_count": 9,
   "id": "40f71f0f-8f4f-4690-bf85-3781c29e5c0c",
   "metadata": {},
   "outputs": [],
   "source": [
    "isolated_dir = '/data/ytamama/Apollo17/catalogs/cc_ABCD/isolated/'\n",
    "repeating_dir = '/data/ytamama/Apollo17/catalogs/cc_ABCD/repeating/'"
   ]
  },
  {
   "cell_type": "markdown",
   "id": "f1b26048-b1be-46d3-a7ba-ed3d4b10fedf",
   "metadata": {},
   "source": [
    "### Iterate through individual families and classify them as isolated or repeating"
   ]
  },
  {
   "cell_type": "code",
   "execution_count": 10,
   "id": "bb5f3e05-45c6-4e30-a63a-88945a01e10a",
   "metadata": {},
   "outputs": [],
   "source": [
    "isolated_cat = []\n",
    "repeating_cat = []\n",
    "evids_repeating = []\n",
    "for fname in fnames:\n",
    "    \n",
    "    # Read catalog\n",
    "    cat = pd.read_csv(fname)\n",
    "    cat = cat[['evid','evid_ref','geophone','mod_arrival_time','corr_coeffs','dt_values','minfreq','maxfreq','grade','grade_new']]\n",
    "    cat.to_csv(fname)\n",
    "    \n",
    "    numevts = len(np.unique(cat.evid.tolist()))\n",
    "    \n",
    "    # Isolated\n",
    "    if numevts < 2:\n",
    "        os.system(f'cp {fname} {isolated_dir}') \n",
    "        if len(isolated_cat) == 0:\n",
    "            isolated_cat = cat\n",
    "        else:\n",
    "            isolated_cat = pd.concat([isolated_cat,cat])\n",
    "            \n",
    "    # Repeating\n",
    "    else:\n",
    "        os.system(f'cp {fname} {repeating_dir}')  \n",
    "        if len(repeating_cat) == 0:\n",
    "            repeating_cat = cat\n",
    "        else:\n",
    "            repeating_cat = pd.concat([repeating_cat,cat])"
   ]
  },
  {
   "cell_type": "markdown",
   "id": "aa2cfe14-e3c3-44c9-b391-ca3af14b9a1c",
   "metadata": {},
   "source": [
    "### Remove duplicates (e.g. repeating events classified as \"isolated\")"
   ]
  },
  {
   "cell_type": "code",
   "execution_count": 11,
   "id": "f17b9b03-97b8-47f6-9973-67a09d4e5218",
   "metadata": {
    "tags": []
   },
   "outputs": [],
   "source": [
    "evids_isolated = np.unique(isolated_cat.evid.tolist())\n",
    "evids_repeating = np.unique(repeating_cat.evid.tolist())\n",
    "\n",
    "# Remove duplicates\n",
    "isolated_cat2 = isolated_cat[~isolated_cat.evid.isin(evids_repeating)]"
   ]
  },
  {
   "cell_type": "code",
   "execution_count": 13,
   "id": "774af431-8c93-46d8-931e-ee739819bc27",
   "metadata": {
    "tags": []
   },
   "outputs": [
    {
     "data": {
      "text/plain": [
       "8101"
      ]
     },
     "execution_count": 13,
     "metadata": {},
     "output_type": "execute_result"
    }
   ],
   "source": [
    "len(np.unique(repeating_cat.evid.tolist())) + len(np.unique(isolated_cat2.evid.tolist()))"
   ]
  },
  {
   "cell_type": "markdown",
   "id": "22c372de-699d-4f85-ae21-22919283533c",
   "metadata": {},
   "source": [
    "### Add a column classifying events as \"isolated\" or \"repeating\""
   ]
  },
  {
   "cell_type": "code",
   "execution_count": 14,
   "id": "7b5b2754-36c6-4af8-be15-2296302df6c2",
   "metadata": {
    "tags": []
   },
   "outputs": [],
   "source": [
    "# Isolated\n",
    "classifiers = []\n",
    "for r in np.arange(0,len(isolated_cat2)):\n",
    "    classifiers.append('isolated')\n",
    "isolated_cat2['isol_or_rpt'] = classifiers\n",
    "\n",
    "# Repeating\n",
    "classifiers = []\n",
    "for r in np.arange(0,len(repeating_cat)):\n",
    "    classifiers.append('repeating')\n",
    "repeating_cat['isol_or_rpt'] = classifiers"
   ]
  },
  {
   "cell_type": "markdown",
   "id": "ef0426e7-a0d9-4fd6-8ce9-1e8d7476a98c",
   "metadata": {},
   "source": [
    "### Combine dataframes"
   ]
  },
  {
   "cell_type": "code",
   "execution_count": null,
   "id": "49bf2949-62a0-4609-9e73-8e7b52886d0c",
   "metadata": {},
   "outputs": [],
   "source": [
    "combined_cat = pd.concat([repeating_cat, isolated_cat2])\n",
    "combined_cat = combined_cat.reset_index()\n",
    "combined_cat = combined_cat[['evid','evid_ref','geophone','mod_arrival_time','corr_coeffs','dt_values','minfreq','maxfreq','grade','grade_new','isol_or_rpt']]"
   ]
  },
  {
   "cell_type": "markdown",
   "id": "b42ad4ee-485c-446d-8231-a59156e566f4",
   "metadata": {},
   "source": [
    "### Count # of events per family (1 if isolated)"
   ]
  },
  {
   "cell_type": "code",
   "execution_count": 16,
   "id": "0036b9bd-9615-475c-b8fc-89424d2372ce",
   "metadata": {
    "tags": []
   },
   "outputs": [],
   "source": [
    "numevts_col = []\n",
    "for r in np.arange(0,len(combined_cat)):\n",
    "    row = combined_cat.iloc[r]\n",
    "    evid_ref = row.evid_ref\n",
    "    rows = combined_cat.loc[combined_cat.evid_ref == evid_ref]\n",
    "    numevts_col.append(len(np.unique(rows.evid.tolist())))     "
   ]
  },
  {
   "cell_type": "code",
   "execution_count": 20,
   "id": "31f21eef-2b9b-4d1b-8b85-e4224904cc4f",
   "metadata": {
    "tags": []
   },
   "outputs": [],
   "source": [
    "# Save\n",
    "mqdir = '../catalogs/final_catalogs/'\n",
    "combined_cat['num_per_family'] = numevts_col\n",
    "combined_cat.to_csv(mqdir + 'A17_moonquakes_catalog_HQ_final.csv')"
   ]
  }
 ],
 "metadata": {
  "kernelspec": {
   "display_name": "SEP",
   "language": "python",
   "name": "sep"
  },
  "language_info": {
   "codemirror_mode": {
    "name": "ipython",
    "version": 3
   },
   "file_extension": ".py",
   "mimetype": "text/x-python",
   "name": "python",
   "nbconvert_exporter": "python",
   "pygments_lexer": "ipython3",
   "version": "3.8.12"
  }
 },
 "nbformat": 4,
 "nbformat_minor": 5
}
