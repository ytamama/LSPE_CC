{
 "cells": [
  {
   "cell_type": "markdown",
   "id": "39c16753-b2a9-4000-95c3-14cd2f699fb3",
   "metadata": {},
   "source": [
    "## Append emergences and arrival times picked using the SNR function to catalog of isolated and repeating events\n",
    "\n",
    "### Import libraries"
   ]
  },
  {
   "cell_type": "code",
   "execution_count": 1,
   "id": "ddd77ff7-9648-444f-92b7-5a0b72935a5a",
   "metadata": {},
   "outputs": [],
   "source": [
    "# Imports\n",
    "import pandas as pd\n",
    "from datetime import datetime, timedelta\n",
    "import numpy as np\n",
    "import os\n",
    "import glob\n",
    "import sys\n",
    "import random\n",
    "\n",
    "# Import functions\n",
    "fxndir = '../functions/'\n",
    "sys.path.insert(0,fxndir)\n",
    "from moon2data import *"
   ]
  },
  {
   "cell_type": "markdown",
   "id": "d6b96b7b-cd4c-454a-8d9c-1743c47d8bba",
   "metadata": {},
   "source": [
    "### Load catalog with emergences and arrival times picked using the SNR function"
   ]
  },
  {
   "cell_type": "code",
   "execution_count": 2,
   "id": "406ad79d-5bea-4494-b5e0-673c2e9b7a33",
   "metadata": {},
   "outputs": [],
   "source": [
    "mqdir1 = '../catalogs/quality_control/'\n",
    "cat1 = pd.read_csv(mqdir1 + 'A17_moonquakes_catalog_nodupes.csv')\n",
    "cat1.drop(list(cat1.filter(regex='Unnamed|index')), axis=1, inplace=True)"
   ]
  },
  {
   "cell_type": "markdown",
   "id": "9cc9c171-e614-4fdc-af6c-bba92765f205",
   "metadata": {},
   "source": [
    "### Load catalog of isolated and repeating moonquakes"
   ]
  },
  {
   "cell_type": "code",
   "execution_count": 4,
   "id": "97a3113d-f3dd-43e8-a658-291f695a111a",
   "metadata": {},
   "outputs": [],
   "source": [
    "mqdir2 = '../catalogs/final_catalogs/'\n",
    "cat2 = pd.read_csv(mqdir2 + 'A17_moonquakes_catalog_HQ_final.csv')\n",
    "cat2.drop(list(cat2.filter(regex='Unnamed|index')), axis=1, inplace=True)"
   ]
  },
  {
   "cell_type": "markdown",
   "id": "10c8d6dd-2841-43a5-a13b-6ab690ca1159",
   "metadata": {},
   "source": [
    "### Iterate through events and geophones and retrieve refined pick time and emergence"
   ]
  },
  {
   "cell_type": "code",
   "execution_count": 4,
   "id": "db264926-b832-453c-9fea-a843046487aa",
   "metadata": {},
   "outputs": [],
   "source": [
    "emergences_s = []\n",
    "picktimes_SNR = []\n",
    "for r in np.arange(0,len(cat2)):\n",
    "    row2 = cat2.iloc[r]\n",
    "    evid = row2.evid\n",
    "    geophone = row2.geophone\n",
    "    row1 = cat1.loc[(cat1.evid == evid) & (cat1.geophone == geophone)].iloc[0]\n",
    "    emergences_s.append(row1.emergence_s)\n",
    "    picktimes_SNR.append(row1.picktime)"
   ]
  },
  {
   "cell_type": "code",
   "execution_count": 5,
   "id": "418a17dc-b512-4636-a1fa-fa3d9231688f",
   "metadata": {},
   "outputs": [],
   "source": [
    "cat2['emergence_s'] = emergences_s\n",
    "cat2['picktime_SNR'] = picktimes_SNR\n",
    "cat2.to_csv(mqdir2 + 'A17_moonquakes_catalog_HQ_final.csv')"
   ]
  },
  {
   "cell_type": "code",
   "execution_count": null,
   "id": "86944013-ca8b-4a9d-a92c-d1dd2c2cbe53",
   "metadata": {},
   "outputs": [],
   "source": []
  }
 ],
 "metadata": {
  "kernelspec": {
   "display_name": "Python 3 (ipykernel)",
   "language": "python",
   "name": "python3"
  },
  "language_info": {
   "codemirror_mode": {
    "name": "ipython",
    "version": 3
   },
   "file_extension": ".py",
   "mimetype": "text/x-python",
   "name": "python",
   "nbconvert_exporter": "python",
   "pygments_lexer": "ipython3",
   "version": "3.7.16"
  }
 },
 "nbformat": 4,
 "nbformat_minor": 5
}
