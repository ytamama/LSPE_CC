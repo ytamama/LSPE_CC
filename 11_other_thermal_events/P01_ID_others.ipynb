{
 "cells": [
  {
   "cell_type": "markdown",
   "id": "658bf907-4722-4994-9795-e00fe47176f5",
   "metadata": {},
   "source": [
    "## Set aside events that likely do NOT come from the LM or boulders around the LSPE site\n",
    "\n",
    "### Import libraries"
   ]
  },
  {
   "cell_type": "code",
   "execution_count": 1,
   "id": "25f90130-7e9f-4908-926a-51972f0b6403",
   "metadata": {
    "tags": []
   },
   "outputs": [],
   "source": [
    "import pandas as pd\n",
    "from datetime import datetime, timedelta\n",
    "import numpy as np\n",
    "import os\n",
    "import glob\n",
    "import sys"
   ]
  },
  {
   "cell_type": "markdown",
   "id": "bf738bf1-3311-4260-b53b-2294b0435920",
   "metadata": {},
   "source": [
    "### Load catalogs of isolated and repeating moonquakes"
   ]
  },
  {
   "cell_type": "code",
   "execution_count": 2,
   "id": "765eea1b-f819-4877-a33d-c8baf0b6c66c",
   "metadata": {
    "tags": []
   },
   "outputs": [],
   "source": [
    "mqdir1 = '../catalogs/final_catalogs/isolated_vs_repeating/'\n",
    "\n",
    "# Repeating\n",
    "cat1_rpt = pd.read_csv(mqdir1 + 'A17_repeating_catalog_HQ_final.csv')\n",
    "cat2_rpt = pd.read_csv(mqdir1 + 'A17_repeating_catalog_HQ_avg_event_stats.csv')\n",
    "\n",
    "# Isolated\n",
    "cat1_isol = pd.read_csv(mqdir1 + 'A17_isolated_catalog_HQ_final.csv')\n",
    "cat2_isol = pd.read_csv(mqdir1 + 'A17_isolated_catalog_HQ_avg_event_stats.csv')"
   ]
  },
  {
   "cell_type": "markdown",
   "id": "845c890b-1cde-4f91-b305-8dac04faf771",
   "metadata": {},
   "source": [
    "### Load catalogs of LM events"
   ]
  },
  {
   "cell_type": "code",
   "execution_count": 3,
   "id": "61e9d2ef-7ce4-4679-9ca8-4cd71077d99b",
   "metadata": {
    "tags": []
   },
   "outputs": [],
   "source": [
    "mqdir2 = '../catalogs/final_catalogs/LM_vs_boulder_vs_other/'\n",
    "\n",
    "# Repeating\n",
    "cat1_LM_rpt = pd.read_csv(mqdir2 + 'A17_repeating_LM_catalog_HQ_final.csv')\n",
    "cat2_LM_rpt = pd.read_csv(mqdir2 + 'A17_repeating_LM_catalog_HQ_avg_event_stats.csv')\n",
    "evids_rpt_LM = np.unique(cat2_LM_rpt.evid.tolist())\n",
    "\n",
    "# Isolated\n",
    "cat1_LM_isol = pd.read_csv(mqdir2 + 'A17_isolated_LM_catalog_HQ_final.csv')\n",
    "cat2_LM_isol = pd.read_csv(mqdir2 + 'A17_isolated_LM_catalog_HQ_avg_event_stats.csv')\n",
    "evids_isol_LM = np.unique(cat2_LM_isol.evid.tolist())\n",
    "evids_LM = np.concatenate([evids_rpt_LM, evids_isol_LM])"
   ]
  },
  {
   "cell_type": "markdown",
   "id": "1ee6abbb-6b17-4561-927c-86d8cdf54fe5",
   "metadata": {},
   "source": [
    "### Load catalogs of boulder events"
   ]
  },
  {
   "cell_type": "code",
   "execution_count": 4,
   "id": "72ebfc14-f41b-4fec-9382-d12f38501a2c",
   "metadata": {
    "tags": []
   },
   "outputs": [],
   "source": [
    "# Geophone rock\n",
    "cat1_georock = pd.read_csv(mqdir2 + 'GeophoneRock_events_catalog_HQ_final.csv')\n",
    "cat2_georock = pd.read_csv(mqdir2 + 'GeophoneRock_events_catalog_HQ_avg_event_stats.csv')\n",
    "evids_georock = np.unique(cat2_georock.evid.tolist())\n",
    "\n",
    "# R2 boulder\n",
    "cat1_R2 = pd.read_csv(mqdir2 + 'R2Rock_events_catalog_HQ_final.csv')\n",
    "cat2_R2 = pd.read_csv(mqdir2 + 'R2Rock_events_catalog_HQ_avg_event_stats.csv')\n",
    "evids_R2 = np.unique(cat2_R2.evid.tolist())\n",
    "\n",
    "# Geophone 4 Rock 1\n",
    "cat1_rock1 = pd.read_csv(mqdir2 + 'GEO4Rock1_events_catalog_HQ_final.csv')\n",
    "cat2_rock1 = pd.read_csv(mqdir2 + 'GEO4Rock1_events_catalog_HQ_avg_event_stats.csv')\n",
    "evids_rock1 = np.unique(cat2_rock1.evid.tolist())\n",
    "\n",
    "# Geophone 4 Rock 2 or 3\n",
    "cat1_rock23 = pd.read_csv(mqdir2 + 'GEO4Rock2or3_events_catalog_HQ_final.csv')\n",
    "cat2_rock23 = pd.read_csv(mqdir2 + 'GEO4Rock2or3_events_catalog_HQ_avg_event_stats.csv')\n",
    "evids_rock23 = np.unique(cat2_rock23.evid.tolist())"
   ]
  },
  {
   "cell_type": "markdown",
   "id": "3c715608-e9ed-4e47-88c6-6037c9e130e6",
   "metadata": {},
   "source": [
    "### Remove categorized events from catalog "
   ]
  },
  {
   "cell_type": "code",
   "execution_count": 6,
   "id": "eb1c91b9-34fb-4b91-9616-af9d7247150f",
   "metadata": {
    "tags": []
   },
   "outputs": [],
   "source": [
    "# ID categorized events\n",
    "evids_cat = np.concatenate([evids_LM, evids_georock, evids_R2, evids_rock1, evids_rock23])\n",
    "\n",
    "# Repeating\n",
    "cat1_rpt_uncat = cat1_rpt[~cat1_rpt['evid'].isin(evids_cat)]\n",
    "cat1_rpt_uncat = cat1_rpt_uncat.reset_index()\n",
    "cat1_rpt_uncat.drop(list(cat1_rpt_uncat.filter(regex='Unnamed|index')), axis=1, inplace=True)\n",
    "#\n",
    "cat2_rpt_uncat = cat2_rpt[~cat2_rpt['evid'].isin(evids_cat)]\n",
    "cat2_rpt_uncat = cat2_rpt_uncat.reset_index()\n",
    "cat2_rpt_uncat.drop(list(cat2_rpt_uncat.filter(regex='Unnamed|index')), axis=1, inplace=True)\n",
    "\n",
    "# Isolated\n",
    "cat1_isol_uncat = cat1_isol[~cat1_isol['evid'].isin(evids_cat)]\n",
    "cat1_isol_uncat = cat1_isol_uncat.reset_index()\n",
    "cat1_isol_uncat.drop(list(cat1_isol_uncat.filter(regex='Unnamed|index')), axis=1, inplace=True)\n",
    "#\n",
    "cat2_isol_uncat = cat2_isol[~cat2_isol['evid'].isin(evids_cat)]\n",
    "cat2_isol_uncat = cat2_isol_uncat.reset_index()\n",
    "cat2_isol_uncat.drop(list(cat2_isol_uncat.filter(regex='Unnamed|index')), axis=1, inplace=True)"
   ]
  },
  {
   "cell_type": "code",
   "execution_count": 10,
   "id": "f69cc50c-8f7a-4b61-b222-877bbac85330",
   "metadata": {
    "tags": []
   },
   "outputs": [
    {
     "data": {
      "text/plain": [
       "6475"
      ]
     },
     "execution_count": 10,
     "metadata": {},
     "output_type": "execute_result"
    }
   ],
   "source": [
    "len(cat2_rpt_uncat) + len(cat2_isol_uncat)"
   ]
  },
  {
   "cell_type": "code",
   "execution_count": 11,
   "id": "fe5743d2-02c3-40a7-9b0a-25e37a67d254",
   "metadata": {
    "tags": []
   },
   "outputs": [
    {
     "data": {
      "text/plain": [
       "5412"
      ]
     },
     "execution_count": 11,
     "metadata": {},
     "output_type": "execute_result"
    }
   ],
   "source": [
    "len(cat2_isol_uncat)"
   ]
  },
  {
   "cell_type": "code",
   "execution_count": 12,
   "id": "1a005975-1575-4cd6-b30f-9602ca8c0d5b",
   "metadata": {},
   "outputs": [
    {
     "data": {
      "text/plain": [
       "1063"
      ]
     },
     "execution_count": 12,
     "metadata": {},
     "output_type": "execute_result"
    }
   ],
   "source": [
    "len(cat2_rpt_uncat)"
   ]
  },
  {
   "cell_type": "markdown",
   "id": "ab91770e-e892-4d04-98df-f462197db3d6",
   "metadata": {},
   "source": [
    "### Save catalogs"
   ]
  },
  {
   "cell_type": "code",
   "execution_count": 13,
   "id": "b1a9577f-c374-4a41-97ab-8c9d2c0bc395",
   "metadata": {
    "tags": []
   },
   "outputs": [],
   "source": [
    "# Repeating\n",
    "cat1_rpt_uncat.to_csv(mqdir2 + 'A17_repeating_other_catalog_HQ_final.csv',index=False)\n",
    "cat2_rpt_uncat.to_csv(mqdir2 + 'A17_repeating_other_catalog_HQ_avg_event_stats.csv',index=False)\n",
    "\n",
    "# Isolated\n",
    "cat1_isol_uncat.to_csv(mqdir2 + 'A17_isolated_other_catalog_HQ_final.csv',index=False)\n",
    "cat2_isol_uncat.to_csv(mqdir2 + 'A17_isolated_other_catalog_HQ_avg_event_stats.csv',index=False)"
   ]
  },
  {
   "cell_type": "markdown",
   "id": "b02ba301-eb19-4b16-824f-432c3ba91d46",
   "metadata": {},
   "source": [
    "### Combine repeating and isolated"
   ]
  },
  {
   "cell_type": "code",
   "execution_count": 14,
   "id": "0b215ecc-ff75-47d4-9568-b80881ab4f24",
   "metadata": {},
   "outputs": [],
   "source": [
    "cat1_uncat = pd.concat([cat1_rpt_uncat, cat1_isol_uncat])\n",
    "cat1_uncat = cat1_uncat.reset_index()\n",
    "cat1_uncat.drop(list(cat1_uncat.filter(regex='Unnamed|index')), axis=1, inplace=True)\n",
    "cat1_uncat.to_csv(mqdir2 + 'A17_other_catalog_HQ_final.csv',index=False)\n",
    "\n",
    "cat2_uncat = pd.concat([cat2_rpt_uncat, cat2_isol_uncat])\n",
    "cat2_uncat = cat2_uncat.reset_index()\n",
    "cat2_uncat.drop(list(cat2_uncat.filter(regex='Unnamed|index')), axis=1, inplace=True)\n",
    "cat2_uncat.to_csv(mqdir2 + 'A17_other_catalog_HQ_avg_event_stats.csv',index=False)"
   ]
  },
  {
   "cell_type": "code",
   "execution_count": null,
   "id": "81aa1dfa-c040-4005-8144-af51114b60c7",
   "metadata": {},
   "outputs": [],
   "source": []
  }
 ],
 "metadata": {
  "kernelspec": {
   "display_name": "Python 3 (ipykernel)",
   "language": "python",
   "name": "python3"
  },
  "language_info": {
   "codemirror_mode": {
    "name": "ipython",
    "version": 3
   },
   "file_extension": ".py",
   "mimetype": "text/x-python",
   "name": "python",
   "nbconvert_exporter": "python",
   "pygments_lexer": "ipython3",
   "version": "3.7.16"
  }
 },
 "nbformat": 4,
 "nbformat_minor": 5
}
