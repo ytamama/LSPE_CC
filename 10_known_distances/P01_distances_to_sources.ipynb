{
 "cells": [
  {
   "cell_type": "markdown",
   "id": "aa25c454-6227-4226-9aed-949653413bfb",
   "metadata": {},
   "source": [
    "## Calculate approximate distances from boulders and LM to geophones\n",
    "\n",
    "### Import libraries"
   ]
  },
  {
   "cell_type": "code",
   "execution_count": 1,
   "id": "43697804-fc5d-47d5-94ac-a22854bf1c0d",
   "metadata": {
    "tags": []
   },
   "outputs": [],
   "source": [
    "import pickle\n",
    "import glob\n",
    "import pandas as pd\n",
    "import numpy as np\n",
    "import os\n",
    "import math\n",
    "import datetime\n",
    "\n",
    "# Import functions\n",
    "import sys\n",
    "fxndir = '../functions/'\n",
    "sys.path.insert(0,fxndir)\n",
    "from moon2data import *"
   ]
  },
  {
   "cell_type": "markdown",
   "id": "2c102d13-80bc-4a03-b0de-4e15e4701309",
   "metadata": {},
   "source": [
    "### Load catalog of geophone coordinates"
   ]
  },
  {
   "cell_type": "code",
   "execution_count": 2,
   "id": "092b8675-0d3a-4e7a-b4d4-2b389713bcd2",
   "metadata": {},
   "outputs": [],
   "source": [
    "mqdir1 = '../catalogs/coordinates/'\n",
    "coord_cat = pd.read_csv(mqdir1 + 'Apollo17_Cartesian_Coordinates.csv')"
   ]
  },
  {
   "cell_type": "markdown",
   "id": "b68713ed-cb1c-4406-b6c8-e6b2672bf225",
   "metadata": {},
   "source": [
    "### Unpack coordinates of geophones"
   ]
  },
  {
   "cell_type": "code",
   "execution_count": 3,
   "id": "c8912fde-d614-4f98-91a0-e3325e3c81bc",
   "metadata": {
    "tags": []
   },
   "outputs": [],
   "source": [
    "# Geophone 1\n",
    "geo1_row = coord_cat.loc[coord_cat.Instrument == 'geo1'].iloc[0]\n",
    "x_geo1 = geo1_row.x_m\n",
    "y_geo1 = geo1_row.y_m\n",
    "\n",
    "# Geophone 2\n",
    "geo2_row = coord_cat.loc[coord_cat.Instrument == 'geo2'].iloc[0]\n",
    "x_geo2 = geo2_row.x_m\n",
    "y_geo2 = geo2_row.y_m\n",
    "\n",
    "# Geophone 3\n",
    "geo3_row = coord_cat.loc[coord_cat.Instrument == 'geo3'].iloc[0]\n",
    "x_geo3 = geo3_row.x_m\n",
    "y_geo3 = geo3_row.y_m\n",
    "\n",
    "# Geophone 4\n",
    "geo4_row = coord_cat.loc[coord_cat.Instrument == 'geo4'].iloc[0]\n",
    "x_geo4 = geo4_row.x_m\n",
    "y_geo4 = geo4_row.y_m"
   ]
  },
  {
   "cell_type": "markdown",
   "id": "8cfa7851-aa40-45ad-bd66-6092a2ed760b",
   "metadata": {},
   "source": [
    "## Calculate distances from boulders to geophones"
   ]
  },
  {
   "cell_type": "markdown",
   "id": "47bb2f3b-3cb0-4053-99ec-c785188bd3d3",
   "metadata": {},
   "source": [
    "### Load approximate coordinates of boulders\n",
    "\n",
    "Estimated from Haase et al. (2019)"
   ]
  },
  {
   "cell_type": "code",
   "execution_count": 4,
   "id": "202dbc11-dc0f-43d5-a428-510208994859",
   "metadata": {},
   "outputs": [],
   "source": [
    "boulder_cat = pd.read_csv(mqdir1 + 'Apollo17_boulder_coordinates.csv')\n",
    "boulder_cat.drop(list(boulder_cat.filter(regex='Unnamed|index')), axis=1, inplace=True)"
   ]
  },
  {
   "cell_type": "markdown",
   "id": "91a7658a-a2d3-4906-b834-c4cec86ddc23",
   "metadata": {},
   "source": [
    "### Calculate distances "
   ]
  },
  {
   "cell_type": "code",
   "execution_count": 5,
   "id": "bd638b3f-6e35-4a38-986f-3e57eb18c0eb",
   "metadata": {
    "tags": []
   },
   "outputs": [],
   "source": [
    "geo1_dists = []\n",
    "geo2_dists = []\n",
    "geo3_dists = []\n",
    "geo4_dists = []\n",
    "for r in np.arange(0,len(boulder_cat)):\n",
    "    \n",
    "    # Unpack coordinates\n",
    "    row = boulder_cat.iloc[r]\n",
    "    x_boulder = row.x_m\n",
    "    y_boulder = row.y_m\n",
    "    \n",
    "    # Calculate distance\n",
    "    # Geophone 1\n",
    "    geo1_dist = np.sqrt((x_boulder - x_geo1)**2 + (y_boulder - y_geo1)**2)\n",
    "    geo1_dists.append(geo1_dist)\n",
    "    \n",
    "    # Geophone 2\n",
    "    geo2_dist = np.sqrt((x_boulder - x_geo2)**2 + (y_boulder - y_geo2)**2)\n",
    "    geo2_dists.append(geo2_dist)\n",
    "    \n",
    "    # Geophone 3\n",
    "    geo3_dist = np.sqrt((x_boulder - x_geo3)**2 + (y_boulder - y_geo3)**2)\n",
    "    geo3_dists.append(geo3_dist)\n",
    "    \n",
    "    # Geophone 4\n",
    "    geo4_dist = np.sqrt((x_boulder - x_geo4)**2 + (y_boulder - y_geo4)**2)\n",
    "    geo4_dists.append(geo4_dist)"
   ]
  },
  {
   "cell_type": "code",
   "execution_count": 6,
   "id": "c3dbc977-c0da-4949-b0fe-48993e3c2e29",
   "metadata": {},
   "outputs": [],
   "source": [
    "boulder_cat['geo1_xy_dist_m'] = geo1_dists\n",
    "boulder_cat['geo2_xy_dist_m'] = geo2_dists\n",
    "boulder_cat['geo3_xy_dist_m'] = geo3_dists\n",
    "boulder_cat['geo4_xy_dist_m'] = geo4_dists\n",
    "boulder_cat = boulder_cat[['x_m', 'y_m', 'diameter_m', 'name', 'geo1_xy_dist_m', 'geo2_xy_dist_m',\n",
    "       'geo3_xy_dist_m', 'geo4_xy_dist_m']]\n",
    "boulder_cat.to_csv(mqdir1 + 'Apollo17_boulder_coordinates.csv',index=False)"
   ]
  },
  {
   "cell_type": "markdown",
   "id": "d8fd3f10-ad01-4831-b4e4-381da4e69005",
   "metadata": {},
   "source": [
    "## Build a catalog of source-receiver distances\n",
    "\n",
    "### Initialize arrays"
   ]
  },
  {
   "cell_type": "code",
   "execution_count": 7,
   "id": "7d43454d-d245-4f07-a99e-293975cee50e",
   "metadata": {
    "tags": []
   },
   "outputs": [],
   "source": [
    "sources = ['LM']\n",
    "dist_geo1_LM = geo1_row.XYZ_dist_LM_m\n",
    "geo1_dists = [dist_geo1_LM]\n",
    "dist_geo2_LM = geo2_row.XYZ_dist_LM_m\n",
    "geo2_dists = [dist_geo2_LM]\n",
    "dist_geo3_LM = geo3_row.XYZ_dist_LM_m\n",
    "geo3_dists = [dist_geo3_LM]\n",
    "dist_geo4_LM = geo4_row.XYZ_dist_LM_m\n",
    "geo4_dists = [dist_geo4_LM]"
   ]
  },
  {
   "cell_type": "markdown",
   "id": "f0a66aa0-5ee5-45fe-800e-72b216e87b92",
   "metadata": {},
   "source": [
    "### Load coordinates of boulders"
   ]
  },
  {
   "cell_type": "code",
   "execution_count": 8,
   "id": "b1977218-a13b-4b07-888c-1bbbf28840e6",
   "metadata": {
    "tags": []
   },
   "outputs": [],
   "source": [
    "# Geophone Rock\n",
    "boulder_cat = pd.read_csv(mqdir1 + 'Apollo17_boulder_coordinates.csv')\n",
    "row_georock = boulder_cat.loc[boulder_cat.name == 'Geophone rock'].iloc[0]\n",
    "x_georock = row_georock.x_m\n",
    "y_georock = row_georock.y_m\n",
    "\n",
    "# R2\n",
    "row_R2 = boulder_cat.loc[boulder_cat.name == 'R2'].iloc[0]\n",
    "x_R2 = row_R2.x_m\n",
    "y_R2 = row_R2.y_m\n",
    "\n",
    "# Geophone 4 Rock 1\n",
    "row_rock1 = boulder_cat.loc[boulder_cat.name == 'GEO 4 rock 1'].iloc[0]\n",
    "x_rock1 = row_rock1.x_m\n",
    "y_rock1 = row_rock1.y_m\n",
    "\n",
    "# Geophone 4 Rock 2\n",
    "row_rock2 = boulder_cat.loc[boulder_cat.name == 'GEO 4 rock 2'].iloc[0]\n",
    "x_rock2 = row_rock2.x_m\n",
    "y_rock2 = row_rock2.y_m\n",
    "\n",
    "# Geophone 4 Rock 3\n",
    "row_rock3 = boulder_cat.loc[boulder_cat.name == 'GEO 4 rock 3'].iloc[0]\n",
    "x_rock3 = row_rock3.x_m\n",
    "y_rock3 = row_rock3.y_m"
   ]
  },
  {
   "cell_type": "markdown",
   "id": "a868f59b-cbde-4eb1-825e-54b6807b1ef2",
   "metadata": {},
   "source": [
    "### Calculate distances from geophones to boulders"
   ]
  },
  {
   "cell_type": "code",
   "execution_count": 9,
   "id": "c68dc8eb-bbed-4bf7-9c11-0de627a641f6",
   "metadata": {
    "tags": []
   },
   "outputs": [],
   "source": [
    "# Geophone Rock\n",
    "sources.append('Geophone rock')\n",
    "dist_geo1_georock = np.sqrt((x_geo1 - x_georock)**2 + (y_geo1 - y_georock)**2)\n",
    "geo1_dists.append(dist_geo1_georock)\n",
    "dist_geo2_georock = np.sqrt((x_geo2 - x_georock)**2 + (y_geo2 - y_georock)**2)\n",
    "geo2_dists.append(dist_geo2_georock)\n",
    "dist_geo3_georock = np.sqrt((x_geo3 - x_georock)**2 + (y_geo3 - y_georock)**2)\n",
    "geo3_dists.append(dist_geo3_georock)\n",
    "dist_geo4_georock = np.sqrt((x_geo4 - x_georock)**2 + (y_geo4 - y_georock)**2)\n",
    "geo4_dists.append(dist_geo4_georock)\n",
    "\n",
    "# R2\n",
    "sources.append('R2')\n",
    "dist_geo1_R2 = np.sqrt((x_geo1 - x_R2)**2 + (y_geo1 - y_R2)**2)\n",
    "geo1_dists.append(dist_geo1_R2)\n",
    "dist_geo2_R2 = np.sqrt((x_geo2 - x_R2)**2 + (y_geo2 - y_R2)**2)\n",
    "geo2_dists.append(dist_geo2_R2)\n",
    "dist_geo3_R2 = np.sqrt((x_geo3 - x_R2)**2 + (y_geo3 - y_R2)**2)\n",
    "geo3_dists.append(dist_geo3_R2)\n",
    "dist_geo4_R2 = np.sqrt((x_geo4 - x_R2)**2 + (y_geo4 - y_R2)**2)\n",
    "geo4_dists.append(dist_geo4_R2)\n",
    "\n",
    "# Geophone 4 Rock 1\n",
    "sources.append('GEO 4 rock 1')\n",
    "dist_geo1_rock1 = np.sqrt((x_geo1 - x_rock1)**2 + (y_geo1 - y_rock1)**2)\n",
    "geo1_dists.append(dist_geo1_rock1)\n",
    "dist_geo2_rock1 = np.sqrt((x_geo2 - x_rock1)**2 + (y_geo2 - y_rock1)**2)\n",
    "geo2_dists.append(dist_geo2_rock1)\n",
    "dist_geo3_rock1 = np.sqrt((x_geo3 - x_rock1)**2 + (y_geo3 - y_rock1)**2)\n",
    "geo3_dists.append(dist_geo3_rock1)\n",
    "dist_geo4_rock1 = np.sqrt((x_geo4 - x_rock1)**2 + (y_geo4 - y_rock1)**2)\n",
    "geo4_dists.append(dist_geo4_rock1)\n",
    "\n",
    "# Geophone 4 Rock 2\n",
    "sources.append('GEO 4 rock 2')\n",
    "dist_geo1_rock2 = np.sqrt((x_geo1 - x_rock2)**2 + (y_geo1 - y_rock2)**2)\n",
    "geo1_dists.append(dist_geo1_rock2)\n",
    "dist_geo2_rock2 = np.sqrt((x_geo2 - x_rock2)**2 + (y_geo2 - y_rock2)**2)\n",
    "geo2_dists.append(dist_geo2_rock2)\n",
    "dist_geo3_rock2 = np.sqrt((x_geo3 - x_rock2)**2 + (y_geo3 - y_rock2)**2)\n",
    "geo3_dists.append(dist_geo3_rock2)\n",
    "dist_geo4_rock2 = np.sqrt((x_geo4 - x_rock2)**2 + (y_geo4 - y_rock2)**2)\n",
    "geo4_dists.append(dist_geo4_rock2)\n",
    "\n",
    "# Geophone 4 Rock 3\n",
    "sources.append('GEO 4 rock 3')\n",
    "dist_geo1_rock3 = np.sqrt((x_geo1 - x_rock3)**2 + (y_geo1 - y_rock3)**2)\n",
    "geo1_dists.append(dist_geo1_rock3)\n",
    "dist_geo2_rock3 = np.sqrt((x_geo2 - x_rock3)**2 + (y_geo2 - y_rock3)**2)\n",
    "geo2_dists.append(dist_geo2_rock3)\n",
    "dist_geo3_rock3 = np.sqrt((x_geo3 - x_rock3)**2 + (y_geo3 - y_rock3)**2)\n",
    "geo3_dists.append(dist_geo3_rock3)\n",
    "dist_geo4_rock3 = np.sqrt((x_geo4 - x_rock3)**2 + (y_geo4 - y_rock3)**2)\n",
    "geo4_dists.append(dist_geo4_rock3)"
   ]
  },
  {
   "cell_type": "markdown",
   "id": "1bdde707-5675-41b6-a014-7cd7df46fb6e",
   "metadata": {},
   "source": [
    "### Save distances"
   ]
  },
  {
   "cell_type": "code",
   "execution_count": 10,
   "id": "acc2682d-0042-4322-bcf9-af3f2e1c66e0",
   "metadata": {},
   "outputs": [],
   "source": [
    "d = {'source':sources, 'geo1_distance_m':geo1_dists, 'geo2_distance_m':geo2_dists, 'geo3_distance_m':geo3_dists, 'geo4_distance_m':geo4_dists}\n",
    "df = pd.DataFrame(data = d)\n",
    "df.to_csv(mqdir1 + 'source_receiver_distances.csv',index=False)"
   ]
  },
  {
   "cell_type": "markdown",
   "id": "49217248-54e3-460f-a5f4-ddb561650db6",
   "metadata": {},
   "source": [
    "## Add source-receiver distances to catalogs"
   ]
  },
  {
   "cell_type": "code",
   "execution_count": 11,
   "id": "d91bac10-67b5-438e-bd9d-48959e3114cc",
   "metadata": {
    "tags": []
   },
   "outputs": [],
   "source": [
    "# LM - repeating\n",
    "mqdir2 = '../catalogs/final_catalogs/LM_vs_boulder_vs_other/'\n",
    "cat_LM_rpt = pd.read_csv(mqdir2 + 'A17_repeating_LM_catalog_HQ_final.csv')\n",
    "source_distances = []\n",
    "for r in np.arange(0,len(cat_LM_rpt)):\n",
    "    row = cat_LM_rpt.iloc[r]\n",
    "    if row.geophone == 1:\n",
    "        source_distances.append(dist_geo1_LM)\n",
    "    elif row.geophone == 2:\n",
    "        source_distances.append(dist_geo2_LM)\n",
    "    elif row.geophone == 3:\n",
    "        source_distances.append(dist_geo3_LM)\n",
    "    elif row.geophone == 4:\n",
    "        source_distances.append(dist_geo4_LM)\n",
    "cat_LM_rpt['source_distance_m'] = source_distances\n",
    "cat_LM_rpt.to_csv(mqdir2 + 'A17_repeating_LM_catalog_HQ_final.csv',index=False)"
   ]
  },
  {
   "cell_type": "code",
   "execution_count": 12,
   "id": "d7544d46-811d-4f8f-a484-a28d7669e2a0",
   "metadata": {
    "tags": []
   },
   "outputs": [],
   "source": [
    "# LM - isolated\n",
    "cat_LM_isol = pd.read_csv(mqdir2 + 'A17_isolated_LM_catalog_HQ_final.csv')\n",
    "source_distances = []\n",
    "for r in np.arange(0,len(cat_LM_isol)):\n",
    "    row = cat_LM_isol.iloc[r]\n",
    "    if row.geophone == 1:\n",
    "        source_distances.append(dist_geo1_LM)\n",
    "    elif row.geophone == 2:\n",
    "        source_distances.append(dist_geo2_LM)\n",
    "    elif row.geophone == 3:\n",
    "        source_distances.append(dist_geo3_LM)\n",
    "    elif row.geophone == 4:\n",
    "        source_distances.append(dist_geo4_LM)\n",
    "cat_LM_isol['source_distance_m'] = source_distances\n",
    "cat_LM_isol.to_csv(mqdir2 + 'A17_isolated_LM_catalog_HQ_final.csv',index=False)"
   ]
  },
  {
   "cell_type": "code",
   "execution_count": 13,
   "id": "27c5a4f4-7c9c-45a3-9595-10aae447cb02",
   "metadata": {
    "tags": []
   },
   "outputs": [],
   "source": [
    "# LM - all\n",
    "cat_LM = pd.read_csv(mqdir2 + 'A17_LM_catalog_HQ_final.csv')\n",
    "source_distances = []\n",
    "for r in np.arange(0,len(cat_LM)):\n",
    "    row = cat_LM.iloc[r]\n",
    "    if row.geophone == 1:\n",
    "        source_distances.append(dist_geo1_LM)\n",
    "    elif row.geophone == 2:\n",
    "        source_distances.append(dist_geo2_LM)\n",
    "    elif row.geophone == 3:\n",
    "        source_distances.append(dist_geo3_LM)\n",
    "    elif row.geophone == 4:\n",
    "        source_distances.append(dist_geo4_LM)\n",
    "cat_LM['source_distance_m'] = source_distances\n",
    "cat_LM.to_csv(mqdir2 + 'A17_LM_catalog_HQ_final.csv',index=False)"
   ]
  },
  {
   "cell_type": "code",
   "execution_count": 14,
   "id": "596b7510-8b42-4704-bdbd-de0ad3535584",
   "metadata": {
    "tags": []
   },
   "outputs": [],
   "source": [
    "# Geophone Rock\n",
    "cat_georock = pd.read_csv(mqdir2 + 'GeophoneRock_events_catalog_HQ_final.csv')\n",
    "source_distances = []\n",
    "for r in np.arange(0,len(cat_georock)):\n",
    "    row = cat_georock.iloc[r]\n",
    "    if row.geophone == 1:\n",
    "        source_distances.append(dist_geo1_georock)\n",
    "    elif row.geophone == 2:\n",
    "        source_distances.append(dist_geo2_georock)\n",
    "    elif row.geophone == 3:\n",
    "        source_distances.append(dist_geo3_georock)\n",
    "    elif row.geophone == 4:\n",
    "        source_distances.append(dist_geo4_georock)\n",
    "cat_georock['source_distance_m'] = source_distances\n",
    "cat_georock.to_csv(mqdir2 + 'GeophoneRock_events_catalog_HQ_final.csv',index=False)"
   ]
  },
  {
   "cell_type": "code",
   "execution_count": 15,
   "id": "8046389d-99f4-4479-a328-d39b8d785df8",
   "metadata": {
    "tags": []
   },
   "outputs": [],
   "source": [
    "# R2\n",
    "cat_R2 = pd.read_csv(mqdir2 + 'R2Rock_events_catalog_HQ_final.csv')\n",
    "source_distances = []\n",
    "for r in np.arange(0,len(cat_R2)):\n",
    "    row = cat_R2.iloc[r]\n",
    "    if row.geophone == 1:\n",
    "        source_distances.append(dist_geo1_R2)\n",
    "    elif row.geophone == 2:\n",
    "        source_distances.append(dist_geo2_R2)\n",
    "    elif row.geophone == 3:\n",
    "        source_distances.append(dist_geo3_R2)\n",
    "    elif row.geophone == 4:\n",
    "        source_distances.append(dist_geo4_R2)\n",
    "cat_R2['source_distance_m'] = source_distances\n",
    "cat_R2.to_csv(mqdir2 + 'R2Rock_events_catalog_HQ_final.csv',index=False)"
   ]
  },
  {
   "cell_type": "code",
   "execution_count": 16,
   "id": "28b04e17-f0d0-465d-a959-760cc78f2738",
   "metadata": {
    "tags": []
   },
   "outputs": [],
   "source": [
    "# Geophone 4 Rock 1\n",
    "cat_rock1 = pd.read_csv(mqdir2 + 'GEO4Rock1_events_catalog_HQ_final.csv')\n",
    "source_distances = []\n",
    "for r in np.arange(0,len(cat_rock1)):\n",
    "    row = cat_rock1.iloc[r]\n",
    "    if row.geophone == 1:\n",
    "        source_distances.append(dist_geo1_rock1)\n",
    "    elif row.geophone == 2:\n",
    "        source_distances.append(dist_geo2_rock1)\n",
    "    elif row.geophone == 3:\n",
    "        source_distances.append(dist_geo3_rock1)\n",
    "    elif row.geophone == 4:\n",
    "        source_distances.append(dist_geo4_rock1)\n",
    "cat_rock1['source_distance_m'] = source_distances\n",
    "cat_rock1.to_csv(mqdir2 + 'GEO4Rock1_events_catalog_HQ_final.csv',index=False)"
   ]
  },
  {
   "cell_type": "code",
   "execution_count": 17,
   "id": "92a19d2f-4bc1-4a69-a78a-c75f064d67a7",
   "metadata": {
    "tags": []
   },
   "outputs": [],
   "source": [
    "# Geophone 4 Rock 2/3\n",
    "cat_rock23 = pd.read_csv(mqdir2 + 'GEO4Rock2or3_events_catalog_HQ_final.csv')\n",
    "distances_rock2 = []\n",
    "distances_rock3 = []\n",
    "for r in np.arange(0,len(cat_rock23)):\n",
    "    row = cat_rock23.iloc[r]\n",
    "    if row.geophone == 1:\n",
    "        distances_rock2.append(dist_geo1_rock2)\n",
    "        distances_rock3.append(dist_geo1_rock3)\n",
    "    elif row.geophone == 2:\n",
    "        distances_rock2.append(dist_geo2_rock2)\n",
    "        distances_rock3.append(dist_geo2_rock3)\n",
    "    elif row.geophone == 3:\n",
    "        distances_rock2.append(dist_geo3_rock2)\n",
    "        distances_rock3.append(dist_geo3_rock3)\n",
    "    elif row.geophone == 4:\n",
    "        distances_rock2.append(dist_geo4_rock2)\n",
    "        distances_rock3.append(dist_geo4_rock3)\n",
    "        \n",
    "cat_rock23['rock2_distance_m'] = distances_rock2\n",
    "cat_rock23['rock3_distance_m'] = distances_rock3\n",
    "cat_rock23.to_csv(mqdir2 + 'GEO4Rock2or3_events_catalog_HQ_final.csv',index=False)"
   ]
  },
  {
   "cell_type": "code",
   "execution_count": null,
   "id": "5d5e0f26-c79e-4d9e-b786-db0a4fc2f1dc",
   "metadata": {},
   "outputs": [],
   "source": []
  }
 ],
 "metadata": {
  "kernelspec": {
   "display_name": "Python 3 (ipykernel)",
   "language": "python",
   "name": "python3"
  },
  "language_info": {
   "codemirror_mode": {
    "name": "ipython",
    "version": 3
   },
   "file_extension": ".py",
   "mimetype": "text/x-python",
   "name": "python",
   "nbconvert_exporter": "python",
   "pygments_lexer": "ipython3",
   "version": "3.7.16"
  }
 },
 "nbformat": 4,
 "nbformat_minor": 5
}
