{
 "cells": [
  {
   "cell_type": "markdown",
   "id": "3fdd720d-2a77-4464-a1af-57d49a11a76e",
   "metadata": {},
   "source": [
    "## Distinguish high quality signals from low quality ones\n",
    "\n",
    "### Import libraries"
   ]
  },
  {
   "cell_type": "code",
   "execution_count": 3,
   "id": "8c1041f7-beed-42cb-97e0-7aad1174be6b",
   "metadata": {
    "tags": []
   },
   "outputs": [],
   "source": [
    "# Imports\n",
    "import pandas as pd\n",
    "from datetime import datetime, timedelta\n",
    "import numpy as np\n",
    "from matplotlib import pyplot as plt\n",
    "import os\n",
    "import glob\n",
    "import sys\n",
    "from matplotlib import gridspec\n",
    "import random\n",
    "\n",
    "# Import functions\n",
    "fxndir = '../functions/'\n",
    "sys.path.insert(0,fxndir)\n",
    "from moon2data import *"
   ]
  },
  {
   "cell_type": "markdown",
   "id": "09ee17c2-80a9-4436-8458-e0d6761f1f53",
   "metadata": {},
   "source": [
    "### Load catalog of moonquakes"
   ]
  },
  {
   "cell_type": "code",
   "execution_count": null,
   "id": "e4066c95-1064-4db3-b6ba-e60ea327ee9e",
   "metadata": {},
   "outputs": [],
   "source": [
    "mqdir = '../catalogs/quality_control/'\n",
    "cat = pd.read_csv(mqdir + 'A17_moonquakes_catalog_nodupes.csv')\n",
    "cat.drop(list(cat.filter(regex='Unnamed|index')), axis=1, inplace=True)"
   ]
  },
  {
   "cell_type": "markdown",
   "id": "74dc30bc-0ec8-47cf-b828-e63b681ed41b",
   "metadata": {},
   "source": [
    "### Identify events that meet the quality criteria"
   ]
  },
  {
   "cell_type": "code",
   "execution_count": 5,
   "id": "9df681d7-70b7-4e22-9962-04c3324cd681",
   "metadata": {
    "tags": []
   },
   "outputs": [],
   "source": [
    "parentdir = '/data/ytamama/Apollo17/LSPE_data/sac_volts_ds/'\n",
    "minfreq = 3\n",
    "maxfreq = 35\n",
    "befwin = 60\n",
    "aftwin = 60\n",
    "\n",
    "qualities = []\n",
    "for r in np.arange(0,len(cat)):\n",
    "    \n",
    "    # Obtain RMSE\n",
    "    row = cat.iloc[r]\n",
    "    arrtime = datetime.strptime(row.picktime,'%Y-%m-%d %H:%M:%S.%f')\n",
    "    geonum = row.geophone\n",
    "    evid = row.evid\n",
    "    quotient = row.SNR_div_RMSE\n",
    "    gap_len = row.max_gap_len_s\n",
    "    if (quotient >= 12) & (quotient < 10000):\n",
    "        if gap_len < 5:\n",
    "            quality = 'HQ'\n",
    "        else:\n",
    "            quality = 'LQ'\n",
    "    else:\n",
    "        quality = 'LQ'\n",
    "    qualities.append(quality)"
   ]
  },
  {
   "cell_type": "code",
   "execution_count": 6,
   "id": "b431592b-606b-4ea3-ba0d-ad6d20337182",
   "metadata": {
    "tags": []
   },
   "outputs": [],
   "source": [
    "cat['quality'] = qualities\n",
    "cat.to_csv(mqdir + 'A17_moonquakes_catalog_nodupes.csv')"
   ]
  },
  {
   "cell_type": "markdown",
   "id": "5f38f0e2-24b5-49d5-9413-2e396284e3e4",
   "metadata": {},
   "source": [
    "### Plot a pie chart of high vs low quality detections"
   ]
  },
  {
   "cell_type": "code",
   "execution_count": 7,
   "id": "da5ab51f-4f17-40fa-94e3-389713525075",
   "metadata": {
    "tags": []
   },
   "outputs": [
    {
     "data": {
      "text/plain": [
       "25675"
      ]
     },
     "execution_count": 7,
     "metadata": {},
     "output_type": "execute_result"
    }
   ],
   "source": [
    "num_hq = len(cat.loc[cat.quality == 'HQ'])\n",
    "num_lq = len(cat.loc[cat.quality == 'LQ'])\n",
    "num_hq"
   ]
  },
  {
   "cell_type": "code",
   "execution_count": 8,
   "id": "04e85c5f-9c99-4d18-91a7-1af3f779f7d7",
   "metadata": {
    "tags": []
   },
   "outputs": [
    {
     "data": {
      "text/plain": [
       "20923"
      ]
     },
     "execution_count": 8,
     "metadata": {},
     "output_type": "execute_result"
    }
   ],
   "source": [
    "num_lq"
   ]
  },
  {
   "cell_type": "code",
   "execution_count": 9,
   "id": "433146fd-36cd-4868-8c1e-0493acaa3cce",
   "metadata": {
    "tags": []
   },
   "outputs": [
    {
     "data": {
      "image/png": "[encoded data removed]",
      "text/plain": [
       "<Figure size 900x600 with 1 Axes>"
      ]
     },
     "metadata": {},
     "output_type": "display_data"
    }
   ],
   "source": [
    "mq_nums = [num_hq, num_lq]\n",
    "\n",
    "# Plot pie chart\n",
    "fig,ax = plt.subplots(1,1,figsize=(9, 6))\n",
    "patches,texts = ax.pie(mq_nums, startangle = 90, counterclock=False)"
   ]
  },
  {
   "cell_type": "markdown",
   "id": "336f22ea-20c4-4e9c-b0d0-c8cea9248eb1",
   "metadata": {},
   "source": [
    "### Assign grades to each moonquake\n",
    "\n",
    "- Grade AA - 4 seismic detections\n",
    "- Grade BB - 3 seismic detections\n",
    "- Grade CC - 2 seismic detections\n",
    "- Grade DD - 1 seismic detection\n",
    "- Grade EE - 0 seismic detection"
   ]
  },
  {
   "cell_type": "code",
   "execution_count": 10,
   "id": "1f714c97-5c24-4b6f-bea1-26f83af70e94",
   "metadata": {
    "tags": []
   },
   "outputs": [],
   "source": [
    "grades_new = []\n",
    "for r in np.arange(0,len(cat)):\n",
    "    row = cat.iloc[r]\n",
    "    evid = row.evid\n",
    "    # Obtain # of high quality rows for this event ID\n",
    "    hq_rows = cat.loc[(cat.evid == evid) & (cat.quality == 'HQ')]\n",
    "    if len(hq_rows) > 4:\n",
    "        print('flag')\n",
    "    \n",
    "    if len(hq_rows) == 4:\n",
    "        grades_new.append('AA')\n",
    "    elif len(hq_rows) == 3:\n",
    "        grades_new.append('BB')\n",
    "    elif len(hq_rows) == 2:\n",
    "        grades_new.append('CC')\n",
    "    elif len(hq_rows) == 1:\n",
    "        grades_new.append('DD')\n",
    "    else:\n",
    "        grades_new.append('EE')\n",
    "#\n",
    "cat['grade_new'] = grades_new\n",
    "cat.to_csv(mqdir + 'A17_moonquakes_catalog_nodupes.csv')"
   ]
  },
  {
   "cell_type": "code",
   "execution_count": 13,
   "id": "29cb7966-3af0-4a0c-b16e-8d09575e8d82",
   "metadata": {
    "tags": []
   },
   "outputs": [
    {
     "data": {
      "text/plain": [
       "4875"
      ]
     },
     "execution_count": 13,
     "metadata": {},
     "output_type": "execute_result"
    }
   ],
   "source": [
    "cat_aa = cat.loc[cat.grade_new == 'AA']\n",
    "len(np.unique(cat_aa.evid.tolist()))"
   ]
  },
  {
   "cell_type": "code",
   "execution_count": 14,
   "id": "e39b5e9c-6f37-4363-aed5-0081e277d0f1",
   "metadata": {
    "tags": []
   },
   "outputs": [
    {
     "data": {
      "text/plain": [
       "1004"
      ]
     },
     "execution_count": 14,
     "metadata": {},
     "output_type": "execute_result"
    }
   ],
   "source": [
    "cat_bb = cat.loc[cat.grade_new == 'BB']\n",
    "len(np.unique(cat_bb.evid.tolist()))"
   ]
  },
  {
   "cell_type": "code",
   "execution_count": 15,
   "id": "32eaa78d-6a7d-44bb-b861-db727f0e8836",
   "metadata": {
    "tags": []
   },
   "outputs": [
    {
     "data": {
      "text/plain": [
       "941"
      ]
     },
     "execution_count": 15,
     "metadata": {},
     "output_type": "execute_result"
    }
   ],
   "source": [
    "cat_cc = cat.loc[cat.grade_new == 'CC']\n",
    "len(np.unique(cat_cc.evid.tolist()))"
   ]
  },
  {
   "cell_type": "code",
   "execution_count": 16,
   "id": "57816330-fc6a-459b-9c44-e630bb88b372",
   "metadata": {
    "tags": []
   },
   "outputs": [
    {
     "data": {
      "text/plain": [
       "1281"
      ]
     },
     "execution_count": 16,
     "metadata": {},
     "output_type": "execute_result"
    }
   ],
   "source": [
    "cat_dd = cat.loc[cat.grade_new == 'DD']\n",
    "len(np.unique(cat_dd.evid.tolist()))"
   ]
  },
  {
   "cell_type": "code",
   "execution_count": 17,
   "id": "f7a376ed-229f-43f0-8e94-1df6261d0e3b",
   "metadata": {
    "tags": []
   },
   "outputs": [
    {
     "data": {
      "text/plain": [
       "3690"
      ]
     },
     "execution_count": 17,
     "metadata": {},
     "output_type": "execute_result"
    }
   ],
   "source": [
    "cat_ee = cat.loc[cat.grade_new == 'EE']\n",
    "len(np.unique(cat_ee.evid.tolist()))"
   ]
  },
  {
   "cell_type": "code",
   "execution_count": 18,
   "id": "c6171858-a897-4f46-8323-a25b5c735be6",
   "metadata": {
    "tags": []
   },
   "outputs": [
    {
     "data": {
      "text/plain": [
       "8101"
      ]
     },
     "execution_count": 18,
     "metadata": {},
     "output_type": "execute_result"
    }
   ],
   "source": [
    "len(np.unique(cat.evid.tolist())) - len(np.unique(cat_ee.evid.tolist()))"
   ]
  },
  {
   "cell_type": "markdown",
   "id": "52dcecd9-4bc6-4465-a049-05ea18c8db88",
   "metadata": {},
   "source": [
    "### Separately save high-quality detections"
   ]
  },
  {
   "cell_type": "code",
   "execution_count": 19,
   "id": "e580702a-47d8-46a3-98a2-c248467b5195",
   "metadata": {},
   "outputs": [],
   "source": [
    "cat_hq = cat.loc[cat.quality == 'HQ']\n",
    "cat_hq = cat_hq.reset_index()\n",
    "cat_hq.drop(list(cat_hq.filter(regex='Unnamed|index')), axis=1, inplace=True)\n",
    "cat_hq.to_csv(mqdir + 'A17_moonquakes_catalog_nodupes_HQ.csv')"
   ]
  }
 ],
 "metadata": {
  "kernelspec": {
   "display_name": "Python 3 (ipykernel)",
   "language": "python",
   "name": "python3"
  },
  "language_info": {
   "codemirror_mode": {
    "name": "ipython",
    "version": 3
   },
   "file_extension": ".py",
   "mimetype": "text/x-python",
   "name": "python",
   "nbconvert_exporter": "python",
   "pygments_lexer": "ipython3",
   "version": "3.7.16"
  }
 },
 "nbformat": 4,
 "nbformat_minor": 5
}
