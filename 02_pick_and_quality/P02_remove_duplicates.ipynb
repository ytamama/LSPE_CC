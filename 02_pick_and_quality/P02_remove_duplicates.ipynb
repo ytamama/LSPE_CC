{
 "cells": [
  {
   "cell_type": "markdown",
   "id": "efa34f44-de8f-4b81-93a0-d30abb71c29a",
   "metadata": {},
   "source": [
    "## Flag and remove duplicate events in the Grade A-D catalog\n",
    "\n",
    "### Import libraries"
   ]
  },
  {
   "cell_type": "code",
   "execution_count": 4,
   "id": "a0ba9681-d4f1-4701-8752-085e3fba7658",
   "metadata": {
    "tags": []
   },
   "outputs": [],
   "source": [
    "# Imports\n",
    "import pandas as pd\n",
    "from datetime import datetime, timedelta\n",
    "import numpy as np\n",
    "import os\n",
    "import glob\n",
    "import sys\n",
    "import random\n",
    "\n",
    "# Import functions\n",
    "sys.path.insert(0,'../functions/')\n",
    "from moon2data import *"
   ]
  },
  {
   "cell_type": "markdown",
   "id": "93ec3181-cddf-422d-8f93-f9081eee6c96",
   "metadata": {},
   "source": [
    "### Load catalog of Grade A through D moonquakes"
   ]
  },
  {
   "cell_type": "code",
   "execution_count": 5,
   "id": "49081bd3-2038-42fb-a204-e95f7aab37c3",
   "metadata": {},
   "outputs": [],
   "source": [
    "mqdir = '../catalogs/quality_control/'\n",
    "cat = pd.read_csv(mqdir + 'A17_moonquakes_catalog.csv')\n",
    "cat.drop(list(cat.filter(regex='Unnamed|index')), axis=1, inplace=True)"
   ]
  },
  {
   "cell_type": "markdown",
   "id": "7bf1541d-5d8c-429e-b718-51619c7bdcb9",
   "metadata": {},
   "source": [
    "### Flag detections with pick times within 30 seconds of each other"
   ]
  },
  {
   "cell_type": "code",
   "execution_count": 6,
   "id": "163ed873-e5f3-437d-9f18-405b07c08c14",
   "metadata": {},
   "outputs": [],
   "source": [
    "has_overlap = []\n",
    "for r in np.arange(0,len(cat)):\n",
    "    row = cat.iloc[r]\n",
    "    evid = row.evid\n",
    "    picktime = datetime.strptime(row.picktime, '%Y-%m-%d %H:%M:%S.%f')\n",
    "    starttime = picktime - timedelta(seconds = 30)\n",
    "    starttime_str = datetime.strftime(starttime, '%Y-%m-%d %H:%M:%S.%f')\n",
    "    endtime = picktime + timedelta(seconds = 30)\n",
    "    endtime_str = datetime.strftime(endtime, '%Y-%m-%d %H:%M:%S.%f')\n",
    "    rows_overlap = cat.loc[(cat.picktime >= starttime_str) & (cat.picktime <= endtime_str)]\n",
    "    rows_overlap = rows_overlap.loc[rows_overlap.evid != evid]\n",
    "    if len(rows_overlap) > 0:\n",
    "        has_overlap.append(1)\n",
    "    else:\n",
    "        has_overlap.append(0)"
   ]
  },
  {
   "cell_type": "code",
   "execution_count": null,
   "id": "5e0b22df-150a-4e50-ae01-29a0a9675481",
   "metadata": {},
   "outputs": [],
   "source": [
    "#cat['has_overlap'] = has_overlap\n",
    "#cat.to_csv(mqdir + 'A17_moonquakes_catalog.csv',index=False)"
   ]
  },
  {
   "cell_type": "code",
   "execution_count": 33,
   "id": "d2851933-9504-420a-bb66-2d3af063d000",
   "metadata": {
    "tags": []
   },
   "outputs": [
    {
     "data": {
      "text/plain": [
       "1178"
      ]
     },
     "execution_count": 33,
     "metadata": {},
     "output_type": "execute_result"
    }
   ],
   "source": [
    "cat_overlap = cat.loc[cat.has_overlap == 1]\n",
    "len(np.unique(cat_overlap.evid.tolist()))"
   ]
  },
  {
   "cell_type": "markdown",
   "id": "981b0c1d-80f8-4395-81c5-9cdfd3bb4d3d",
   "metadata": {},
   "source": [
    "### Assign group numbers"
   ]
  },
  {
   "cell_type": "code",
   "execution_count": 7,
   "id": "a9be67f8-d432-4a97-8ce0-b1b50232e0c6",
   "metadata": {
    "tags": []
   },
   "outputs": [],
   "source": [
    "# Events with overlap\n",
    "rows_overlap = cat.loc[cat.has_overlap == 1]\n",
    "rows_overlap = rows_overlap.sort_values(by=['picktime']).reset_index()\n",
    "\n",
    "# Keep group number until no longer overlapping with next event\n",
    "groupnum = 1\n",
    "groupnums = []\n",
    "for r in np.arange(0,len(rows_overlap)-1):\n",
    "    groupnums.append(groupnum)\n",
    "    \n",
    "    # Check if overlap with next event\n",
    "    row1 = rows_overlap.iloc[r]\n",
    "    picktime1 = datetime.strptime(row1.picktime, '%Y-%m-%d %H:%M:%S.%f')\n",
    "    row2 = rows_overlap.iloc[r+1]\n",
    "    picktime2 = datetime.strptime(row2.picktime, '%Y-%m-%d %H:%M:%S.%f')\n",
    "    deltat = (picktime2 - picktime1).total_seconds()\n",
    "    if deltat > 60:\n",
    "        groupnum += 1\n",
    "# \n",
    "groupnums.append(groupnum)"
   ]
  },
  {
   "cell_type": "code",
   "execution_count": 10,
   "id": "a1bf3c31-3d7f-4cbb-812d-d812149a59b4",
   "metadata": {
    "tags": []
   },
   "outputs": [],
   "source": [
    "# Assign group numbers to entire dataframe\n",
    "rows_overlap['group'] = groupnums\n",
    "groupnums_all = []\n",
    "for r in np.arange(0,len(cat)):\n",
    "    row = cat.iloc[r]\n",
    "    evid = row.evid\n",
    "    geonum = row.geophone\n",
    "    row_overlap = rows_overlap.loc[(rows_overlap.evid == evid) & (rows_overlap.geophone == geonum)]\n",
    "    if len(row_overlap) == 0:\n",
    "        groupnums_all.append(0)\n",
    "    else:\n",
    "        row_overlap = row_overlap.iloc[0]\n",
    "        groupnums_all.append(row_overlap.group)"
   ]
  },
  {
   "cell_type": "code",
   "execution_count": 10,
   "id": "988a4037-2fda-4a0d-bf9f-7a45d9c691af",
   "metadata": {
    "tags": []
   },
   "outputs": [],
   "source": [
    "cat['group'] = groupnums_all\n",
    "#cat.to_csv(mqdir + 'A17_moonquakes_catalog.csv',index=False)"
   ]
  },
  {
   "cell_type": "markdown",
   "id": "60575c58-9f8a-49c9-a273-e25f48b03ed1",
   "metadata": {},
   "source": [
    "### Remove duplicates, keeping higher-grade events"
   ]
  },
  {
   "cell_type": "code",
   "execution_count": 75,
   "id": "b8d8cd78-b253-44a4-b976-ee918c4d02b2",
   "metadata": {},
   "outputs": [],
   "source": [
    "evids_keep = []\n",
    "evids_toss = []\n",
    "for groupnum in groupnums:\n",
    "    rows = cat.loc[cat.group == groupnum]\n",
    "    rows = rows.sort_values(by=['grade'])\n",
    "    evid_keep = rows.evid.tolist()[0]\n",
    "    rows_toss = rows.loc[rows.evid != evid_keep]\n",
    "    evids_keep.append(evid_keep)\n",
    "    toss = rows_toss.evid.tolist()\n",
    "    evids_toss = np.concatenate([evids_toss,toss])"
   ]
  },
  {
   "cell_type": "code",
   "execution_count": 76,
   "id": "e836050c-8ec8-4944-bdbd-4d89a7a2f860",
   "metadata": {
    "tags": []
   },
   "outputs": [
    {
     "data": {
      "text/plain": [
       "1178"
      ]
     },
     "execution_count": 76,
     "metadata": {},
     "output_type": "execute_result"
    }
   ],
   "source": [
    "combined_list = np.concatenate([evids_toss,evids_keep])\n",
    "len(np.unique(combined_list))"
   ]
  },
  {
   "cell_type": "code",
   "execution_count": 77,
   "id": "35223266-ccef-47e5-a851-8e35120e642d",
   "metadata": {
    "tags": []
   },
   "outputs": [
    {
     "data": {
      "text/plain": [
       "294"
      ]
     },
     "execution_count": 77,
     "metadata": {},
     "output_type": "execute_result"
    }
   ],
   "source": [
    "12085-11791"
   ]
  },
  {
   "cell_type": "code",
   "execution_count": 78,
   "id": "0c83154c-47f6-4ff0-9728-4fc015124e6c",
   "metadata": {
    "tags": []
   },
   "outputs": [
    {
     "data": {
      "text/plain": [
       "0.9756723210591642"
      ]
     },
     "execution_count": 78,
     "metadata": {},
     "output_type": "execute_result"
    }
   ],
   "source": [
    "11791/12085"
   ]
  },
  {
   "cell_type": "code",
   "execution_count": null,
   "id": "9e33ae10-bc30-4499-a7ab-b5d2b6e35dee",
   "metadata": {},
   "outputs": [],
   "source": []
  },
  {
   "cell_type": "code",
   "execution_count": null,
   "id": "e89f35f7-be82-4559-97f2-64baa0e9f338",
   "metadata": {},
   "outputs": [],
   "source": []
  },
  {
   "cell_type": "code",
   "execution_count": null,
   "id": "ef99fbe7-7741-423f-bf83-1a9bdfa2e23f",
   "metadata": {},
   "outputs": [],
   "source": []
  },
  {
   "cell_type": "code",
   "execution_count": null,
   "id": "b3d248d3-6799-452f-b026-e5608887e5c2",
   "metadata": {},
   "outputs": [],
   "source": []
  },
  {
   "cell_type": "code",
   "execution_count": null,
   "id": "b9b6e847-dd8f-43f0-850d-fe7c0c6457a3",
   "metadata": {},
   "outputs": [],
   "source": []
  },
  {
   "cell_type": "code",
   "execution_count": null,
   "id": "23c8be32-ceaa-4e22-9350-a3e7e21a78af",
   "metadata": {},
   "outputs": [],
   "source": []
  },
  {
   "cell_type": "code",
   "execution_count": 63,
   "id": "e2a7327a-abed-4b79-becd-f7265d8a30dd",
   "metadata": {
    "tags": []
   },
   "outputs": [
    {
     "data": {
      "text/plain": [
       "1178"
      ]
     },
     "execution_count": 63,
     "metadata": {},
     "output_type": "execute_result"
    }
   ],
   "source": [
    "cat_overlap = cat.loc[cat.has_overlap == 1]\n",
    "len(np.unique(cat_overlap.evid.tolist()))"
   ]
  },
  {
   "cell_type": "code",
   "execution_count": 61,
   "id": "5920db89-fa00-4acf-a562-e71715ea889b",
   "metadata": {
    "tags": []
   },
   "outputs": [
    {
     "data": {
      "text/plain": [
       "2"
      ]
     },
     "execution_count": 61,
     "metadata": {},
     "output_type": "execute_result"
    }
   ],
   "source": [
    "groupnum = 5\n",
    "rows = cat.loc[cat.group == groupnum]\n",
    "rows = rows.sort_values(by=['grade'])\n",
    "evid_keep = rows.evid.tolist()[0]\n",
    "len(np.unique(rows.evid.tolist()))\n",
    "rows_toss = rows.loc[rows.evid != evid_keep]\n",
    "toss = rows_toss.evid.tolist()\n",
    "len(np.unique(toss))"
   ]
  },
  {
   "cell_type": "code",
   "execution_count": null,
   "id": "3659bb01-705a-48f9-8075-92089a47c79e",
   "metadata": {},
   "outputs": [],
   "source": []
  },
  {
   "cell_type": "code",
   "execution_count": 46,
   "id": "c2dae438-447a-4963-9cf3-6e5546585cc2",
   "metadata": {
    "tags": []
   },
   "outputs": [
    {
     "data": {
      "text/plain": [
       "'770424-15-N3'"
      ]
     },
     "execution_count": 46,
     "metadata": {},
     "output_type": "execute_result"
    }
   ],
   "source": [
    "evid_keep"
   ]
  },
  {
   "cell_type": "code",
   "execution_count": 48,
   "id": "afebe770-278e-4fa0-a5d2-5a1881e42671",
   "metadata": {
    "tags": []
   },
   "outputs": [
    {
     "data": {
      "text/plain": [
       "['770424-15-N1', '770424-15-N1', '770424-15-N1', '770424-15-N1']"
      ]
     },
     "execution_count": 48,
     "metadata": {},
     "output_type": "execute_result"
    }
   ],
   "source": [
    "toss"
   ]
  },
  {
   "cell_type": "code",
   "execution_count": null,
   "id": "9dbef9e2-dd21-4b17-92fd-97fe3f62ed23",
   "metadata": {},
   "outputs": [],
   "source": []
  },
  {
   "cell_type": "code",
   "execution_count": null,
   "id": "72b7f28e-5215-4044-9c22-0c8b2ea537c6",
   "metadata": {},
   "outputs": [],
   "source": []
  },
  {
   "cell_type": "code",
   "execution_count": 41,
   "id": "40670804-4fe8-4c76-9c75-e3f1a75ad129",
   "metadata": {
    "tags": []
   },
   "outputs": [
    {
     "data": {
      "text/plain": [
       "581"
      ]
     },
     "execution_count": 41,
     "metadata": {},
     "output_type": "execute_result"
    }
   ],
   "source": [
    "max(groupnums)"
   ]
  },
  {
   "cell_type": "code",
   "execution_count": 38,
   "id": "b93432b7-9588-43fc-88e8-4eb80a4081c9",
   "metadata": {
    "tags": []
   },
   "outputs": [
    {
     "data": {
      "text/plain": [
       "606"
      ]
     },
     "execution_count": 38,
     "metadata": {},
     "output_type": "execute_result"
    }
   ],
   "source": [
    "len(np.unique(evids_toss))"
   ]
  },
  {
   "cell_type": "code",
   "execution_count": 39,
   "id": "656b1a5e-4ecd-403b-8228-0ffb0005c68f",
   "metadata": {
    "tags": []
   },
   "outputs": [
    {
     "data": {
      "text/plain": [
       "1185"
      ]
     },
     "execution_count": 39,
     "metadata": {},
     "output_type": "execute_result"
    }
   ],
   "source": [
    "len(np.unique(evids_toss)) + len(np.unique(evids_keep))"
   ]
  },
  {
   "cell_type": "code",
   "execution_count": null,
   "id": "5f0d4075-5d3a-4c60-b157-f75b5e064f77",
   "metadata": {},
   "outputs": [],
   "source": []
  },
  {
   "cell_type": "code",
   "execution_count": 18,
   "id": "ee83ea66-e57a-46c8-a0ea-d24cd3cae873",
   "metadata": {},
   "outputs": [],
   "source": [
    "cat_nodupes = cat.loc[(cat.evid.isin(evids_keep)) | (cat.has_overlap == 0)]\n",
    "cat_nodupes = cat_nodupes.reset_index()\n",
    "cat_nodupes.drop(list(cat_nodupes.filter(regex='Unnamed|index|has_overlap|group')), axis=1, inplace=True)\n",
    "#cat_nodupes.to_csv(mqdir + 'A17_moonquakes_catalog_nodupes.csv',index=False)"
   ]
  },
  {
   "cell_type": "code",
   "execution_count": 19,
   "id": "46ec6435-79cc-414e-83a2-315f085b27bd",
   "metadata": {},
   "outputs": [
    {
     "data": {
      "text/plain": [
       "11791"
      ]
     },
     "execution_count": 19,
     "metadata": {},
     "output_type": "execute_result"
    }
   ],
   "source": [
    "len(np.unique(cat_nodupes.evid.tolist()))"
   ]
  },
  {
   "cell_type": "code",
   "execution_count": 20,
   "id": "845dca27-1aa6-4374-b6bb-8fd723d2d730",
   "metadata": {
    "tags": []
   },
   "outputs": [
    {
     "data": {
      "text/plain": [
       "294"
      ]
     },
     "execution_count": 20,
     "metadata": {},
     "output_type": "execute_result"
    }
   ],
   "source": [
    "12085-11791"
   ]
  },
  {
   "cell_type": "code",
   "execution_count": 24,
   "id": "ed40fc66-5e59-496b-9fbc-19ff33d9aff6",
   "metadata": {
    "tags": []
   },
   "outputs": [
    {
     "data": {
      "text/plain": [
       "11791"
      ]
     },
     "execution_count": 24,
     "metadata": {},
     "output_type": "execute_result"
    }
   ],
   "source": [
    "len(np.unique(cat_nodupes.evid.tolist()))"
   ]
  },
  {
   "cell_type": "code",
   "execution_count": null,
   "id": "9d9fb1b1-fa15-477e-a3a8-597f10349ffd",
   "metadata": {},
   "outputs": [],
   "source": []
  }
 ],
 "metadata": {
  "kernelspec": {
   "display_name": "Python 3 (ipykernel)",
   "language": "python",
   "name": "python3"
  },
  "language_info": {
   "codemirror_mode": {
    "name": "ipython",
    "version": 3
   },
   "file_extension": ".py",
   "mimetype": "text/x-python",
   "name": "python",
   "nbconvert_exporter": "python",
   "pygments_lexer": "ipython3",
   "version": "3.7.16"
  }
 },
 "nbformat": 4,
 "nbformat_minor": 5
}
