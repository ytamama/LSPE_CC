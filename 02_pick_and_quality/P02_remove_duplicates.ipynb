{
 "cells": [
  {
   "cell_type": "markdown",
   "id": "efa34f44-de8f-4b81-93a0-d30abb71c29a",
   "metadata": {},
   "source": [
    "## Flag and remove duplicate events in the Grade A-D catalog\n",
    "\n",
    "### Import libraries"
   ]
  },
  {
   "cell_type": "code",
   "execution_count": 4,
   "id": "a0ba9681-d4f1-4701-8752-085e3fba7658",
   "metadata": {
    "tags": []
   },
   "outputs": [],
   "source": [
    "# Imports\n",
    "import pandas as pd\n",
    "from datetime import datetime, timedelta\n",
    "import numpy as np\n",
    "import os\n",
    "import glob\n",
    "import sys\n",
    "import random\n",
    "\n",
    "# Import functions\n",
    "sys.path.insert(0,'../functions/')\n",
    "from moon2data import *"
   ]
  },
  {
   "cell_type": "markdown",
   "id": "93ec3181-cddf-422d-8f93-f9081eee6c96",
   "metadata": {},
   "source": [
    "### Load catalog of Grade A through D moonquakes"
   ]
  },
  {
   "cell_type": "code",
   "execution_count": 5,
   "id": "49081bd3-2038-42fb-a204-e95f7aab37c3",
   "metadata": {},
   "outputs": [],
   "source": [
    "mqdir = '../catalogs/quality_control/'\n",
    "cat = pd.read_csv(mqdir + 'A17_moonquakes_catalog.csv')\n",
    "cat.drop(list(cat.filter(regex='Unnamed|index')), axis=1, inplace=True)"
   ]
  },
  {
   "cell_type": "markdown",
   "id": "7bf1541d-5d8c-429e-b718-51619c7bdcb9",
   "metadata": {},
   "source": [
    "### Flag detections with pick times within 30 seconds of each other"
   ]
  },
  {
   "cell_type": "code",
   "execution_count": 6,
   "id": "163ed873-e5f3-437d-9f18-405b07c08c14",
   "metadata": {},
   "outputs": [],
   "source": [
    "has_overlap = []\n",
    "for r in np.arange(0,len(cat)):\n",
    "    row = cat.iloc[r]\n",
    "    evid = row.evid\n",
    "    picktime = datetime.strptime(row.picktime, '%Y-%m-%d %H:%M:%S.%f')\n",
    "    starttime = picktime - timedelta(seconds = 30)\n",
    "    starttime_str = datetime.strftime(starttime, '%Y-%m-%d %H:%M:%S.%f')\n",
    "    endtime = picktime + timedelta(seconds = 30)\n",
    "    endtime_str = datetime.strftime(endtime, '%Y-%m-%d %H:%M:%S.%f')\n",
    "    rows_overlap = cat.loc[(cat.picktime >= starttime_str) & (cat.picktime <= endtime_str)]\n",
    "    rows_overlap = rows_overlap.loc[rows_overlap.evid != evid]\n",
    "    if len(rows_overlap) > 0:\n",
    "        has_overlap.append(1)\n",
    "    else:\n",
    "        has_overlap.append(0)"
   ]
  },
  {
   "cell_type": "code",
   "execution_count": null,
   "id": "5e0b22df-150a-4e50-ae01-29a0a9675481",
   "metadata": {},
   "outputs": [],
   "source": [
    "cat['has_overlap'] = has_overlap\n",
    "cat.to_csv(mqdir + 'A17_moonquakes_catalog.csv',index=False)"
   ]
  },
  {
   "cell_type": "markdown",
   "id": "981b0c1d-80f8-4395-81c5-9cdfd3bb4d3d",
   "metadata": {},
   "source": [
    "### Assign group numbers"
   ]
  },
  {
   "cell_type": "code",
   "execution_count": 7,
   "id": "a9be67f8-d432-4a97-8ce0-b1b50232e0c6",
   "metadata": {
    "tags": []
   },
   "outputs": [],
   "source": [
    "# Events with overlap\n",
    "rows_overlap = cat.loc[cat.has_overlap == 1]\n",
    "rows_overlap = rows_overlap.sort_values(by=['picktime']).reset_index()\n",
    "\n",
    "# Keep group number until no longer overlapping with next event\n",
    "groupnum = 1\n",
    "groupnums = []\n",
    "for r in np.arange(0,len(rows_overlap)-1):\n",
    "    groupnums.append(groupnum)\n",
    "    \n",
    "    # Check if overlap with next event\n",
    "    row1 = rows_overlap.iloc[r]\n",
    "    picktime1 = datetime.strptime(row1.picktime, '%Y-%m-%d %H:%M:%S.%f')\n",
    "    row2 = rows_overlap.iloc[r+1]\n",
    "    picktime2 = datetime.strptime(row2.picktime, '%Y-%m-%d %H:%M:%S.%f')\n",
    "    deltat = (picktime2 - picktime1).total_seconds()\n",
    "    if deltat > 60:\n",
    "        groupnum += 1\n",
    "# \n",
    "groupnums.append(groupnum)"
   ]
  },
  {
   "cell_type": "code",
   "execution_count": 10,
   "id": "a1bf3c31-3d7f-4cbb-812d-d812149a59b4",
   "metadata": {
    "tags": []
   },
   "outputs": [],
   "source": [
    "# Assign group numbers to entire dataframe\n",
    "rows_overlap['group'] = groupnums\n",
    "groupnums_all = []\n",
    "for r in np.arange(0,len(cat)):\n",
    "    row = cat.iloc[r]\n",
    "    evid = row.evid\n",
    "    geonum = row.geophone\n",
    "    row_overlap = rows_overlap.loc[(rows_overlap.evid == evid) & (rows_overlap.geophone == geonum)]\n",
    "    if len(row_overlap) == 0:\n",
    "        groupnums_all.append(0)\n",
    "    else:\n",
    "        row_overlap = row_overlap.iloc[0]\n",
    "        groupnums_all.append(row_overlap.group)"
   ]
  },
  {
   "cell_type": "code",
   "execution_count": 10,
   "id": "988a4037-2fda-4a0d-bf9f-7a45d9c691af",
   "metadata": {
    "tags": []
   },
   "outputs": [],
   "source": [
    "cat['group'] = groupnums_all\n",
    "cat.to_csv(mqdir + 'A17_moonquakes_catalog.csv',index=False)"
   ]
  },
  {
   "cell_type": "markdown",
   "id": "60575c58-9f8a-49c9-a273-e25f48b03ed1",
   "metadata": {},
   "source": [
    "### Remove duplicates, keeping higher-grade events"
   ]
  },
  {
   "cell_type": "code",
   "execution_count": 75,
   "id": "b8d8cd78-b253-44a4-b976-ee918c4d02b2",
   "metadata": {},
   "outputs": [],
   "source": [
    "evids_keep = []\n",
    "evids_toss = []\n",
    "for groupnum in groupnums:\n",
    "    rows = cat.loc[cat.group == groupnum]\n",
    "    rows = rows.sort_values(by=['grade'])\n",
    "    evid_keep = rows.evid.tolist()[0]\n",
    "    rows_toss = rows.loc[rows.evid != evid_keep]\n",
    "    evids_keep.append(evid_keep)\n",
    "    toss = rows_toss.evid.tolist()\n",
    "    evids_toss = np.concatenate([evids_toss,toss])"
   ]
  },
  {
   "cell_type": "code",
   "execution_count": 18,
   "id": "ee83ea66-e57a-46c8-a0ea-d24cd3cae873",
   "metadata": {},
   "outputs": [],
   "source": [
    "cat_nodupes = cat.loc[(cat.evid.isin(evids_keep)) | (cat.has_overlap == 0)]\n",
    "cat_nodupes = cat_nodupes.reset_index()\n",
    "cat_nodupes.drop(list(cat_nodupes.filter(regex='Unnamed|index|has_overlap|group')), axis=1, inplace=True)\n",
    "cat_nodupes.to_csv(mqdir + 'A17_moonquakes_catalog_nodupes.csv',index=False)"
   ]
  }
 ],
 "metadata": {
  "kernelspec": {
   "display_name": "Python 3 (ipykernel)",
   "language": "python",
   "name": "python3"
  },
  "language_info": {
   "codemirror_mode": {
    "name": "ipython",
    "version": 3
   },
   "file_extension": ".py",
   "mimetype": "text/x-python",
   "name": "python",
   "nbconvert_exporter": "python",
   "pygments_lexer": "ipython3",
   "version": "3.7.16"
  }
 },
 "nbformat": 4,
 "nbformat_minor": 5
}
